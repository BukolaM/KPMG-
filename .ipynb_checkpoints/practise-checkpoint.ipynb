{
 "cells": [
  {
   "cell_type": "code",
   "execution_count": 61,
   "id": "e35beb3e",
   "metadata": {},
   "outputs": [],
   "source": [
    "import pandas as pd\n",
    "import re\n",
    "\n",
    "import matplotlib.pyplot as plt\n",
    "\n",
    "\n",
    "# pd.set_option('display.max_columns', None)  "
   ]
  },
  {
   "cell_type": "code",
   "execution_count": 62,
   "id": "0788680b",
   "metadata": {
    "scrolled": true
   },
   "outputs": [
    {
     "data": {
      "text/html": [
       "<div>\n",
       "<style scoped>\n",
       "    .dataframe tbody tr th:only-of-type {\n",
       "        vertical-align: middle;\n",
       "    }\n",
       "\n",
       "    .dataframe tbody tr th {\n",
       "        vertical-align: top;\n",
       "    }\n",
       "\n",
       "    .dataframe thead th {\n",
       "        text-align: right;\n",
       "    }\n",
       "</style>\n",
       "<table border=\"1\" class=\"dataframe\">\n",
       "  <thead>\n",
       "    <tr style=\"text-align: right;\">\n",
       "      <th></th>\n",
       "      <th>MOVIES</th>\n",
       "      <th>YEAR</th>\n",
       "      <th>GENRE</th>\n",
       "      <th>RATING</th>\n",
       "      <th>ONE-LINE</th>\n",
       "      <th>STARS</th>\n",
       "      <th>VOTES</th>\n",
       "      <th>RunTime</th>\n",
       "      <th>Gross</th>\n",
       "    </tr>\n",
       "  </thead>\n",
       "  <tbody>\n",
       "    <tr>\n",
       "      <th>0</th>\n",
       "      <td>Blood Red Sky</td>\n",
       "      <td>(2021)</td>\n",
       "      <td>\\nAction, Horror, Thriller</td>\n",
       "      <td>6.1</td>\n",
       "      <td>\\nA woman with a mysterious illness is forced ...</td>\n",
       "      <td>\\n    Director:\\nPeter Thorwarth\\n| \\n    Star...</td>\n",
       "      <td>21,062</td>\n",
       "      <td>121.0</td>\n",
       "      <td>NaN</td>\n",
       "    </tr>\n",
       "    <tr>\n",
       "      <th>1</th>\n",
       "      <td>Masters of the Universe: Revelation</td>\n",
       "      <td>(2021– )</td>\n",
       "      <td>\\nAnimation, Action, Adventure</td>\n",
       "      <td>5.0</td>\n",
       "      <td>\\nThe war for Eternia begins again in what may...</td>\n",
       "      <td>\\n            \\n    Stars:\\nChris Wood, \\nSara...</td>\n",
       "      <td>17,870</td>\n",
       "      <td>25.0</td>\n",
       "      <td>NaN</td>\n",
       "    </tr>\n",
       "    <tr>\n",
       "      <th>2</th>\n",
       "      <td>The Walking Dead</td>\n",
       "      <td>(2010–2022)</td>\n",
       "      <td>\\nDrama, Horror, Thriller</td>\n",
       "      <td>8.2</td>\n",
       "      <td>\\nSheriff Deputy Rick Grimes wakes up from a c...</td>\n",
       "      <td>\\n            \\n    Stars:\\nAndrew Lincoln, \\n...</td>\n",
       "      <td>885,805</td>\n",
       "      <td>44.0</td>\n",
       "      <td>NaN</td>\n",
       "    </tr>\n",
       "    <tr>\n",
       "      <th>3</th>\n",
       "      <td>Rick and Morty</td>\n",
       "      <td>(2013– )</td>\n",
       "      <td>\\nAnimation, Adventure, Comedy</td>\n",
       "      <td>9.2</td>\n",
       "      <td>\\nAn animated series that follows the exploits...</td>\n",
       "      <td>\\n            \\n    Stars:\\nJustin Roiland, \\n...</td>\n",
       "      <td>414,849</td>\n",
       "      <td>23.0</td>\n",
       "      <td>NaN</td>\n",
       "    </tr>\n",
       "    <tr>\n",
       "      <th>4</th>\n",
       "      <td>Army of Thieves</td>\n",
       "      <td>(2021)</td>\n",
       "      <td>\\nAction, Crime, Horror</td>\n",
       "      <td>NaN</td>\n",
       "      <td>\\nA prequel, set before the events of Army of ...</td>\n",
       "      <td>\\n    Director:\\nMatthias Schweighöfer\\n| \\n  ...</td>\n",
       "      <td>NaN</td>\n",
       "      <td>NaN</td>\n",
       "      <td>NaN</td>\n",
       "    </tr>\n",
       "  </tbody>\n",
       "</table>\n",
       "</div>"
      ],
      "text/plain": [
       "                                MOVIES         YEAR  \\\n",
       "0                        Blood Red Sky       (2021)   \n",
       "1  Masters of the Universe: Revelation     (2021– )   \n",
       "2                     The Walking Dead  (2010–2022)   \n",
       "3                       Rick and Morty     (2013– )   \n",
       "4                      Army of Thieves       (2021)   \n",
       "\n",
       "                                        GENRE  RATING  \\\n",
       "0      \\nAction, Horror, Thriller                 6.1   \n",
       "1  \\nAnimation, Action, Adventure                 5.0   \n",
       "2       \\nDrama, Horror, Thriller                 8.2   \n",
       "3  \\nAnimation, Adventure, Comedy                 9.2   \n",
       "4         \\nAction, Crime, Horror                 NaN   \n",
       "\n",
       "                                            ONE-LINE  \\\n",
       "0  \\nA woman with a mysterious illness is forced ...   \n",
       "1  \\nThe war for Eternia begins again in what may...   \n",
       "2  \\nSheriff Deputy Rick Grimes wakes up from a c...   \n",
       "3  \\nAn animated series that follows the exploits...   \n",
       "4  \\nA prequel, set before the events of Army of ...   \n",
       "\n",
       "                                               STARS    VOTES  RunTime Gross  \n",
       "0  \\n    Director:\\nPeter Thorwarth\\n| \\n    Star...   21,062    121.0   NaN  \n",
       "1  \\n            \\n    Stars:\\nChris Wood, \\nSara...   17,870     25.0   NaN  \n",
       "2  \\n            \\n    Stars:\\nAndrew Lincoln, \\n...  885,805     44.0   NaN  \n",
       "3  \\n            \\n    Stars:\\nJustin Roiland, \\n...  414,849     23.0   NaN  \n",
       "4  \\n    Director:\\nMatthias Schweighöfer\\n| \\n  ...      NaN      NaN   NaN  "
      ]
     },
     "execution_count": 62,
     "metadata": {},
     "output_type": "execute_result"
    }
   ],
   "source": [
    "df = pd.read_csv('movies_data.csv')\n",
    "df.head()"
   ]
  },
  {
   "cell_type": "code",
   "execution_count": 63,
   "id": "9025ffec",
   "metadata": {
    "scrolled": true
   },
   "outputs": [
    {
     "name": "stdout",
     "output_type": "stream",
     "text": [
      "<class 'pandas.core.frame.DataFrame'>\n",
      "RangeIndex: 9999 entries, 0 to 9998\n",
      "Data columns (total 9 columns):\n",
      " #   Column    Non-Null Count  Dtype  \n",
      "---  ------    --------------  -----  \n",
      " 0   MOVIES    9999 non-null   object \n",
      " 1   YEAR      9355 non-null   object \n",
      " 2   GENRE     9919 non-null   object \n",
      " 3   RATING    8179 non-null   float64\n",
      " 4   ONE-LINE  9999 non-null   object \n",
      " 5   STARS     9999 non-null   object \n",
      " 6   VOTES     8179 non-null   object \n",
      " 7   RunTime   7041 non-null   float64\n",
      " 8   Gross     460 non-null    object \n",
      "dtypes: float64(2), object(7)\n",
      "memory usage: 703.2+ KB\n"
     ]
    }
   ],
   "source": [
    "df.info()"
   ]
  },
  {
   "cell_type": "code",
   "execution_count": 64,
   "id": "066801fc",
   "metadata": {
    "scrolled": true
   },
   "outputs": [],
   "source": [
    "# df.describe()"
   ]
  },
  {
   "cell_type": "code",
   "execution_count": 65,
   "id": "8726f179",
   "metadata": {},
   "outputs": [],
   "source": [
    "# df.nunique()"
   ]
  },
  {
   "cell_type": "code",
   "execution_count": 66,
   "id": "d0401a8d",
   "metadata": {
    "scrolled": true
   },
   "outputs": [],
   "source": [
    "# df.isna().sum()"
   ]
  },
  {
   "cell_type": "code",
   "execution_count": 67,
   "id": "8fe4c830",
   "metadata": {},
   "outputs": [],
   "source": [
    "# df.shape"
   ]
  },
  {
   "cell_type": "code",
   "execution_count": 68,
   "id": "9e0b4d47",
   "metadata": {},
   "outputs": [],
   "source": [
    "# df.columns"
   ]
  },
  {
   "cell_type": "code",
   "execution_count": 69,
   "id": "d087ace3",
   "metadata": {
    "scrolled": false
   },
   "outputs": [
    {
     "data": {
      "text/plain": [
       "Index(['movies', 'year', 'genre', 'rating', 'one-line', 'stars', 'votes',\n",
       "       'runtime', 'gross'],\n",
       "      dtype='object')"
      ]
     },
     "execution_count": 69,
     "metadata": {},
     "output_type": "execute_result"
    }
   ],
   "source": [
    "# Converting all the header name into lower case\n",
    "df.columns = [x.lower() for x in df.columns]\n",
    "df.columns\n"
   ]
  },
  {
   "cell_type": "code",
   "execution_count": null,
   "id": "e6a17a71",
   "metadata": {
    "scrolled": true
   },
   "outputs": [],
   "source": []
  },
  {
   "cell_type": "markdown",
   "id": "9d2aeeb1",
   "metadata": {},
   "source": [
    "## Data Cleaning"
   ]
  },
  {
   "cell_type": "code",
   "execution_count": 75,
   "id": "869494b3",
   "metadata": {},
   "outputs": [
    {
     "data": {
      "text/html": [
       "<div>\n",
       "<style scoped>\n",
       "    .dataframe tbody tr th:only-of-type {\n",
       "        vertical-align: middle;\n",
       "    }\n",
       "\n",
       "    .dataframe tbody tr th {\n",
       "        vertical-align: top;\n",
       "    }\n",
       "\n",
       "    .dataframe thead th {\n",
       "        text-align: right;\n",
       "    }\n",
       "</style>\n",
       "<table border=\"1\" class=\"dataframe\">\n",
       "  <thead>\n",
       "    <tr style=\"text-align: right;\">\n",
       "      <th></th>\n",
       "      <th>movies</th>\n",
       "      <th>year</th>\n",
       "      <th>genre</th>\n",
       "      <th>rating</th>\n",
       "      <th>one-line</th>\n",
       "      <th>stars</th>\n",
       "      <th>votes</th>\n",
       "      <th>runtime</th>\n",
       "      <th>gross</th>\n",
       "      <th>movies_g</th>\n",
       "      <th>oneline</th>\n",
       "    </tr>\n",
       "  </thead>\n",
       "  <tbody>\n",
       "    <tr>\n",
       "      <th>0</th>\n",
       "      <td>Blood Red Sky</td>\n",
       "      <td>(2021)</td>\n",
       "      <td>\\nAction, Horror, Thriller</td>\n",
       "      <td>6.1</td>\n",
       "      <td>\\nA woman with a mysterious illness is forced ...</td>\n",
       "      <td>\\n    Director:\\nPeter Thorwarth\\n| \\n    Star...</td>\n",
       "      <td>21,062</td>\n",
       "      <td>121.0</td>\n",
       "      <td>NaN</td>\n",
       "      <td>Action,Horror,Thriller</td>\n",
       "      <td>A woman with a mysterious illness is forced in...</td>\n",
       "    </tr>\n",
       "    <tr>\n",
       "      <th>1</th>\n",
       "      <td>Masters of the Universe: Revelation</td>\n",
       "      <td>(2021– )</td>\n",
       "      <td>\\nAnimation, Action, Adventure</td>\n",
       "      <td>5.0</td>\n",
       "      <td>\\nThe war for Eternia begins again in what may...</td>\n",
       "      <td>\\n            \\n    Stars:\\nChris Wood, \\nSara...</td>\n",
       "      <td>17,870</td>\n",
       "      <td>25.0</td>\n",
       "      <td>NaN</td>\n",
       "      <td>Animation,Action,Adventure</td>\n",
       "      <td>The war for Eternia begins again in what may b...</td>\n",
       "    </tr>\n",
       "    <tr>\n",
       "      <th>2</th>\n",
       "      <td>The Walking Dead</td>\n",
       "      <td>(2010–2022)</td>\n",
       "      <td>\\nDrama, Horror, Thriller</td>\n",
       "      <td>8.2</td>\n",
       "      <td>\\nSheriff Deputy Rick Grimes wakes up from a c...</td>\n",
       "      <td>\\n            \\n    Stars:\\nAndrew Lincoln, \\n...</td>\n",
       "      <td>885,805</td>\n",
       "      <td>44.0</td>\n",
       "      <td>NaN</td>\n",
       "      <td>Drama,Horror,Thriller</td>\n",
       "      <td>Sheriff Deputy Rick Grimes wakes up from a com...</td>\n",
       "    </tr>\n",
       "    <tr>\n",
       "      <th>3</th>\n",
       "      <td>Rick and Morty</td>\n",
       "      <td>(2013– )</td>\n",
       "      <td>\\nAnimation, Adventure, Comedy</td>\n",
       "      <td>9.2</td>\n",
       "      <td>\\nAn animated series that follows the exploits...</td>\n",
       "      <td>\\n            \\n    Stars:\\nJustin Roiland, \\n...</td>\n",
       "      <td>414,849</td>\n",
       "      <td>23.0</td>\n",
       "      <td>NaN</td>\n",
       "      <td>Animation,Adventure,Comedy</td>\n",
       "      <td>An animated series that follows the exploits o...</td>\n",
       "    </tr>\n",
       "    <tr>\n",
       "      <th>4</th>\n",
       "      <td>Army of Thieves</td>\n",
       "      <td>(2021)</td>\n",
       "      <td>\\nAction, Crime, Horror</td>\n",
       "      <td>NaN</td>\n",
       "      <td>\\nA prequel, set before the events of Army of ...</td>\n",
       "      <td>\\n    Director:\\nMatthias Schweighöfer\\n| \\n  ...</td>\n",
       "      <td>NaN</td>\n",
       "      <td>NaN</td>\n",
       "      <td>NaN</td>\n",
       "      <td>Action,Crime,Horror</td>\n",
       "      <td>A prequel, set before the events of Army of th...</td>\n",
       "    </tr>\n",
       "  </tbody>\n",
       "</table>\n",
       "</div>"
      ],
      "text/plain": [
       "                                movies         year  \\\n",
       "0                        Blood Red Sky       (2021)   \n",
       "1  Masters of the Universe: Revelation     (2021– )   \n",
       "2                     The Walking Dead  (2010–2022)   \n",
       "3                       Rick and Morty     (2013– )   \n",
       "4                      Army of Thieves       (2021)   \n",
       "\n",
       "                                        genre  rating  \\\n",
       "0      \\nAction, Horror, Thriller                 6.1   \n",
       "1  \\nAnimation, Action, Adventure                 5.0   \n",
       "2       \\nDrama, Horror, Thriller                 8.2   \n",
       "3  \\nAnimation, Adventure, Comedy                 9.2   \n",
       "4         \\nAction, Crime, Horror                 NaN   \n",
       "\n",
       "                                            one-line  \\\n",
       "0  \\nA woman with a mysterious illness is forced ...   \n",
       "1  \\nThe war for Eternia begins again in what may...   \n",
       "2  \\nSheriff Deputy Rick Grimes wakes up from a c...   \n",
       "3  \\nAn animated series that follows the exploits...   \n",
       "4  \\nA prequel, set before the events of Army of ...   \n",
       "\n",
       "                                               stars    votes  runtime gross  \\\n",
       "0  \\n    Director:\\nPeter Thorwarth\\n| \\n    Star...   21,062    121.0   NaN   \n",
       "1  \\n            \\n    Stars:\\nChris Wood, \\nSara...   17,870     25.0   NaN   \n",
       "2  \\n            \\n    Stars:\\nAndrew Lincoln, \\n...  885,805     44.0   NaN   \n",
       "3  \\n            \\n    Stars:\\nJustin Roiland, \\n...  414,849     23.0   NaN   \n",
       "4  \\n    Director:\\nMatthias Schweighöfer\\n| \\n  ...      NaN      NaN   NaN   \n",
       "\n",
       "                     movies_g  \\\n",
       "0      Action,Horror,Thriller   \n",
       "1  Animation,Action,Adventure   \n",
       "2       Drama,Horror,Thriller   \n",
       "3  Animation,Adventure,Comedy   \n",
       "4         Action,Crime,Horror   \n",
       "\n",
       "                                             oneline  \n",
       "0  A woman with a mysterious illness is forced in...  \n",
       "1  The war for Eternia begins again in what may b...  \n",
       "2  Sheriff Deputy Rick Grimes wakes up from a com...  \n",
       "3  An animated series that follows the exploits o...  \n",
       "4  A prequel, set before the events of Army of th...  "
      ]
     },
     "execution_count": 75,
     "metadata": {},
     "output_type": "execute_result"
    }
   ],
   "source": [
    "df.head()"
   ]
  },
  {
   "cell_type": "markdown",
   "id": "c529a0c0",
   "metadata": {},
   "source": [
    "## Year"
   ]
  },
  {
   "cell_type": "code",
   "execution_count": 76,
   "id": "e688cf13",
   "metadata": {},
   "outputs": [],
   "source": [
    "df['genre'] = df['genre'].astype(str)\n",
    "\n",
    "df['movies_g'] = df['genre'].apply(lambda x: \"\".join(x.strip().replace(\" \",\"\").split('\\n')))"
   ]
  },
  {
   "cell_type": "code",
   "execution_count": 77,
   "id": "3ccb5d7a",
   "metadata": {},
   "outputs": [
    {
     "data": {
      "text/plain": [
       "0           Action,Horror,Thriller\n",
       "1       Animation,Action,Adventure\n",
       "2            Drama,Horror,Thriller\n",
       "3       Animation,Adventure,Comedy\n",
       "4              Action,Crime,Horror\n",
       "                   ...            \n",
       "9994       Adventure,Drama,Fantasy\n",
       "9995    Animation,Action,Adventure\n",
       "9996             Documentary,Sport\n",
       "9997       Adventure,Drama,Fantasy\n",
       "9998       Adventure,Drama,Fantasy\n",
       "Name: movies_g, Length: 9999, dtype: object"
      ]
     },
     "execution_count": 77,
     "metadata": {},
     "output_type": "execute_result"
    }
   ],
   "source": [
    "df['movies_g']"
   ]
  },
  {
   "cell_type": "markdown",
   "id": "f7d0d50c",
   "metadata": {},
   "source": [
    "## one line"
   ]
  },
  {
   "cell_type": "code",
   "execution_count": 78,
   "id": "baab796f",
   "metadata": {},
   "outputs": [],
   "source": [
    "df['one-line'] = df['one-line'].astype(str)"
   ]
  },
  {
   "cell_type": "code",
   "execution_count": 79,
   "id": "0ec4bed1",
   "metadata": {},
   "outputs": [],
   "source": [
    "df['oneline'] = df['one-line'].apply(lambda x: x.strip())"
   ]
  },
  {
   "cell_type": "markdown",
   "id": "8785ba27",
   "metadata": {},
   "source": [
    "## director"
   ]
  },
  {
   "cell_type": "code",
   "execution_count": 80,
   "id": "132958d6",
   "metadata": {},
   "outputs": [],
   "source": [
    "df['stars'] = df['stars'].astype(str)"
   ]
  },
  {
   "cell_type": "code",
   "execution_count": 81,
   "id": "1e6e0022",
   "metadata": {},
   "outputs": [
    {
     "data": {
      "text/plain": [
       "array(['\\n    Director:\\nPeter Thorwarth\\n| \\n    Stars:\\nPeri Baumeister, \\nCarl Anton Koch, \\nAlexander Scheer, \\nKais Setti\\n',\n",
       "       '\\n            \\n    Stars:\\nChris Wood, \\nSarah Michelle Gellar, \\nLena Headey, \\nMark Hamill\\n',\n",
       "       '\\n            \\n    Stars:\\nAndrew Lincoln, \\nNorman Reedus, \\nMelissa McBride, \\nLauren Cohan\\n',\n",
       "       '\\n            \\n    Stars:\\nJustin Roiland, \\nChris Parnell, \\nSpencer Grammer, \\nSarah Chalke\\n',\n",
       "       '\\n    Director:\\nMatthias Schweighöfer\\n| \\n    Stars:\\nMatthias Schweighöfer, \\nNathalie Emmanuel, \\nRuby O. Fee, \\nStuart Martin\\n',\n",
       "       '\\n            \\n    Stars:\\nChase Stokes, \\nMadelyn Cline, \\nMadison Bailey, \\nJonathan Daviss\\n'],\n",
       "      dtype=object)"
      ]
     },
     "execution_count": 81,
     "metadata": {},
     "output_type": "execute_result"
    }
   ],
   "source": [
    "####key information\n",
    "\n",
    "df.head(6)['stars'].values\n"
   ]
  },
  {
   "cell_type": "code",
   "execution_count": 82,
   "id": "7523d283",
   "metadata": {},
   "outputs": [],
   "source": [
    "df['all_stars_director'] =  df['stars'].apply(lambda x: x.split('|')[0].strip())"
   ]
  },
  {
   "cell_type": "code",
   "execution_count": 83,
   "id": "ac96a594",
   "metadata": {},
   "outputs": [
    {
     "data": {
      "text/plain": [
       "0                              Director:\\nPeter Thorwarth\n",
       "1       Stars:\\nChris Wood, \\nSarah Michelle Gellar, \\...\n",
       "2       Stars:\\nAndrew Lincoln, \\nNorman Reedus, \\nMel...\n",
       "3       Stars:\\nJustin Roiland, \\nChris Parnell, \\nSpe...\n",
       "4                        Director:\\nMatthias Schweighöfer\n",
       "                              ...                        \n",
       "9994    Stars:\\nMorgan Taylor Campbell, \\nChris Cope, ...\n",
       "9995                                                     \n",
       "9996                     Director:\\nOrlando von Einsiedel\n",
       "9997                          Director:\\nJovanka Vuckovic\n",
       "9998                          Director:\\nJovanka Vuckovic\n",
       "Name: all_stars_director, Length: 9999, dtype: object"
      ]
     },
     "execution_count": 83,
     "metadata": {},
     "output_type": "execute_result"
    }
   ],
   "source": [
    "df['all_stars_director']"
   ]
  },
  {
   "cell_type": "code",
   "execution_count": 84,
   "id": "c43def4e",
   "metadata": {},
   "outputs": [
    {
     "name": "stdout",
     "output_type": "stream",
     "text": [
      "None\n"
     ]
    }
   ],
   "source": [
    "def to_get_director(items):\n",
    "        if items is not None and'Director' in items:\n",
    "            directors = items.split('\\n')[1]\n",
    "            return directors\n",
    "        else:\n",
    "            pass\n",
    "    \n",
    "a = to_get_director(\"Stars:\\nPeri Baumeister, \\nCarl Anton Koch, \\nAlexander Scheer, \\nKais Setti\") \n",
    "print(a)"
   ]
  },
  {
   "cell_type": "code",
   "execution_count": 85,
   "id": "eb95682a",
   "metadata": {},
   "outputs": [],
   "source": [
    "df['all_stars_director_'] = df['all_stars_director'].apply(to_get_director)\n"
   ]
  },
  {
   "cell_type": "code",
   "execution_count": 86,
   "id": "7133963a",
   "metadata": {
    "scrolled": true
   },
   "outputs": [
    {
     "data": {
      "text/plain": [
       "0             Peter Thorwarth\n",
       "1                        None\n",
       "2                        None\n",
       "3                        None\n",
       "4       Matthias Schweighöfer\n",
       "                ...          \n",
       "9994                     None\n",
       "9995                     None\n",
       "9996    Orlando von Einsiedel\n",
       "9997         Jovanka Vuckovic\n",
       "9998         Jovanka Vuckovic\n",
       "Name: all_stars_director_, Length: 9999, dtype: object"
      ]
     },
     "execution_count": 86,
     "metadata": {},
     "output_type": "execute_result"
    }
   ],
   "source": [
    "df['all_stars_director_']"
   ]
  },
  {
   "cell_type": "markdown",
   "id": "763fdb95",
   "metadata": {},
   "source": [
    "## stars"
   ]
  },
  {
   "cell_type": "code",
   "execution_count": 87,
   "id": "6d3e0d64",
   "metadata": {
    "scrolled": true
   },
   "outputs": [
    {
     "data": {
      "text/plain": [
       "array(['\\n    Director:\\nPeter Thorwarth\\n| \\n    Stars:\\nPeri Baumeister, \\nCarl Anton Koch, \\nAlexander Scheer, \\nKais Setti\\n',\n",
       "       '\\n            \\n    Stars:\\nChris Wood, \\nSarah Michelle Gellar, \\nLena Headey, \\nMark Hamill\\n',\n",
       "       '\\n            \\n    Stars:\\nAndrew Lincoln, \\nNorman Reedus, \\nMelissa McBride, \\nLauren Cohan\\n'],\n",
       "      dtype=object)"
      ]
     },
     "execution_count": 87,
     "metadata": {},
     "output_type": "execute_result"
    }
   ],
   "source": [
    "df.head(3)['stars'].values"
   ]
  },
  {
   "cell_type": "code",
   "execution_count": 88,
   "id": "edfe8f53",
   "metadata": {},
   "outputs": [
    {
     "name": "stdout",
     "output_type": "stream",
     "text": [
      "Peri Baumeister,Carl Anton Koch,Alexander Scheer,Kais Setti\n"
     ]
    }
   ],
   "source": [
    "## to get the stars\n",
    "def to_get_stars(item):\n",
    "    #confirm if the pattern match, stars is the item being looked for\n",
    "    #r is the raw string\n",
    "    stars_result = re.search(r'Stars:\\s*([\\s\\S]*?)(?:\\n\\n|$)', item)\n",
    "    \n",
    "    if stars_result:\n",
    "    # the group calls the extracts the content of the first capturing group\n",
    "        stars_info = stars_result.group(1)\n",
    "        stars_list = [star.strip() for star in stars_info.split(', \\n')]\n",
    "        \n",
    "        #seperate the list to a string\n",
    "        stars = \",\".join(stars_list)\n",
    "        return stars\n",
    "    else:\n",
    "        pass\n",
    "\n",
    "a = to_get_stars(\"\\n    Director:\\nPeter Thorwarth\\n| \\n    Stars:\\nPeri Baumeister, \\nCarl Anton Koch, \\nAlexander Scheer, \\nKais Setti\\n\")\n",
    "print(a)"
   ]
  },
  {
   "cell_type": "code",
   "execution_count": 89,
   "id": "2dc714b9",
   "metadata": {},
   "outputs": [],
   "source": [
    "df['all_stars'] = df['stars'].apply(to_get_stars)"
   ]
  },
  {
   "cell_type": "code",
   "execution_count": 90,
   "id": "08701b7f",
   "metadata": {},
   "outputs": [],
   "source": [
    "#calculating the average mean of the ratings and fill the null values with the mean\n",
    "df['all_stars'] = df['all_stars'].fillna('None')"
   ]
  },
  {
   "cell_type": "markdown",
   "id": "c5912045",
   "metadata": {},
   "source": [
    "## votes"
   ]
  },
  {
   "cell_type": "code",
   "execution_count": 114,
   "id": "db72ebd1",
   "metadata": {},
   "outputs": [],
   "source": [
    "df['votes'] = df['votes'].fillna(0)\n",
    "\n",
    "df['votes'] = df['votes'].astype(int)"
   ]
  },
  {
   "cell_type": "code",
   "execution_count": null,
   "id": "bb8dc7f7",
   "metadata": {},
   "outputs": [],
   "source": []
  },
  {
   "cell_type": "code",
   "execution_count": 119,
   "id": "630ceffd",
   "metadata": {},
   "outputs": [
    {
     "data": {
      "text/plain": [
       "460"
      ]
     },
     "execution_count": 119,
     "metadata": {},
     "output_type": "execute_result"
    }
   ],
   "source": [
    "df['gross'].notna().sum()"
   ]
  },
  {
   "cell_type": "code",
   "execution_count": null,
   "id": "4aaf8654",
   "metadata": {},
   "outputs": [],
   "source": []
  }
 ],
 "metadata": {
  "kernelspec": {
   "display_name": "Python 3 (ipykernel)",
   "language": "python",
   "name": "python3"
  },
  "language_info": {
   "codemirror_mode": {
    "name": "ipython",
    "version": 3
   },
   "file_extension": ".py",
   "mimetype": "text/x-python",
   "name": "python",
   "nbconvert_exporter": "python",
   "pygments_lexer": "ipython3",
   "version": "3.9.12"
  }
 },
 "nbformat": 4,
 "nbformat_minor": 5
}
