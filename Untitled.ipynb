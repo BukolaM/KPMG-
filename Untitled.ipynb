{
 "cells": [
  {
   "cell_type": "code",
   "execution_count": 480,
   "id": "f911685b",
   "metadata": {},
   "outputs": [],
   "source": [
    "import pandas as pd\n",
    "import numpy as np\n",
    "from datetime import datetime\n",
    "import seaborn as sns\n",
    "import warnings\n",
    "warnings.simplefilter(action='ignore', category=FutureWarning)\n"
   ]
  },
  {
   "cell_type": "markdown",
   "id": "f843df21",
   "metadata": {},
   "source": [
    "# Data Accessing"
   ]
  },
  {
   "cell_type": "code",
   "execution_count": 481,
   "id": "1bf0afc0",
   "metadata": {},
   "outputs": [],
   "source": [
    "df_transaction = pd.read_csv('Transactions.csv')"
   ]
  },
  {
   "cell_type": "code",
   "execution_count": 651,
   "id": "fc68f1a3",
   "metadata": {},
   "outputs": [],
   "source": [
    "df_customerL = pd.read_csv('NewCustomerList.csv')"
   ]
  },
  {
   "cell_type": "code",
   "execution_count": 564,
   "id": "397e87f4",
   "metadata": {},
   "outputs": [],
   "source": [
    "df_customerD = pd.read_csv('CustomerDemographic.csv')"
   ]
  },
  {
   "cell_type": "code",
   "execution_count": 565,
   "id": "718e85b7",
   "metadata": {},
   "outputs": [],
   "source": [
    "df_customerA = pd.read_csv('CustomerAddress.csv')"
   ]
  },
  {
   "cell_type": "markdown",
   "id": "1a103d68",
   "metadata": {},
   "source": [
    "# Data Cleaning"
   ]
  },
  {
   "cell_type": "code",
   "execution_count": 566,
   "id": "7ce0f323",
   "metadata": {
    "scrolled": false
   },
   "outputs": [
    {
     "data": {
      "text/html": [
       "<div>\n",
       "<style scoped>\n",
       "    .dataframe tbody tr th:only-of-type {\n",
       "        vertical-align: middle;\n",
       "    }\n",
       "\n",
       "    .dataframe tbody tr th {\n",
       "        vertical-align: top;\n",
       "    }\n",
       "\n",
       "    .dataframe thead th {\n",
       "        text-align: right;\n",
       "    }\n",
       "</style>\n",
       "<table border=\"1\" class=\"dataframe\">\n",
       "  <thead>\n",
       "    <tr style=\"text-align: right;\">\n",
       "      <th></th>\n",
       "      <th>transaction_id</th>\n",
       "      <th>product_id</th>\n",
       "      <th>customer_id</th>\n",
       "      <th>transaction_date</th>\n",
       "      <th>online_order</th>\n",
       "      <th>order_status</th>\n",
       "      <th>brand</th>\n",
       "      <th>product_line</th>\n",
       "      <th>product_class</th>\n",
       "      <th>product_size</th>\n",
       "      <th>list_price</th>\n",
       "      <th>standard_cost</th>\n",
       "      <th>product_first_sold_date</th>\n",
       "    </tr>\n",
       "  </thead>\n",
       "  <tbody>\n",
       "    <tr>\n",
       "      <th>0</th>\n",
       "      <td>1</td>\n",
       "      <td>2</td>\n",
       "      <td>2950</td>\n",
       "      <td>2017-02-25</td>\n",
       "      <td>False</td>\n",
       "      <td>Approved</td>\n",
       "      <td>Solex</td>\n",
       "      <td>Standard</td>\n",
       "      <td>medium</td>\n",
       "      <td>medium</td>\n",
       "      <td>71.49</td>\n",
       "      <td>53.62</td>\n",
       "      <td>41245.0</td>\n",
       "    </tr>\n",
       "    <tr>\n",
       "      <th>1</th>\n",
       "      <td>2</td>\n",
       "      <td>3</td>\n",
       "      <td>3120</td>\n",
       "      <td>2017-05-21</td>\n",
       "      <td>True</td>\n",
       "      <td>Approved</td>\n",
       "      <td>Trek Bicycles</td>\n",
       "      <td>Standard</td>\n",
       "      <td>medium</td>\n",
       "      <td>large</td>\n",
       "      <td>2091.47</td>\n",
       "      <td>388.92</td>\n",
       "      <td>41701.0</td>\n",
       "    </tr>\n",
       "    <tr>\n",
       "      <th>2</th>\n",
       "      <td>3</td>\n",
       "      <td>37</td>\n",
       "      <td>402</td>\n",
       "      <td>2017-10-16</td>\n",
       "      <td>False</td>\n",
       "      <td>Approved</td>\n",
       "      <td>OHM Cycles</td>\n",
       "      <td>Standard</td>\n",
       "      <td>low</td>\n",
       "      <td>medium</td>\n",
       "      <td>1793.43</td>\n",
       "      <td>248.82</td>\n",
       "      <td>36361.0</td>\n",
       "    </tr>\n",
       "    <tr>\n",
       "      <th>3</th>\n",
       "      <td>4</td>\n",
       "      <td>88</td>\n",
       "      <td>3135</td>\n",
       "      <td>2017-08-31</td>\n",
       "      <td>False</td>\n",
       "      <td>Approved</td>\n",
       "      <td>Norco Bicycles</td>\n",
       "      <td>Standard</td>\n",
       "      <td>medium</td>\n",
       "      <td>medium</td>\n",
       "      <td>1198.46</td>\n",
       "      <td>381.10</td>\n",
       "      <td>36145.0</td>\n",
       "    </tr>\n",
       "    <tr>\n",
       "      <th>4</th>\n",
       "      <td>5</td>\n",
       "      <td>78</td>\n",
       "      <td>787</td>\n",
       "      <td>2017-10-01</td>\n",
       "      <td>True</td>\n",
       "      <td>Approved</td>\n",
       "      <td>Giant Bicycles</td>\n",
       "      <td>Standard</td>\n",
       "      <td>medium</td>\n",
       "      <td>large</td>\n",
       "      <td>1765.30</td>\n",
       "      <td>709.48</td>\n",
       "      <td>42226.0</td>\n",
       "    </tr>\n",
       "  </tbody>\n",
       "</table>\n",
       "</div>"
      ],
      "text/plain": [
       "   transaction_id  product_id  customer_id transaction_date  online_order  \\\n",
       "0               1           2         2950       2017-02-25         False   \n",
       "1               2           3         3120       2017-05-21          True   \n",
       "2               3          37          402       2017-10-16         False   \n",
       "3               4          88         3135       2017-08-31         False   \n",
       "4               5          78          787       2017-10-01          True   \n",
       "\n",
       "  order_status           brand product_line product_class product_size  \\\n",
       "0     Approved           Solex     Standard        medium       medium   \n",
       "1     Approved   Trek Bicycles     Standard        medium        large   \n",
       "2     Approved      OHM Cycles     Standard           low       medium   \n",
       "3     Approved  Norco Bicycles     Standard        medium       medium   \n",
       "4     Approved  Giant Bicycles     Standard        medium        large   \n",
       "\n",
       "   list_price  standard_cost  product_first_sold_date  \n",
       "0       71.49          53.62                  41245.0  \n",
       "1     2091.47         388.92                  41701.0  \n",
       "2     1793.43         248.82                  36361.0  \n",
       "3     1198.46         381.10                  36145.0  \n",
       "4     1765.30         709.48                  42226.0  "
      ]
     },
     "execution_count": 566,
     "metadata": {},
     "output_type": "execute_result"
    }
   ],
   "source": [
    "#reading the dataset\n",
    "df_transaction.head()"
   ]
  },
  {
   "cell_type": "code",
   "execution_count": 567,
   "id": "ddc805ea",
   "metadata": {},
   "outputs": [
    {
     "name": "stdout",
     "output_type": "stream",
     "text": [
      "<class 'pandas.core.frame.DataFrame'>\n",
      "RangeIndex: 20000 entries, 0 to 19999\n",
      "Data columns (total 13 columns):\n",
      " #   Column                   Non-Null Count  Dtype         \n",
      "---  ------                   --------------  -----         \n",
      " 0   transaction_id           20000 non-null  int64         \n",
      " 1   product_id               20000 non-null  int64         \n",
      " 2   customer_id              20000 non-null  int64         \n",
      " 3   transaction_date         20000 non-null  datetime64[ns]\n",
      " 4   online_order             20000 non-null  bool          \n",
      " 5   order_status             20000 non-null  object        \n",
      " 6   brand                    20000 non-null  object        \n",
      " 7   product_line             20000 non-null  object        \n",
      " 8   product_class            20000 non-null  object        \n",
      " 9   product_size             20000 non-null  object        \n",
      " 10  list_price               20000 non-null  float64       \n",
      " 11  standard_cost            20000 non-null  float64       \n",
      " 12  product_first_sold_date  19803 non-null  float64       \n",
      "dtypes: bool(1), datetime64[ns](1), float64(3), int64(3), object(5)\n",
      "memory usage: 1.9+ MB\n"
     ]
    }
   ],
   "source": [
    "#This is the Informations Of The Dataset\n",
    "df_transaction.info()"
   ]
  },
  {
   "cell_type": "code",
   "execution_count": 568,
   "id": "33593d25",
   "metadata": {},
   "outputs": [],
   "source": [
    "# converting the  transaction_date  date to datetime \n",
    "df_transaction['transaction_date']= pd.to_datetime(df_transaction['transaction_date']).dt.strftime('%Y-%m-%d')\n",
    "#converting the  transaction_date from string to datetime\n",
    "df_transaction['transaction_date'] = df_transaction['transaction_date'].astype('datetime64[ns]')"
   ]
  },
  {
   "cell_type": "markdown",
   "id": "52dcba23",
   "metadata": {},
   "source": [
    "Some columns are categorical so its best to replace the null values with its mode, i.e the most frequently occurring value."
   ]
  },
  {
   "cell_type": "code",
   "execution_count": 570,
   "id": "e829aa88",
   "metadata": {},
   "outputs": [],
   "source": [
    "#filling the null with mode value\n",
    "df_transaction['online_order'] = df_transaction['online_order'].fillna(df_transaction['online_order'].mode()[0])\n",
    "df_transaction['brand'] = df_transaction['brand'].fillna(df_transaction['brand'].mode()[0])\n",
    "df_transaction['product_line'] = df_transaction['product_line'].fillna(df_transaction['product_line'].mode()[0])\n",
    "df_transaction['product_class'] = df_transaction['product_class'].fillna(df_transaction['product_class'].mode()[0])\n",
    "df_transaction['product_size'] = df_transaction['product_size'].fillna(df_transaction['product_size'].mode()[0])"
   ]
  },
  {
   "cell_type": "code",
   "execution_count": 571,
   "id": "6db52e73",
   "metadata": {
    "scrolled": true
   },
   "outputs": [],
   "source": [
    "#removing the dollar sign to enable convert the data type to float\n",
    "df_transaction['standard_cost'] = df_transaction['standard_cost'].apply(lambda x:\n",
    "                                str(x).replace(\"$\",\"\")).apply(lambda x: str(x).replace(\",\",\"\")).astype(float)\n"
   ]
  },
  {
   "cell_type": "code",
   "execution_count": 572,
   "id": "1c9a9921",
   "metadata": {
    "scrolled": true
   },
   "outputs": [
    {
     "data": {
      "text/plain": [
       "array([[<AxesSubplot:title={'center':'standard_cost'}>]], dtype=object)"
      ]
     },
     "execution_count": 572,
     "metadata": {},
     "output_type": "execute_result"
    },
    {
     "data": {
      "image/png": "[encoded data removed]",
      "text/plain": [
       "<Figure size 432x288 with 1 Axes>"
      ]
     },
     "metadata": {
      "needs_background": "light"
     },
     "output_type": "display_data"
    }
   ],
   "source": [
    "#confirming the skewness of the column\n",
    "df_transaction.hist(column='standard_cost')"
   ]
  },
  {
   "cell_type": "code",
   "execution_count": 573,
   "id": "7aa900b5",
   "metadata": {},
   "outputs": [],
   "source": [
    "# the standard cost column is skewed to the left and its also numerical, i would be  using the median value for replacing the missing values.\n",
    "df_transaction['standard_cost']= df_transaction['standard_cost'].fillna(df_transaction['standard_cost'].median())\n"
   ]
  },
  {
   "cell_type": "code",
   "execution_count": 574,
   "id": "03152108",
   "metadata": {},
   "outputs": [],
   "source": [
    "#dont know about the last column\n"
   ]
  },
  {
   "cell_type": "markdown",
   "id": "20e9d726",
   "metadata": {},
   "source": [
    "### Customer Demographic"
   ]
  },
  {
   "cell_type": "code",
   "execution_count": 575,
   "id": "6f8dc7b4",
   "metadata": {
    "scrolled": false
   },
   "outputs": [
    {
     "data": {
      "text/html": [
       "<div>\n",
       "<style scoped>\n",
       "    .dataframe tbody tr th:only-of-type {\n",
       "        vertical-align: middle;\n",
       "    }\n",
       "\n",
       "    .dataframe tbody tr th {\n",
       "        vertical-align: top;\n",
       "    }\n",
       "\n",
       "    .dataframe thead th {\n",
       "        text-align: right;\n",
       "    }\n",
       "</style>\n",
       "<table border=\"1\" class=\"dataframe\">\n",
       "  <thead>\n",
       "    <tr style=\"text-align: right;\">\n",
       "      <th></th>\n",
       "      <th>customer_id</th>\n",
       "      <th>first_name</th>\n",
       "      <th>last_name</th>\n",
       "      <th>gender</th>\n",
       "      <th>past_3_years_bike_related_purchases</th>\n",
       "      <th>DOB</th>\n",
       "      <th>job_title</th>\n",
       "      <th>job_industry_category</th>\n",
       "      <th>wealth_segment</th>\n",
       "      <th>deceased_indicator</th>\n",
       "      <th>default</th>\n",
       "      <th>owns_car</th>\n",
       "      <th>tenure</th>\n",
       "    </tr>\n",
       "  </thead>\n",
       "  <tbody>\n",
       "    <tr>\n",
       "      <th>0</th>\n",
       "      <td>1</td>\n",
       "      <td>Laraine</td>\n",
       "      <td>Medendorp</td>\n",
       "      <td>F</td>\n",
       "      <td>93</td>\n",
       "      <td>1953-10-12</td>\n",
       "      <td>Executive Secretary</td>\n",
       "      <td>Health</td>\n",
       "      <td>Mass Customer</td>\n",
       "      <td>N</td>\n",
       "      <td>\"'</td>\n",
       "      <td>Yes</td>\n",
       "      <td>11.0</td>\n",
       "    </tr>\n",
       "    <tr>\n",
       "      <th>1</th>\n",
       "      <td>2</td>\n",
       "      <td>Eli</td>\n",
       "      <td>Bockman</td>\n",
       "      <td>Male</td>\n",
       "      <td>81</td>\n",
       "      <td>1980-12-16</td>\n",
       "      <td>Administrative Officer</td>\n",
       "      <td>Financial Services</td>\n",
       "      <td>Mass Customer</td>\n",
       "      <td>N</td>\n",
       "      <td>&lt;script&gt;alert('hi')&lt;/script&gt;</td>\n",
       "      <td>Yes</td>\n",
       "      <td>16.0</td>\n",
       "    </tr>\n",
       "    <tr>\n",
       "      <th>2</th>\n",
       "      <td>3</td>\n",
       "      <td>Arlin</td>\n",
       "      <td>Dearle</td>\n",
       "      <td>Male</td>\n",
       "      <td>61</td>\n",
       "      <td>1954-01-20</td>\n",
       "      <td>Recruiting Manager</td>\n",
       "      <td>Property</td>\n",
       "      <td>Mass Customer</td>\n",
       "      <td>N</td>\n",
       "      <td>1-Feb</td>\n",
       "      <td>Yes</td>\n",
       "      <td>15.0</td>\n",
       "    </tr>\n",
       "    <tr>\n",
       "      <th>3</th>\n",
       "      <td>4</td>\n",
       "      <td>Talbot</td>\n",
       "      <td>NaN</td>\n",
       "      <td>Male</td>\n",
       "      <td>33</td>\n",
       "      <td>1961-10-03</td>\n",
       "      <td>NaN</td>\n",
       "      <td>IT</td>\n",
       "      <td>Mass Customer</td>\n",
       "      <td>N</td>\n",
       "      <td>() { _; } &gt;_[$($())] { touch /tmp/blns.shellsh...</td>\n",
       "      <td>No</td>\n",
       "      <td>7.0</td>\n",
       "    </tr>\n",
       "    <tr>\n",
       "      <th>4</th>\n",
       "      <td>5</td>\n",
       "      <td>Sheila-kathryn</td>\n",
       "      <td>Calton</td>\n",
       "      <td>Female</td>\n",
       "      <td>56</td>\n",
       "      <td>1977-05-13</td>\n",
       "      <td>Senior Editor</td>\n",
       "      <td>NaN</td>\n",
       "      <td>Affluent Customer</td>\n",
       "      <td>N</td>\n",
       "      <td>NIL</td>\n",
       "      <td>Yes</td>\n",
       "      <td>8.0</td>\n",
       "    </tr>\n",
       "  </tbody>\n",
       "</table>\n",
       "</div>"
      ],
      "text/plain": [
       "   customer_id      first_name  last_name  gender  \\\n",
       "0            1         Laraine  Medendorp       F   \n",
       "1            2             Eli    Bockman    Male   \n",
       "2            3           Arlin     Dearle    Male   \n",
       "3            4          Talbot        NaN    Male   \n",
       "4            5  Sheila-kathryn     Calton  Female   \n",
       "\n",
       "   past_3_years_bike_related_purchases         DOB               job_title  \\\n",
       "0                                   93  1953-10-12     Executive Secretary   \n",
       "1                                   81  1980-12-16  Administrative Officer   \n",
       "2                                   61  1954-01-20      Recruiting Manager   \n",
       "3                                   33  1961-10-03                     NaN   \n",
       "4                                   56  1977-05-13           Senior Editor   \n",
       "\n",
       "  job_industry_category     wealth_segment deceased_indicator  \\\n",
       "0                Health      Mass Customer                  N   \n",
       "1    Financial Services      Mass Customer                  N   \n",
       "2              Property      Mass Customer                  N   \n",
       "3                    IT      Mass Customer                  N   \n",
       "4                   NaN  Affluent Customer                  N   \n",
       "\n",
       "                                             default owns_car  tenure  \n",
       "0                                                 \"'      Yes    11.0  \n",
       "1                       <script>alert('hi')</script>      Yes    16.0  \n",
       "2                                              1-Feb      Yes    15.0  \n",
       "3  () { _; } >_[$($())] { touch /tmp/blns.shellsh...       No     7.0  \n",
       "4                                                NIL      Yes     8.0  "
      ]
     },
     "execution_count": 575,
     "metadata": {},
     "output_type": "execute_result"
    }
   ],
   "source": [
    "df_customerD.head()"
   ]
  },
  {
   "cell_type": "code",
   "execution_count": 576,
   "id": "de1e707b",
   "metadata": {},
   "outputs": [
    {
     "name": "stdout",
     "output_type": "stream",
     "text": [
      "<class 'pandas.core.frame.DataFrame'>\n",
      "RangeIndex: 4000 entries, 0 to 3999\n",
      "Data columns (total 13 columns):\n",
      " #   Column                               Non-Null Count  Dtype  \n",
      "---  ------                               --------------  -----  \n",
      " 0   customer_id                          4000 non-null   int64  \n",
      " 1   first_name                           4000 non-null   object \n",
      " 2   last_name                            3875 non-null   object \n",
      " 3   gender                               4000 non-null   object \n",
      " 4   past_3_years_bike_related_purchases  4000 non-null   int64  \n",
      " 5   DOB                                  3913 non-null   object \n",
      " 6   job_title                            3494 non-null   object \n",
      " 7   job_industry_category                3344 non-null   object \n",
      " 8   wealth_segment                       4000 non-null   object \n",
      " 9   deceased_indicator                   4000 non-null   object \n",
      " 10  default                              3698 non-null   object \n",
      " 11  owns_car                             4000 non-null   object \n",
      " 12  tenure                               3913 non-null   float64\n",
      "dtypes: float64(1), int64(2), object(10)\n",
      "memory usage: 406.4+ KB\n"
     ]
    }
   ],
   "source": [
    "df_customerD.info()"
   ]
  },
  {
   "cell_type": "code",
   "execution_count": 577,
   "id": "1b109734",
   "metadata": {},
   "outputs": [],
   "source": [
    "#replacing the last_name missing column with `None` since the customers did not provide last name\n",
    "df_customerD['last_name'] = df_customerD['last_name'].replace(np.nan, 'None')"
   ]
  },
  {
   "cell_type": "code",
   "execution_count": 578,
   "id": "9cab4e51",
   "metadata": {
    "scrolled": true
   },
   "outputs": [
    {
     "data": {
      "text/plain": [
       "Female    2037\n",
       "Male      1872\n",
       "U           88\n",
       "F            1\n",
       "Femal        1\n",
       "M            1\n",
       "Name: gender, dtype: int64"
      ]
     },
     "execution_count": 578,
     "metadata": {},
     "output_type": "execute_result"
    }
   ],
   "source": [
    "#looking at the gender counts\n",
    "df_customerD['gender'].value_counts()"
   ]
  },
  {
   "cell_type": "code",
   "execution_count": 579,
   "id": "5fcc6060",
   "metadata": {},
   "outputs": [],
   "source": [
    "#replacing the characters with the required `gender`\n",
    "df_customerD['gender'] = df_customerD['gender'].replace(['F','Femal'],'Female')\n",
    "df_customerD['gender'] = df_customerD['gender'].replace('M','Male')\n",
    "df_customerD['gender'] = df_customerD['gender'].replace('U','Unknown')"
   ]
  },
  {
   "cell_type": "code",
   "execution_count": 580,
   "id": "46c4b91a",
   "metadata": {},
   "outputs": [],
   "source": [
    "#replacing the null values with the most occuring gender\n",
    "df_customerD['gender'] = df_customerD['gender'].fillna(df_customerD['gender'].mode()[0])"
   ]
  },
  {
   "cell_type": "code",
   "execution_count": 581,
   "id": "a1eca985",
   "metadata": {},
   "outputs": [
    {
     "data": {
      "text/plain": [
       "array([[<AxesSubplot:title={'center':'past_3_years_bike_related_purchases'}>]],\n",
       "      dtype=object)"
      ]
     },
     "execution_count": 581,
     "metadata": {},
     "output_type": "execute_result"
    },
    {
     "data": {
      "image/png": "[encoded data removed]",
      "text/plain": [
       "<Figure size 432x288 with 1 Axes>"
      ]
     },
     "metadata": {
      "needs_background": "light"
     },
     "output_type": "display_data"
    }
   ],
   "source": [
    "#confirming the skewness of the column\n",
    "df_customerD.hist(column='past_3_years_bike_related_purchases')"
   ]
  },
  {
   "cell_type": "code",
   "execution_count": 582,
   "id": "49a4eb43",
   "metadata": {},
   "outputs": [],
   "source": [
    "#since the dataset has a normal distribution and its numerical columns, it would be best to replace missing values with mean\n",
    "df_customerD['past_3_years_bike_related_purchases'] = df_customerD['past_3_years_bike_related_purchases'].fillna(df_customerD\n",
    "                                                    ['past_3_years_bike_related_purchases'].mean())\n"
   ]
  },
  {
   "cell_type": "code",
   "execution_count": 583,
   "id": "9bab5ca3",
   "metadata": {},
   "outputs": [],
   "source": [
    "# converting the  transaction_date  date to datetime \n",
    "df_customerD['DOB']= pd.to_datetime(df_customerD['DOB']).dt.strftime('%Y-%m-%d')\n",
    "#converting the  transaction_date from string to datetime\n",
    "df_customerD['customer_year'] = pd.to_datetime(df_customerD['DOB']).dt.year.astype(str).str.replace(\".0\",\"\",regex=False)\n",
    "\n"
   ]
  },
  {
   "cell_type": "code",
   "execution_count": 584,
   "id": "96b156a1",
   "metadata": {
    "scrolled": true
   },
   "outputs": [],
   "source": [
    "#extracting the age of the customers\n",
    "df_customerD['DOB'] = pd.to_datetime(df_customerD['DOB'], errors='coerce')\n",
    "df_customerD['age'] = df_customerD['DOB'] .apply(lambda x : (pd.datetime.now().year - x.year))"
   ]
  },
  {
   "cell_type": "code",
   "execution_count": 585,
   "id": "55112aa1",
   "metadata": {
    "scrolled": true
   },
   "outputs": [
    {
     "data": {
      "text/plain": [
       "<AxesSubplot:xlabel='age'>"
      ]
     },
     "execution_count": 585,
     "metadata": {},
     "output_type": "execute_result"
    },
    {
     "data": {
      "image/png": "[encoded data removed]",
      "text/plain": [
       "<Figure size 432x288 with 1 Axes>"
      ]
     },
     "metadata": {
      "needs_background": "light"
     },
     "output_type": "display_data"
    }
   ],
   "source": [
    "#checking for age outliers\n",
    "sns.boxplot(df_customerD['age'])"
   ]
  },
  {
   "cell_type": "markdown",
   "id": "3253ffdf",
   "metadata": {},
   "source": [
    "From the chart above, we can see that age 180 is an oulier and therefore needs to be dropped."
   ]
  },
  {
   "cell_type": "code",
   "execution_count": 586,
   "id": "a3081eeb",
   "metadata": {},
   "outputs": [],
   "source": [
    "#excluding age 180\n",
    "df_customerD['age']  = df_customerD['age'].loc[df_customerD['age'] != 180]"
   ]
  },
  {
   "cell_type": "code",
   "execution_count": 587,
   "id": "2aa15977",
   "metadata": {},
   "outputs": [],
   "source": [
    "#filling the age null with mean value\n",
    "df_customerD['age'] = df_customerD['age'].fillna(df_customerD['age'].mean())"
   ]
  },
  {
   "cell_type": "code",
   "execution_count": 590,
   "id": "f1c787d9",
   "metadata": {},
   "outputs": [],
   "source": [
    "#rounding up the age column to 1 decimal and converting it to interger\n",
    "df_customerD['age'] = df_customerD['age'].astype(float).round(1).astype(int)"
   ]
  },
  {
   "cell_type": "code",
   "execution_count": 594,
   "id": "fbe6648d",
   "metadata": {},
   "outputs": [],
   "source": [
    "#filling their null values with the mode \n",
    "df_customerD['job_title'] = df_customerD['job_title'].fillna(df_customerD['job_title'].mode()[0])\n",
    "df_customerD['job_industry_category'] = df_customerD['job_industry_category'].fillna(df_customerD['job_industry_category'].mode()[0])\n",
    "df_customerD['job_title'] = df_customerD['job_title'].fillna(df_customerD['job_title'].mode()[0])\n"
   ]
  },
  {
   "cell_type": "code",
   "execution_count": 597,
   "id": "07bf8fe6",
   "metadata": {},
   "outputs": [
    {
     "data": {
      "text/plain": [
       "array([[<AxesSubplot:title={'center':'tenure'}>]], dtype=object)"
      ]
     },
     "execution_count": 597,
     "metadata": {},
     "output_type": "execute_result"
    },
    {
     "data": {
      "image/png": "[encoded data removed]",
      "text/plain": [
       "<Figure size 432x288 with 1 Axes>"
      ]
     },
     "metadata": {
      "needs_background": "light"
     },
     "output_type": "display_data"
    }
   ],
   "source": [
    "#confirming the skewness of the column\n",
    "df_customerD.hist(column='tenure')"
   ]
  },
  {
   "cell_type": "code",
   "execution_count": 601,
   "id": "243908e6",
   "metadata": {},
   "outputs": [],
   "source": [
    "#filling the age null with mean value\n",
    "df_customerD['tenure'] = df_customerD['tenure'].fillna(df_customerD['tenure'].mean())\n",
    "#rounding up the age column to 1 decimal and converting it to interger\n",
    "df_customerD['tenure'] = df_customerD['tenure'].astype(float).round(1).astype(int)"
   ]
  },
  {
   "cell_type": "code",
   "execution_count": 607,
   "id": "ada49428",
   "metadata": {},
   "outputs": [],
   "source": [
    "#dropping irrelevant columns\n",
    "df_customerD = df_customerD.drop(['DOB', 'default'], axis=1)"
   ]
  },
  {
   "cell_type": "markdown",
   "id": "4622b68e",
   "metadata": {},
   "source": [
    "### Customer List"
   ]
  },
  {
   "cell_type": "code",
   "execution_count": 652,
   "id": "8b628906",
   "metadata": {},
   "outputs": [
    {
     "data": {
      "text/html": [
       "<div>\n",
       "<style scoped>\n",
       "    .dataframe tbody tr th:only-of-type {\n",
       "        vertical-align: middle;\n",
       "    }\n",
       "\n",
       "    .dataframe tbody tr th {\n",
       "        vertical-align: top;\n",
       "    }\n",
       "\n",
       "    .dataframe thead th {\n",
       "        text-align: right;\n",
       "    }\n",
       "</style>\n",
       "<table border=\"1\" class=\"dataframe\">\n",
       "  <thead>\n",
       "    <tr style=\"text-align: right;\">\n",
       "      <th></th>\n",
       "      <th>first_name</th>\n",
       "      <th>last_name</th>\n",
       "      <th>gender</th>\n",
       "      <th>past_3_years_bike_related_purchases</th>\n",
       "      <th>DOB</th>\n",
       "      <th>job_title</th>\n",
       "      <th>job_industry_category</th>\n",
       "      <th>wealth_segment</th>\n",
       "      <th>deceased_indicator</th>\n",
       "      <th>owns_car</th>\n",
       "      <th>...</th>\n",
       "      <th>state</th>\n",
       "      <th>country</th>\n",
       "      <th>property_valuation</th>\n",
       "      <th>Unnamed: 16</th>\n",
       "      <th>Unnamed: 17</th>\n",
       "      <th>Unnamed: 18</th>\n",
       "      <th>Unnamed: 19</th>\n",
       "      <th>Unnamed: 20</th>\n",
       "      <th>Rank</th>\n",
       "      <th>Value</th>\n",
       "    </tr>\n",
       "  </thead>\n",
       "  <tbody>\n",
       "    <tr>\n",
       "      <th>0</th>\n",
       "      <td>Chickie</td>\n",
       "      <td>Brister</td>\n",
       "      <td>Male</td>\n",
       "      <td>86</td>\n",
       "      <td>1957-07-12</td>\n",
       "      <td>General Manager</td>\n",
       "      <td>Manufacturing</td>\n",
       "      <td>Mass Customer</td>\n",
       "      <td>N</td>\n",
       "      <td>Yes</td>\n",
       "      <td>...</td>\n",
       "      <td>QLD</td>\n",
       "      <td>Australia</td>\n",
       "      <td>6.0</td>\n",
       "      <td>1.00</td>\n",
       "      <td>1.250</td>\n",
       "      <td>1.5625</td>\n",
       "      <td>1.328125</td>\n",
       "      <td>1</td>\n",
       "      <td>1</td>\n",
       "      <td>1.718750</td>\n",
       "    </tr>\n",
       "    <tr>\n",
       "      <th>1</th>\n",
       "      <td>Morly</td>\n",
       "      <td>Genery</td>\n",
       "      <td>Male</td>\n",
       "      <td>69</td>\n",
       "      <td>1970-03-22</td>\n",
       "      <td>Structural Engineer</td>\n",
       "      <td>Property</td>\n",
       "      <td>Mass Customer</td>\n",
       "      <td>N</td>\n",
       "      <td>No</td>\n",
       "      <td>...</td>\n",
       "      <td>NSW</td>\n",
       "      <td>Australia</td>\n",
       "      <td>11.0</td>\n",
       "      <td>0.52</td>\n",
       "      <td>0.520</td>\n",
       "      <td>0.6500</td>\n",
       "      <td>0.552500</td>\n",
       "      <td>1</td>\n",
       "      <td>1</td>\n",
       "      <td>1.718750</td>\n",
       "    </tr>\n",
       "    <tr>\n",
       "      <th>2</th>\n",
       "      <td>Ardelis</td>\n",
       "      <td>Forrester</td>\n",
       "      <td>Female</td>\n",
       "      <td>10</td>\n",
       "      <td>1974-08-28</td>\n",
       "      <td>Senior Cost Accountant</td>\n",
       "      <td>Financial Services</td>\n",
       "      <td>Affluent Customer</td>\n",
       "      <td>N</td>\n",
       "      <td>No</td>\n",
       "      <td>...</td>\n",
       "      <td>VIC</td>\n",
       "      <td>Australia</td>\n",
       "      <td>5.0</td>\n",
       "      <td>0.44</td>\n",
       "      <td>0.440</td>\n",
       "      <td>0.4400</td>\n",
       "      <td>0.440000</td>\n",
       "      <td>1</td>\n",
       "      <td>1</td>\n",
       "      <td>1.718750</td>\n",
       "    </tr>\n",
       "    <tr>\n",
       "      <th>3</th>\n",
       "      <td>Lucine</td>\n",
       "      <td>Stutt</td>\n",
       "      <td>Female</td>\n",
       "      <td>64</td>\n",
       "      <td>1979-01-28</td>\n",
       "      <td>Account Representative III</td>\n",
       "      <td>Manufacturing</td>\n",
       "      <td>Affluent Customer</td>\n",
       "      <td>N</td>\n",
       "      <td>Yes</td>\n",
       "      <td>...</td>\n",
       "      <td>QLD</td>\n",
       "      <td>Australia</td>\n",
       "      <td>1.0</td>\n",
       "      <td>0.94</td>\n",
       "      <td>1.175</td>\n",
       "      <td>1.1750</td>\n",
       "      <td>1.175000</td>\n",
       "      <td>4</td>\n",
       "      <td>4</td>\n",
       "      <td>1.703125</td>\n",
       "    </tr>\n",
       "    <tr>\n",
       "      <th>4</th>\n",
       "      <td>Melinda</td>\n",
       "      <td>Hadlee</td>\n",
       "      <td>Female</td>\n",
       "      <td>34</td>\n",
       "      <td>1965-09-21</td>\n",
       "      <td>Financial Analyst</td>\n",
       "      <td>Financial Services</td>\n",
       "      <td>Affluent Customer</td>\n",
       "      <td>N</td>\n",
       "      <td>No</td>\n",
       "      <td>...</td>\n",
       "      <td>NSW</td>\n",
       "      <td>Australia</td>\n",
       "      <td>9.0</td>\n",
       "      <td>0.80</td>\n",
       "      <td>0.800</td>\n",
       "      <td>1.0000</td>\n",
       "      <td>1.000000</td>\n",
       "      <td>4</td>\n",
       "      <td>4</td>\n",
       "      <td>1.703125</td>\n",
       "    </tr>\n",
       "  </tbody>\n",
       "</table>\n",
       "<p>5 rows × 23 columns</p>\n",
       "</div>"
      ],
      "text/plain": [
       "  first_name  last_name  gender  past_3_years_bike_related_purchases  \\\n",
       "0    Chickie    Brister    Male                                   86   \n",
       "1      Morly     Genery    Male                                   69   \n",
       "2    Ardelis  Forrester  Female                                   10   \n",
       "3     Lucine      Stutt  Female                                   64   \n",
       "4    Melinda     Hadlee  Female                                   34   \n",
       "\n",
       "          DOB                   job_title job_industry_category  \\\n",
       "0  1957-07-12             General Manager         Manufacturing   \n",
       "1  1970-03-22         Structural Engineer              Property   \n",
       "2  1974-08-28      Senior Cost Accountant    Financial Services   \n",
       "3  1979-01-28  Account Representative III         Manufacturing   \n",
       "4  1965-09-21           Financial Analyst    Financial Services   \n",
       "\n",
       "      wealth_segment deceased_indicator owns_car  ...  state    country  \\\n",
       "0      Mass Customer                  N      Yes  ...    QLD  Australia   \n",
       "1      Mass Customer                  N       No  ...    NSW  Australia   \n",
       "2  Affluent Customer                  N       No  ...    VIC  Australia   \n",
       "3  Affluent Customer                  N      Yes  ...    QLD  Australia   \n",
       "4  Affluent Customer                  N       No  ...    NSW  Australia   \n",
       "\n",
       "   property_valuation Unnamed: 16 Unnamed: 17  Unnamed: 18  Unnamed: 19  \\\n",
       "0                 6.0        1.00       1.250       1.5625     1.328125   \n",
       "1                11.0        0.52       0.520       0.6500     0.552500   \n",
       "2                 5.0        0.44       0.440       0.4400     0.440000   \n",
       "3                 1.0        0.94       1.175       1.1750     1.175000   \n",
       "4                 9.0        0.80       0.800       1.0000     1.000000   \n",
       "\n",
       "   Unnamed: 20  Rank     Value  \n",
       "0            1     1  1.718750  \n",
       "1            1     1  1.718750  \n",
       "2            1     1  1.718750  \n",
       "3            4     4  1.703125  \n",
       "4            4     4  1.703125  \n",
       "\n",
       "[5 rows x 23 columns]"
      ]
     },
     "execution_count": 652,
     "metadata": {},
     "output_type": "execute_result"
    }
   ],
   "source": [
    "df_customerL.head()"
   ]
  },
  {
   "cell_type": "code",
   "execution_count": 653,
   "id": "b58d7e10",
   "metadata": {},
   "outputs": [],
   "source": [
    "#replacing the last_name missing column with `None` since the customers did not provide last name\n",
    "df_customerL['last_name'] = df_customerL['last_name'].replace(np.nan, 'None')"
   ]
  },
  {
   "cell_type": "code",
   "execution_count": 665,
   "id": "154d8e6c",
   "metadata": {},
   "outputs": [],
   "source": [
    "#replacing the characters with the required `gender`\n",
    "df_customerL['gender'] = df_customerL['gender'].replace('U','Unknown')"
   ]
  },
  {
   "cell_type": "code",
   "execution_count": 655,
   "id": "992b2cb5",
   "metadata": {},
   "outputs": [],
   "source": [
    "# converting the  transaction_date  date to datetime \n",
    "df_customerL['DOB']= pd.to_datetime(df_customerL['DOB']).dt.strftime('%Y-%m-%d')\n",
    "#converting the  transaction_date from string to datetime\n",
    "df_customerL['DOB'] = pd.to_datetime(df_customerL['DOB']).dt.year.astype(str).str.replace(\".0\",\"\",regex=False)"
   ]
  },
  {
   "cell_type": "code",
   "execution_count": 656,
   "id": "735bacb1",
   "metadata": {},
   "outputs": [],
   "source": [
    "#extracting the age of the customers\n",
    "df_customerL['DOB'] = pd.to_datetime(df_customerL['DOB'], errors='coerce')\n",
    "df_customerL['age'] = df_customerL['DOB'].apply(lambda x : (pd.datetime.now().year - x.year))"
   ]
  },
  {
   "cell_type": "code",
   "execution_count": 682,
   "id": "d60f6cc7",
   "metadata": {},
   "outputs": [],
   "source": [
    "#filling the age null with mean value\n",
    "df_customerL['age'] = df_customerL['age'].fillna(df_customerL['age'].mean())\n",
    "#rounding up the age column to 1 decimal and converting it to interger\n",
    "df_customerD['age'] = df_customerD['age'].astype(float).round(1).astype(int)"
   ]
  },
  {
   "cell_type": "code",
   "execution_count": 658,
   "id": "179c3b9d",
   "metadata": {},
   "outputs": [],
   "source": [
    "#filling their null values with the mode \n",
    "df_customerL['job_title'] = df_customerL['job_title'].fillna(df_customerL['job_title'].mode()[0])\n",
    "df_customerL['job_industry_category'] = df_customerL['job_industry_category'].fillna(df_customerL['job_industry_category'].mode()[0])"
   ]
  },
  {
   "cell_type": "code",
   "execution_count": 659,
   "id": "81bc8139",
   "metadata": {},
   "outputs": [],
   "source": [
    "#dropping irrelevant columns\n",
    "df_customerL =df_customerL.drop(['DOB', 'Unnamed: 16', 'Unnamed: 17', 'Unnamed: 18', 'Unnamed: 19', 'Unnamed: 20' ], axis=1)"
   ]
  },
  {
   "cell_type": "markdown",
   "id": "ad6b53eb",
   "metadata": {},
   "source": [
    "### Customer Address"
   ]
  },
  {
   "cell_type": "code",
   "execution_count": 685,
   "id": "7f8ae430",
   "metadata": {},
   "outputs": [
    {
     "data": {
      "text/html": [
       "<div>\n",
       "<style scoped>\n",
       "    .dataframe tbody tr th:only-of-type {\n",
       "        vertical-align: middle;\n",
       "    }\n",
       "\n",
       "    .dataframe tbody tr th {\n",
       "        vertical-align: top;\n",
       "    }\n",
       "\n",
       "    .dataframe thead th {\n",
       "        text-align: right;\n",
       "    }\n",
       "</style>\n",
       "<table border=\"1\" class=\"dataframe\">\n",
       "  <thead>\n",
       "    <tr style=\"text-align: right;\">\n",
       "      <th></th>\n",
       "      <th>customer_id</th>\n",
       "      <th>address</th>\n",
       "      <th>postcode</th>\n",
       "      <th>state</th>\n",
       "      <th>country</th>\n",
       "      <th>property_valuation</th>\n",
       "    </tr>\n",
       "  </thead>\n",
       "  <tbody>\n",
       "    <tr>\n",
       "      <th>0</th>\n",
       "      <td>1</td>\n",
       "      <td>060 Morning Avenue</td>\n",
       "      <td>2016</td>\n",
       "      <td>New South Wales</td>\n",
       "      <td>Australia</td>\n",
       "      <td>10</td>\n",
       "    </tr>\n",
       "    <tr>\n",
       "      <th>1</th>\n",
       "      <td>2</td>\n",
       "      <td>6 Meadow Vale Court</td>\n",
       "      <td>2153</td>\n",
       "      <td>New South Wales</td>\n",
       "      <td>Australia</td>\n",
       "      <td>10</td>\n",
       "    </tr>\n",
       "    <tr>\n",
       "      <th>2</th>\n",
       "      <td>4</td>\n",
       "      <td>0 Holy Cross Court</td>\n",
       "      <td>4211</td>\n",
       "      <td>QLD</td>\n",
       "      <td>Australia</td>\n",
       "      <td>9</td>\n",
       "    </tr>\n",
       "    <tr>\n",
       "      <th>3</th>\n",
       "      <td>5</td>\n",
       "      <td>17979 Del Mar Point</td>\n",
       "      <td>2448</td>\n",
       "      <td>New South Wales</td>\n",
       "      <td>Australia</td>\n",
       "      <td>4</td>\n",
       "    </tr>\n",
       "    <tr>\n",
       "      <th>4</th>\n",
       "      <td>6</td>\n",
       "      <td>9 Oakridge Court</td>\n",
       "      <td>3216</td>\n",
       "      <td>VIC</td>\n",
       "      <td>Australia</td>\n",
       "      <td>9</td>\n",
       "    </tr>\n",
       "  </tbody>\n",
       "</table>\n",
       "</div>"
      ],
      "text/plain": [
       "   customer_id              address  postcode            state    country  \\\n",
       "0            1   060 Morning Avenue      2016  New South Wales  Australia   \n",
       "1            2  6 Meadow Vale Court      2153  New South Wales  Australia   \n",
       "2            4   0 Holy Cross Court      4211              QLD  Australia   \n",
       "3            5  17979 Del Mar Point      2448  New South Wales  Australia   \n",
       "4            6     9 Oakridge Court      3216              VIC  Australia   \n",
       "\n",
       "   property_valuation  \n",
       "0                  10  \n",
       "1                  10  \n",
       "2                   9  \n",
       "3                   4  \n",
       "4                   9  "
      ]
     },
     "execution_count": 685,
     "metadata": {},
     "output_type": "execute_result"
    }
   ],
   "source": [
    "df_customerA.head()"
   ]
  },
  {
   "cell_type": "code",
   "execution_count": 686,
   "id": "9cc40d19",
   "metadata": {},
   "outputs": [
    {
     "name": "stdout",
     "output_type": "stream",
     "text": [
      "<class 'pandas.core.frame.DataFrame'>\n",
      "RangeIndex: 3999 entries, 0 to 3998\n",
      "Data columns (total 6 columns):\n",
      " #   Column              Non-Null Count  Dtype \n",
      "---  ------              --------------  ----- \n",
      " 0   customer_id         3999 non-null   int64 \n",
      " 1   address             3999 non-null   object\n",
      " 2   postcode            3999 non-null   int64 \n",
      " 3   state               3999 non-null   object\n",
      " 4   country             3999 non-null   object\n",
      " 5   property_valuation  3999 non-null   int64 \n",
      "dtypes: int64(3), object(3)\n",
      "memory usage: 187.6+ KB\n"
     ]
    }
   ],
   "source": [
    "df_customerA.info()"
   ]
  },
  {
   "cell_type": "code",
   "execution_count": null,
   "id": "8cc066be",
   "metadata": {},
   "outputs": [],
   "source": []
  }
 ],
 "metadata": {
  "kernelspec": {
   "display_name": "Python 3 (ipykernel)",
   "language": "python",
   "name": "python3"
  },
  "language_info": {
   "codemirror_mode": {
    "name": "ipython",
    "version": 3
   },
   "file_extension": ".py",
   "mimetype": "text/x-python",
   "name": "python",
   "nbconvert_exporter": "python",
   "pygments_lexer": "ipython3",
   "version": "3.9.12"
  }
 },
 "nbformat": 4,
 "nbformat_minor": 5
}
