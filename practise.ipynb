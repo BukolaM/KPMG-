{
 "cells": [
  {
   "cell_type": "code",
   "execution_count": 61,
   "id": "e35beb3e",
   "metadata": {},
   "outputs": [],
   "source": [
    "import pandas as pd\n",
    "import re\n",
    "\n",
    "import matplotlib.pyplot as plt\n",
    "\n",
    "\n",
    "# pd.set_option('display.max_columns', None)  "
   ]
  },
  {
   "cell_type": "code",
   "execution_count": 62,
   "id": "0788680b",
   "metadata": {
    "scrolled": true
   },
   "outputs": [
    {
     "data": {
      "text/html": [
       "<div>\n",
       "<style scoped>\n",
       "    .dataframe tbody tr th:only-of-type {\n",
       "        vertical-align: middle;\n",
       "    }\n",
       "\n",
       "    .dataframe tbody tr th {\n",
       "        vertical-align: top;\n",
       "    }\n",
       "\n",
       "    .dataframe thead th {\n",
       "        text-align: right;\n",
       "    }\n",
       "</style>\n",
       "<table border=\"1\" class=\"dataframe\">\n",
       "  <thead>\n",
       "    <tr style=\"text-align: right;\">\n",
       "      <th></th>\n",
       "      <th>MOVIES</th>\n",
       "      <th>YEAR</th>\n",
       "      <th>GENRE</th>\n",
       "      <th>RATING</th>\n",
       "      <th>ONE-LINE</th>\n",
       "      <th>STARS</th>\n",
       "      <th>VOTES</th>\n",
       "      <th>RunTime</th>\n",
       "      <th>Gross</th>\n",
       "    </tr>\n",
       "  </thead>\n",
       "  <tbody>\n",
       "    <tr>\n",
       "      <th>0</th>\n",
       "      <td>Blood Red Sky</td>\n",
       "      <td>(2021)</td>\n",
       "      <td>\\nAction, Horror, Thriller</td>\n",
       "      <td>6.1</td>\n",
       "      <td>\\nA woman with a mysterious illness is forced ...</td>\n",
       "      <td>\\n    Director:\\nPeter Thorwarth\\n| \\n    Star...</td>\n",
       "      <td>21,062</td>\n",
       "      <td>121.0</td>\n",
       "      <td>NaN</td>\n",
       "    </tr>\n",
       "    <tr>\n",
       "      <th>1</th>\n",
       "      <td>Masters of the Universe: Revelation</td>\n",
       "      <td>(2021– )</td>\n",
       "      <td>\\nAnimation, Action, Adventure</td>\n",
       "      <td>5.0</td>\n",
       "      <td>\\nThe war for Eternia begins again in what may...</td>\n",
       "      <td>\\n            \\n    Stars:\\nChris Wood, \\nSara...</td>\n",
       "      <td>17,870</td>\n",
       "      <td>25.0</td>\n",
       "      <td>NaN</td>\n",
       "    </tr>\n",
       "    <tr>\n",
       "      <th>2</th>\n",
       "      <td>The Walking Dead</td>\n",
       "      <td>(2010–2022)</td>\n",
       "      <td>\\nDrama, Horror, Thriller</td>\n",
       "      <td>8.2</td>\n",
       "      <td>\\nSheriff Deputy Rick Grimes wakes up from a c...</td>\n",
       "      <td>\\n            \\n    Stars:\\nAndrew Lincoln, \\n...</td>\n",
       "      <td>885,805</td>\n",
       "      <td>44.0</td>\n",
       "      <td>NaN</td>\n",
       "    </tr>\n",
       "    <tr>\n",
       "      <th>3</th>\n",
       "      <td>Rick and Morty</td>\n",
       "      <td>(2013– )</td>\n",
       "      <td>\\nAnimation, Adventure, Comedy</td>\n",
       "      <td>9.2</td>\n",
       "      <td>\\nAn animated series that follows the exploits...</td>\n",
       "      <td>\\n            \\n    Stars:\\nJustin Roiland, \\n...</td>\n",
       "      <td>414,849</td>\n",
       "      <td>23.0</td>\n",
       "      <td>NaN</td>\n",
       "    </tr>\n",
       "    <tr>\n",
       "      <th>4</th>\n",
       "      <td>Army of Thieves</td>\n",
       "      <td>(2021)</td>\n",
       "      <td>\\nAction, Crime, Horror</td>\n",
       "      <td>NaN</td>\n",
       "      <td>\\nA prequel, set before the events of Army of ...</td>\n",
       "      <td>\\n    Director:\\nMatthias Schweighöfer\\n| \\n  ...</td>\n",
       "      <td>NaN</td>\n",
       "      <td>NaN</td>\n",
       "      <td>NaN</td>\n",
       "    </tr>\n",
       "  </tbody>\n",
       "</table>\n",
       "</div>"
      ],
      "text/plain": [
       "                                MOVIES         YEAR  \\\n",
       "0                        Blood Red Sky       (2021)   \n",
       "1  Masters of the Universe: Revelation     (2021– )   \n",
       "2                     The Walking Dead  (2010–2022)   \n",
       "3                       Rick and Morty     (2013– )   \n",
       "4                      Army of Thieves       (2021)   \n",
       "\n",
       "                                        GENRE  RATING  \\\n",
       "0      \\nAction, Horror, Thriller                 6.1   \n",
       "1  \\nAnimation, Action, Adventure                 5.0   \n",
       "2       \\nDrama, Horror, Thriller                 8.2   \n",
       "3  \\nAnimation, Adventure, Comedy                 9.2   \n",
       "4         \\nAction, Crime, Horror                 NaN   \n",
       "\n",
       "                                            ONE-LINE  \\\n",
       "0  \\nA woman with a mysterious illness is forced ...   \n",
       "1  \\nThe war for Eternia begins again in what may...   \n",
       "2  \\nSheriff Deputy Rick Grimes wakes up from a c...   \n",
       "3  \\nAn animated series that follows the exploits...   \n",
       "4  \\nA prequel, set before the events of Army of ...   \n",
       "\n",
       "                                               STARS    VOTES  RunTime Gross  \n",
       "0  \\n    Director:\\nPeter Thorwarth\\n| \\n    Star...   21,062    121.0   NaN  \n",
       "1  \\n            \\n    Stars:\\nChris Wood, \\nSara...   17,870     25.0   NaN  \n",
       "2  \\n            \\n    Stars:\\nAndrew Lincoln, \\n...  885,805     44.0   NaN  \n",
       "3  \\n            \\n    Stars:\\nJustin Roiland, \\n...  414,849     23.0   NaN  \n",
       "4  \\n    Director:\\nMatthias Schweighöfer\\n| \\n  ...      NaN      NaN   NaN  "
      ]
     },
     "execution_count": 62,
     "metadata": {},
     "output_type": "execute_result"
    }
   ],
   "source": [
    "df = pd.read_csv('movies_data.csv')\n",
    "df.head()"
   ]
  },
  {
   "cell_type": "code",
   "execution_count": 63,
   "id": "9025ffec",
   "metadata": {
    "scrolled": true
   },
   "outputs": [
    {
     "name": "stdout",
     "output_type": "stream",
     "text": [
      "<class 'pandas.core.frame.DataFrame'>\n",
      "RangeIndex: 9999 entries, 0 to 9998\n",
      "Data columns (total 9 columns):\n",
      " #   Column    Non-Null Count  Dtype  \n",
      "---  ------    --------------  -----  \n",
      " 0   MOVIES    9999 non-null   object \n",
      " 1   YEAR      9355 non-null   object \n",
      " 2   GENRE     9919 non-null   object \n",
      " 3   RATING    8179 non-null   float64\n",
      " 4   ONE-LINE  9999 non-null   object \n",
      " 5   STARS     9999 non-null   object \n",
      " 6   VOTES     8179 non-null   object \n",
      " 7   RunTime   7041 non-null   float64\n",
      " 8   Gross     460 non-null    object \n",
      "dtypes: float64(2), object(7)\n",
      "memory usage: 703.2+ KB\n"
     ]
    }
   ],
   "source": [
    "df.info()"
   ]
  },
  {
   "cell_type": "code",
   "execution_count": 64,
   "id": "066801fc",
   "metadata": {
    "scrolled": true
   },
   "outputs": [],
   "source": [
    "# df.describe()"
   ]
  },
  {
   "cell_type": "code",
   "execution_count": 65,
   "id": "8726f179",
   "metadata": {},
   "outputs": [],
   "source": [
    "# df.nunique()"
   ]
  },
  {
   "cell_type": "code",
   "execution_count": 66,
   "id": "d0401a8d",
   "metadata": {
    "scrolled": true
   },
   "outputs": [],
   "source": [
    "# df.isna().sum()"
   ]
  },
  {
   "cell_type": "code",
   "execution_count": 67,
   "id": "8fe4c830",
   "metadata": {},
   "outputs": [],
   "source": [
    "# df.shape"
   ]
  },
  {
   "cell_type": "code",
   "execution_count": 68,
   "id": "9e0b4d47",
   "metadata": {},
   "outputs": [],
   "source": [
    "# df.columns"
   ]
  },
  {
   "cell_type": "code",
   "execution_count": 69,
   "id": "d087ace3",
   "metadata": {
    "scrolled": false
   },
   "outputs": [
    {
     "data": {
      "text/plain": [
       "Index(['movies', 'year', 'genre', 'rating', 'one-line', 'stars', 'votes',\n",
       "       'runtime', 'gross'],\n",
       "      dtype='object')"
      ]
     },
     "execution_count": 69,
     "metadata": {},
     "output_type": "execute_result"
    }
   ],
   "source": [
    "# Converting all the header name into lower case\n",
    "df.columns = [x.lower() for x in df.columns]\n",
    "df.columns\n"
   ]
  },
  {
   "cell_type": "code",
   "execution_count": null,
   "id": "e6a17a71",
   "metadata": {
    "scrolled": true
   },
   "outputs": [],
   "source": []
  },
  {
   "cell_type": "markdown",
   "id": "9d2aeeb1",
   "metadata": {},
   "source": [
    "## Data Cleaning"
   ]
  },
  {
   "cell_type": "code",
   "execution_count": 75,
   "id": "869494b3",
   "metadata": {},
   "outputs": [
    {
     "data": {
      "text/html": [
       "<div>\n",
       "<style scoped>\n",
       "    .dataframe tbody tr th:only-of-type {\n",
       "        vertical-align: middle;\n",
       "    }\n",
       "\n",
       "    .dataframe tbody tr th {\n",
       "        vertical-align: top;\n",
       "    }\n",
       "\n",
       "    .dataframe thead th {\n",
       "        text-align: right;\n",
       "    }\n",
       "</style>\n",
       "<table border=\"1\" class=\"dataframe\">\n",
       "  <thead>\n",
       "    <tr style=\"text-align: right;\">\n",
       "      <th></th>\n",
       "      <th>movies</th>\n",
       "      <th>year</th>\n",
       "      <th>genre</th>\n",
       "      <th>rating</th>\n",
       "      <th>one-line</th>\n",
       "      <th>stars</th>\n",
       "      <th>votes</th>\n",
       "      <th>runtime</th>\n",
       "      <th>gross</th>\n",
       "      <th>movies_g</th>\n",
       "      <th>oneline</th>\n",
       "    </tr>\n",
       "  </thead>\n",
       "  <tbody>\n",
       "    <tr>\n",
       "      <th>0</th>\n",
       "      <td>Blood Red Sky</td>\n",
       "      <td>(2021)</td>\n",
       "      <td>\\nAction, Horror, Thriller</td>\n",
       "      <td>6.1</td>\n",
       "      <td>\\nA woman with a mysterious illness is forced ...</td>\n",
       "      <td>\\n    Director:\\nPeter Thorwarth\\n| \\n    Star...</td>\n",
       "      <td>21,062</td>\n",
       "      <td>121.0</td>\n",
       "      <td>NaN</td>\n",
       "      <td>Action,Horror,Thriller</td>\n",
       "      <td>A woman with a mysterious illness is forced in...</td>\n",
       "    </tr>\n",
       "    <tr>\n",
       "      <th>1</th>\n",
       "      <td>Masters of the Universe: Revelation</td>\n",
       "      <td>(2021– )</td>\n",
       "      <td>\\nAnimation, Action, Adventure</td>\n",
       "      <td>5.0</td>\n",
       "      <td>\\nThe war for Eternia begins again in what may...</td>\n",
       "      <td>\\n            \\n    Stars:\\nChris Wood, \\nSara...</td>\n",
       "      <td>17,870</td>\n",
       "      <td>25.0</td>\n",
       "      <td>NaN</td>\n",
       "      <td>Animation,Action,Adventure</td>\n",
       "      <td>The war for Eternia begins again in what may b...</td>\n",
       "    </tr>\n",
       "    <tr>\n",
       "      <th>2</th>\n",
       "      <td>The Walking Dead</td>\n",
       "      <td>(2010–2022)</td>\n",
       "      <td>\\nDrama, Horror, Thriller</td>\n",
       "      <td>8.2</td>\n",
       "      <td>\\nSheriff Deputy Rick Grimes wakes up from a c...</td>\n",
       "      <td>\\n            \\n    Stars:\\nAndrew Lincoln, \\n...</td>\n",
       "      <td>885,805</td>\n",
       "      <td>44.0</td>\n",
       "      <td>NaN</td>\n",
       "      <td>Drama,Horror,Thriller</td>\n",
       "      <td>Sheriff Deputy Rick Grimes wakes up from a com...</td>\n",
       "    </tr>\n",
       "    <tr>\n",
       "      <th>3</th>\n",
       "      <td>Rick and Morty</td>\n",
       "      <td>(2013– )</td>\n",
       "      <td>\\nAnimation, Adventure, Comedy</td>\n",
       "      <td>9.2</td>\n",
       "      <td>\\nAn animated series that follows the exploits...</td>\n",
       "      <td>\\n            \\n    Stars:\\nJustin Roiland, \\n...</td>\n",
       "      <td>414,849</td>\n",
       "      <td>23.0</td>\n",
       "      <td>NaN</td>\n",
       "      <td>Animation,Adventure,Comedy</td>\n",
       "      <td>An animated series that follows the exploits o...</td>\n",
       "    </tr>\n",
       "    <tr>\n",
       "      <th>4</th>\n",
       "      <td>Army of Thieves</td>\n",
       "      <td>(2021)</td>\n",
       "      <td>\\nAction, Crime, Horror</td>\n",
       "      <td>NaN</td>\n",
       "      <td>\\nA prequel, set before the events of Army of ...</td>\n",
       "      <td>\\n    Director:\\nMatthias Schweighöfer\\n| \\n  ...</td>\n",
       "      <td>NaN</td>\n",
       "      <td>NaN</td>\n",
       "      <td>NaN</td>\n",
       "      <td>Action,Crime,Horror</td>\n",
       "      <td>A prequel, set before the events of Army of th...</td>\n",
       "    </tr>\n",
       "  </tbody>\n",
       "</table>\n",
       "</div>"
      ],
      "text/plain": [
       "                                movies         year  \\\n",
       "0                        Blood Red Sky       (2021)   \n",
       "1  Masters of the Universe: Revelation     (2021– )   \n",
       "2                     The Walking Dead  (2010–2022)   \n",
       "3                       Rick and Morty     (2013– )   \n",
       "4                      Army of Thieves       (2021)   \n",
       "\n",
       "                                        genre  rating  \\\n",
       "0      \\nAction, Horror, Thriller                 6.1   \n",
       "1  \\nAnimation, Action, Adventure                 5.0   \n",
       "2       \\nDrama, Horror, Thriller                 8.2   \n",
       "3  \\nAnimation, Adventure, Comedy                 9.2   \n",
       "4         \\nAction, Crime, Horror                 NaN   \n",
       "\n",
       "                                            one-line  \\\n",
       "0  \\nA woman with a mysterious illness is forced ...   \n",
       "1  \\nThe war for Eternia begins again in what may...   \n",
       "2  \\nSheriff Deputy Rick Grimes wakes up from a c...   \n",
       "3  \\nAn animated series that follows the exploits...   \n",
       "4  \\nA prequel, set before the events of Army of ...   \n",
       "\n",
       "                                               stars    votes  runtime gross  \\\n",
       "0  \\n    Director:\\nPeter Thorwarth\\n| \\n    Star...   21,062    121.0   NaN   \n",
       "1  \\n            \\n    Stars:\\nChris Wood, \\nSara...   17,870     25.0   NaN   \n",
       "2  \\n            \\n    Stars:\\nAndrew Lincoln, \\n...  885,805     44.0   NaN   \n",
       "3  \\n            \\n    Stars:\\nJustin Roiland, \\n...  414,849     23.0   NaN   \n",
       "4  \\n    Director:\\nMatthias Schweighöfer\\n| \\n  ...      NaN      NaN   NaN   \n",
       "\n",
       "                     movies_g  \\\n",
       "0      Action,Horror,Thriller   \n",
       "1  Animation,Action,Adventure   \n",
       "2       Drama,Horror,Thriller   \n",
       "3  Animation,Adventure,Comedy   \n",
       "4         Action,Crime,Horror   \n",
       "\n",
       "                                             oneline  \n",
       "0  A woman with a mysterious illness is forced in...  \n",
       "1  The war for Eternia begins again in what may b...  \n",
       "2  Sheriff Deputy Rick Grimes wakes up from a com...  \n",
       "3  An animated series that follows the exploits o...  \n",
       "4  A prequel, set before the events of Army of th...  "
      ]
     },
     "execution_count": 75,
     "metadata": {},
     "output_type": "execute_result"
    }
   ],
   "source": [
    "df.head()"
   ]
  },
  {
   "cell_type": "markdown",
   "id": "c529a0c0",
   "metadata": {},
   "source": [
    "## Year"
   ]
  },
  {
   "cell_type": "code",
   "execution_count": 76,
   "id": "e688cf13",
   "metadata": {},
   "outputs": [],
   "source": [
    "df['genre'] = df['genre'].astype(str)\n",
    "\n",
    "df['movies_g'] = df['genre'].apply(lambda x: \"\".join(x.strip().replace(\" \",\"\").split('\\n')))"
   ]
  },
  {
   "cell_type": "code",
   "execution_count": 77,
   "id": "3ccb5d7a",
   "metadata": {},
   "outputs": [
    {
     "data": {
      "text/plain": [
       "0           Action,Horror,Thriller\n",
       "1       Animation,Action,Adventure\n",
       "2            Drama,Horror,Thriller\n",
       "3       Animation,Adventure,Comedy\n",
       "4              Action,Crime,Horror\n",
       "                   ...            \n",
       "9994       Adventure,Drama,Fantasy\n",
       "9995    Animation,Action,Adventure\n",
       "9996             Documentary,Sport\n",
       "9997       Adventure,Drama,Fantasy\n",
       "9998       Adventure,Drama,Fantasy\n",
       "Name: movies_g, Length: 9999, dtype: object"
      ]
     },
     "execution_count": 77,
     "metadata": {},
     "output_type": "execute_result"
    }
   ],
   "source": [
    "df['movies_g']"
   ]
  },
  {
   "cell_type": "markdown",
   "id": "f7d0d50c",
   "metadata": {},
   "source": [
    "## one line"
   ]
  },
  {
   "cell_type": "code",
   "execution_count": 78,
   "id": "baab796f",
   "metadata": {},
   "outputs": [],
   "source": [
    "df['one-line'] = df['one-line'].astype(str)"
   ]
  },
  {
   "cell_type": "code",
   "execution_count": 79,
   "id": "0ec4bed1",
   "metadata": {},
   "outputs": [],
   "source": [
    "df['oneline'] = df['one-line'].apply(lambda x: x.strip())"
   ]
  },
  {
   "cell_type": "markdown",
   "id": "8785ba27",
   "metadata": {},
   "source": [
    "## director"
   ]
  },
  {
   "cell_type": "code",
   "execution_count": 80,
   "id": "132958d6",
   "metadata": {},
   "outputs": [],
   "source": [
    "df['stars'] = df['stars'].astype(str)"
   ]
  },
  {
   "cell_type": "code",
   "execution_count": 81,
   "id": "1e6e0022",
   "metadata": {},
   "outputs": [
    {
     "data": {
      "text/plain": [
       "array(['\\n    Director:\\nPeter Thorwarth\\n| \\n    Stars:\\nPeri Baumeister, \\nCarl Anton Koch, \\nAlexander Scheer, \\nKais Setti\\n',\n",
       "       '\\n            \\n    Stars:\\nChris Wood, \\nSarah Michelle Gellar, \\nLena Headey, \\nMark Hamill\\n',\n",
       "       '\\n            \\n    Stars:\\nAndrew Lincoln, \\nNorman Reedus, \\nMelissa McBride, \\nLauren Cohan\\n',\n",
       "       '\\n            \\n    Stars:\\nJustin Roiland, \\nChris Parnell, \\nSpencer Grammer, \\nSarah Chalke\\n',\n",
       "       '\\n    Director:\\nMatthias Schweighöfer\\n| \\n    Stars:\\nMatthias Schweighöfer, \\nNathalie Emmanuel, \\nRuby O. Fee, \\nStuart Martin\\n',\n",
       "       '\\n            \\n    Stars:\\nChase Stokes, \\nMadelyn Cline, \\nMadison Bailey, \\nJonathan Daviss\\n'],\n",
       "      dtype=object)"
      ]
     },
     "execution_count": 81,
     "metadata": {},
     "output_type": "execute_result"
    }
   ],
   "source": [
    "####key information\n",
    "\n",
    "df.head(6)['stars'].values\n"
   ]
  },
  {
   "cell_type": "code",
   "execution_count": 82,
   "id": "7523d283",
   "metadata": {},
   "outputs": [],
   "source": [
    "df['all_stars_director'] =  df['stars'].apply(lambda x: x.split('|')[0].strip())"
   ]
  },
  {
   "cell_type": "code",
   "execution_count": 83,
   "id": "ac96a594",
   "metadata": {},
   "outputs": [
    {
     "data": {
      "text/plain": [
       "0                              Director:\\nPeter Thorwarth\n",
       "1       Stars:\\nChris Wood, \\nSarah Michelle Gellar, \\...\n",
       "2       Stars:\\nAndrew Lincoln, \\nNorman Reedus, \\nMel...\n",
       "3       Stars:\\nJustin Roiland, \\nChris Parnell, \\nSpe...\n",
       "4                        Director:\\nMatthias Schweighöfer\n",
       "                              ...                        \n",
       "9994    Stars:\\nMorgan Taylor Campbell, \\nChris Cope, ...\n",
       "9995                                                     \n",
       "9996                     Director:\\nOrlando von Einsiedel\n",
       "9997                          Director:\\nJovanka Vuckovic\n",
       "9998                          Director:\\nJovanka Vuckovic\n",
       "Name: all_stars_director, Length: 9999, dtype: object"
      ]
     },
     "execution_count": 83,
     "metadata": {},
     "output_type": "execute_result"
    }
   ],
   "source": [
    "df['all_stars_director']"
   ]
  },
  {
   "cell_type": "code",
   "execution_count": 84,
   "id": "c43def4e",
   "metadata": {},
   "outputs": [
    {
     "name": "stdout",
     "output_type": "stream",
     "text": [
      "None\n"
     ]
    }
   ],
   "source": [
    "def to_get_director(items):\n",
    "        if items is not None and'Director' in items:\n",
    "            directors = items.split('\\n')[1]\n",
    "            return directors\n",
    "        else:\n",
    "            pass\n",
    "    \n",
    "a = to_get_director(\"Stars:\\nPeri Baumeister, \\nCarl Anton Koch, \\nAlexander Scheer, \\nKais Setti\") \n",
    "print(a)"
   ]
  },
  {
   "cell_type": "code",
   "execution_count": 85,
   "id": "eb95682a",
   "metadata": {},
   "outputs": [],
   "source": [
    "df['all_stars_director_'] = df['all_stars_director'].apply(to_get_director)\n"
   ]
  },
  {
   "cell_type": "code",
   "execution_count": 86,
   "id": "7133963a",
   "metadata": {
    "scrolled": true
   },
   "outputs": [
    {
     "data": {
      "text/plain": [
       "0             Peter Thorwarth\n",
       "1                        None\n",
       "2                        None\n",
       "3                        None\n",
       "4       Matthias Schweighöfer\n",
       "                ...          \n",
       "9994                     None\n",
       "9995                     None\n",
       "9996    Orlando von Einsiedel\n",
       "9997         Jovanka Vuckovic\n",
       "9998         Jovanka Vuckovic\n",
       "Name: all_stars_director_, Length: 9999, dtype: object"
      ]
     },
     "execution_count": 86,
     "metadata": {},
     "output_type": "execute_result"
    }
   ],
   "source": [
    "df['all_stars_director_']"
   ]
  },
  {
   "cell_type": "markdown",
   "id": "763fdb95",
   "metadata": {},
   "source": [
    "## stars"
   ]
  },
  {
   "cell_type": "code",
   "execution_count": 87,
   "id": "6d3e0d64",
   "metadata": {
    "scrolled": true
   },
   "outputs": [
    {
     "data": {
      "text/plain": [
       "array(['\\n    Director:\\nPeter Thorwarth\\n| \\n    Stars:\\nPeri Baumeister, \\nCarl Anton Koch, \\nAlexander Scheer, \\nKais Setti\\n',\n",
       "       '\\n            \\n    Stars:\\nChris Wood, \\nSarah Michelle Gellar, \\nLena Headey, \\nMark Hamill\\n',\n",
       "       '\\n            \\n    Stars:\\nAndrew Lincoln, \\nNorman Reedus, \\nMelissa McBride, \\nLauren Cohan\\n'],\n",
       "      dtype=object)"
      ]
     },
     "execution_count": 87,
     "metadata": {},
     "output_type": "execute_result"
    }
   ],
   "source": [
    "df.head(3)['stars'].values"
   ]
  },
  {
   "cell_type": "code",
   "execution_count": 88,
   "id": "edfe8f53",
   "metadata": {},
   "outputs": [
    {
     "name": "stdout",
     "output_type": "stream",
     "text": [
      "Peri Baumeister,Carl Anton Koch,Alexander Scheer,Kais Setti\n"
     ]
    }
   ],
   "source": [
    "## to get the stars\n",
    "def to_get_stars(item):\n",
    "    #confirm if the pattern match, stars is the item being looked for\n",
    "    #r is the raw string\n",
    "    stars_result = re.search(r'Stars:\\s*([\\s\\S]*?)(?:\\n\\n|$)', item)\n",
    "    \n",
    "    if stars_result:\n",
    "    # the group calls the extracts the content of the first capturing group\n",
    "        stars_info = stars_result.group(1)\n",
    "        stars_list = [star.strip() for star in stars_info.split(', \\n')]\n",
    "        \n",
    "        #seperate the list to a string\n",
    "        stars = \",\".join(stars_list)\n",
    "        return stars\n",
    "    else:\n",
    "        pass\n",
    "\n",
    "a = to_get_stars(\"\\n    Director:\\nPeter Thorwarth\\n| \\n    Stars:\\nPeri Baumeister, \\nCarl Anton Koch, \\nAlexander Scheer, \\nKais Setti\\n\")\n",
    "print(a)"
   ]
  },
  {
   "cell_type": "code",
   "execution_count": 89,
   "id": "2dc714b9",
   "metadata": {},
   "outputs": [],
   "source": [
    "df['all_stars'] = df['stars'].apply(to_get_stars)"
   ]
  },
  {
   "cell_type": "code",
   "execution_count": 90,
   "id": "08701b7f",
   "metadata": {},
   "outputs": [],
   "source": [
    "#calculating the average mean of the ratings and fill the null values with the mean\n",
    "df['all_stars'] = df['all_stars'].fillna('None')"
   ]
  },
  {
   "cell_type": "markdown",
   "id": "c5912045",
   "metadata": {},
   "source": [
    "## votes"
   ]
  },
  {
   "cell_type": "code",
   "execution_count": 114,
   "id": "eb3b0623",
   "metadata": {},
   "outputs": [],
   "source": [
    "df['votes'] = df['votes'].fillna(0)\n",
    "\n",
    "df['votes'] = df['votes'].astype(int)"
   ]
  },
  {
   "cell_type": "markdown",
   "id": "761d772b",
   "metadata": {},
   "source": [
    "## gross"
   ]
  },
  {
   "cell_type": "code",
   "execution_count": 122,
   "id": "14792633",
   "metadata": {},
   "outputs": [
    {
     "data": {
      "text/plain": [
       "460"
      ]
     },
     "execution_count": 122,
     "metadata": {},
     "output_type": "execute_result"
    }
   ],
   "source": [
    "#delete column cuz its not relevamt and data points are few\n",
    "df['gross'].notna().sum()"
   ]
  },
  {
   "cell_type": "markdown",
   "id": "84fc1527",
   "metadata": {},
   "source": [
    "## one line"
   ]
  },
  {
   "cell_type": "code",
   "execution_count": 123,
   "id": "696014a1",
   "metadata": {},
   "outputs": [
    {
     "data": {
      "text/plain": [
       "array(['\\nA woman with a mysterious illness is forced into action when a group of terrorists attempt to hijack a transatlantic overnight flight.',\n",
       "       '\\nThe war for Eternia begins again in what may be the final battle between He-Man and Skeletor. A new animated series from writer-director Kevin Smith.',\n",
       "       '\\nSheriff Deputy Rick Grimes wakes up from a coma to learn the world is in ruins and must lead a group of survivors to stay alive.'],\n",
       "      dtype=object)"
      ]
     },
     "execution_count": 123,
     "metadata": {},
     "output_type": "execute_result"
    }
   ],
   "source": [
    "df.head(3)['one-line'].values"
   ]
  },
  {
   "cell_type": "code",
   "execution_count": 126,
   "id": "d581fabb",
   "metadata": {},
   "outputs": [],
   "source": [
    "df['one-line'] = df['one-line'].apply(lambda x: x.strip())"
   ]
  },
  {
   "cell_type": "code",
   "execution_count": 129,
   "id": "3e8b0385",
   "metadata": {},
   "outputs": [
    {
     "data": {
      "text/plain": [
       "7041"
      ]
     },
     "execution_count": 129,
     "metadata": {},
     "output_type": "execute_result"
    }
   ],
   "source": [
    "#delete column cuz its not relevamt and data points are few\n",
    "df['runtime'].notna().sum()"
   ]
  },
  {
   "cell_type": "markdown",
   "id": "4e829710",
   "metadata": {},
   "source": [
    "## runtime"
   ]
  },
  {
   "cell_type": "code",
   "execution_count": 133,
   "id": "f4a5c0de",
   "metadata": {},
   "outputs": [],
   "source": [
    "df['runtime'] = df['runtime'].fillna(0).astype(int)\n"
   ]
  },
  {
   "cell_type": "markdown",
   "id": "fc01400e",
   "metadata": {},
   "source": [
    "## rating"
   ]
  },
  {
   "cell_type": "code",
   "execution_count": 136,
   "id": "cb45533c",
   "metadata": {},
   "outputs": [],
   "source": [
    "df['rating'] = df['rating'].fillna(0).astype(float)"
   ]
  },
  {
   "cell_type": "code",
   "execution_count": 138,
   "id": "fdfc684e",
   "metadata": {},
   "outputs": [
    {
     "data": {
      "text/html": [
       "<div>\n",
       "<style scoped>\n",
       "    .dataframe tbody tr th:only-of-type {\n",
       "        vertical-align: middle;\n",
       "    }\n",
       "\n",
       "    .dataframe tbody tr th {\n",
       "        vertical-align: top;\n",
       "    }\n",
       "\n",
       "    .dataframe thead th {\n",
       "        text-align: right;\n",
       "    }\n",
       "</style>\n",
       "<table border=\"1\" class=\"dataframe\">\n",
       "  <thead>\n",
       "    <tr style=\"text-align: right;\">\n",
       "      <th></th>\n",
       "      <th>movies</th>\n",
       "      <th>year</th>\n",
       "      <th>genre</th>\n",
       "      <th>rating</th>\n",
       "      <th>one-line</th>\n",
       "      <th>stars</th>\n",
       "      <th>votes</th>\n",
       "      <th>runtime</th>\n",
       "      <th>gross</th>\n",
       "      <th>movies_g</th>\n",
       "      <th>oneline</th>\n",
       "      <th>all_stars_director</th>\n",
       "      <th>all_stars_director_</th>\n",
       "      <th>all_stars</th>\n",
       "    </tr>\n",
       "  </thead>\n",
       "  <tbody>\n",
       "    <tr>\n",
       "      <th>0</th>\n",
       "      <td>Blood Red Sky</td>\n",
       "      <td>(2021)</td>\n",
       "      <td>\\nAction, Horror, Thriller</td>\n",
       "      <td>6.1</td>\n",
       "      <td>A woman with a mysterious illness is forced in...</td>\n",
       "      <td>\\n    Director:\\nPeter Thorwarth\\n| \\n    Star...</td>\n",
       "      <td>21062</td>\n",
       "      <td>121</td>\n",
       "      <td>NaN</td>\n",
       "      <td>Action,Horror,Thriller</td>\n",
       "      <td>A woman with a mysterious illness is forced in...</td>\n",
       "      <td>Director:\\nPeter Thorwarth</td>\n",
       "      <td>Peter Thorwarth</td>\n",
       "      <td>Peri Baumeister,Carl Anton Koch,Alexander Sche...</td>\n",
       "    </tr>\n",
       "    <tr>\n",
       "      <th>1</th>\n",
       "      <td>Masters of the Universe: Revelation</td>\n",
       "      <td>(2021– )</td>\n",
       "      <td>\\nAnimation, Action, Adventure</td>\n",
       "      <td>5.0</td>\n",
       "      <td>The war for Eternia begins again in what may b...</td>\n",
       "      <td>\\n            \\n    Stars:\\nChris Wood, \\nSara...</td>\n",
       "      <td>17870</td>\n",
       "      <td>25</td>\n",
       "      <td>NaN</td>\n",
       "      <td>Animation,Action,Adventure</td>\n",
       "      <td>The war for Eternia begins again in what may b...</td>\n",
       "      <td>Stars:\\nChris Wood, \\nSarah Michelle Gellar, \\...</td>\n",
       "      <td>None</td>\n",
       "      <td>Chris Wood,Sarah Michelle Gellar,Lena Headey,M...</td>\n",
       "    </tr>\n",
       "    <tr>\n",
       "      <th>2</th>\n",
       "      <td>The Walking Dead</td>\n",
       "      <td>(2010–2022)</td>\n",
       "      <td>\\nDrama, Horror, Thriller</td>\n",
       "      <td>8.2</td>\n",
       "      <td>Sheriff Deputy Rick Grimes wakes up from a com...</td>\n",
       "      <td>\\n            \\n    Stars:\\nAndrew Lincoln, \\n...</td>\n",
       "      <td>885805</td>\n",
       "      <td>44</td>\n",
       "      <td>NaN</td>\n",
       "      <td>Drama,Horror,Thriller</td>\n",
       "      <td>Sheriff Deputy Rick Grimes wakes up from a com...</td>\n",
       "      <td>Stars:\\nAndrew Lincoln, \\nNorman Reedus, \\nMel...</td>\n",
       "      <td>None</td>\n",
       "      <td>Andrew Lincoln,Norman Reedus,Melissa McBride,L...</td>\n",
       "    </tr>\n",
       "  </tbody>\n",
       "</table>\n",
       "</div>"
      ],
      "text/plain": [
       "                                movies         year  \\\n",
       "0                        Blood Red Sky       (2021)   \n",
       "1  Masters of the Universe: Revelation     (2021– )   \n",
       "2                     The Walking Dead  (2010–2022)   \n",
       "\n",
       "                                        genre  rating  \\\n",
       "0      \\nAction, Horror, Thriller                 6.1   \n",
       "1  \\nAnimation, Action, Adventure                 5.0   \n",
       "2       \\nDrama, Horror, Thriller                 8.2   \n",
       "\n",
       "                                            one-line  \\\n",
       "0  A woman with a mysterious illness is forced in...   \n",
       "1  The war for Eternia begins again in what may b...   \n",
       "2  Sheriff Deputy Rick Grimes wakes up from a com...   \n",
       "\n",
       "                                               stars   votes  runtime gross  \\\n",
       "0  \\n    Director:\\nPeter Thorwarth\\n| \\n    Star...   21062      121   NaN   \n",
       "1  \\n            \\n    Stars:\\nChris Wood, \\nSara...   17870       25   NaN   \n",
       "2  \\n            \\n    Stars:\\nAndrew Lincoln, \\n...  885805       44   NaN   \n",
       "\n",
       "                     movies_g  \\\n",
       "0      Action,Horror,Thriller   \n",
       "1  Animation,Action,Adventure   \n",
       "2       Drama,Horror,Thriller   \n",
       "\n",
       "                                             oneline  \\\n",
       "0  A woman with a mysterious illness is forced in...   \n",
       "1  The war for Eternia begins again in what may b...   \n",
       "2  Sheriff Deputy Rick Grimes wakes up from a com...   \n",
       "\n",
       "                                  all_stars_director all_stars_director_  \\\n",
       "0                         Director:\\nPeter Thorwarth     Peter Thorwarth   \n",
       "1  Stars:\\nChris Wood, \\nSarah Michelle Gellar, \\...                None   \n",
       "2  Stars:\\nAndrew Lincoln, \\nNorman Reedus, \\nMel...                None   \n",
       "\n",
       "                                           all_stars  \n",
       "0  Peri Baumeister,Carl Anton Koch,Alexander Sche...  \n",
       "1  Chris Wood,Sarah Michelle Gellar,Lena Headey,M...  \n",
       "2  Andrew Lincoln,Norman Reedus,Melissa McBride,L...  "
      ]
     },
     "execution_count": 138,
     "metadata": {},
     "output_type": "execute_result"
    }
   ],
   "source": [
    "df.head(3)"
   ]
  },
  {
   "cell_type": "markdown",
   "id": "71699edf",
   "metadata": {},
   "source": [
    "## year"
   ]
  },
  {
   "cell_type": "code",
   "execution_count": 173,
   "id": "ac75a140",
   "metadata": {},
   "outputs": [
    {
     "data": {
      "text/plain": [
       "array(['(2021)', '(2021– )', '(2010–2022)', '(2013– )', '(2020– )',\n",
       "       '(2006–2013)', '(2019– )', '(2016–2021)', '(2011– )', '(2005– )',\n",
       "       '(2008–2013)', '(2017– )', '(2017–2021)', '(2016– )',\n",
       "       '(1994–2004)', '(2014– )', '(2013–2020)', '(2015– )',\n",
       "       '(2005–2020)', '(2013–2022)', '(2003– )', '(2009–2020)',\n",
       "       '(I) (2018– )', '(2010–2015)', '(2011–2019)', '(2015–2020)',\n",
       "       '(2005–2014)', '(2009–2015)', '(2008–2014)', '(2016–2018)',\n",
       "       '(2009–2017)', '(2020)', '(2018–2021)', '(2017–2020)',\n",
       "       '(1987–1994)', '(2018– )', '(2012– )', '(2014–2020)',\n",
       "       '(2011–2018)', '(2005–2017)', '(2017)', '(2007–2015)',\n",
       "       '(2000–2007)', '(II) (2007– )', '(1993)', '(1999–2022)',\n",
       "       '(2015–2018)', '(2014–2019)', '(2016)', '(2012–2020)',\n",
       "       '(2013–2019)', '(2007–2012)', '(2011–2020)', '(2010–2017)',\n",
       "       '(2000–2015)', '(2015–2021)', '(2001)', '(1997– )', '(2011–2017)',\n",
       "       '(1993–1999)', '(1989–1998)', '(2010–2013)', '(2010–2020)',\n",
       "       '(2003–2019)', '(I) (2019)', '(2017–2019)', '(1975)',\n",
       "       '(2005–2008)', '(1995–2001)', '(2006)', '(2015–2017)',\n",
       "       '(2008–2020)', '(1984–1996)', '(2010– )', '(2014)', '(2000)',\n",
       "       '(2013–2018)', '(2009–2016)', '(2016–2020)', '(2021 TV Special)',\n",
       "       '(2003)', '(1998–2003)', '(I) (2017)', '(1966–1969)', '(2009– )',\n",
       "       '(2019)', '(1990–1991)', '(2012)', '(1995)', '(2020–2021)',\n",
       "       '(2013–2017)', '(2015)', '(2019–2020)', '(2017–2018)',\n",
       "       '(2013–2015)', '(2012–2017)', '(I) (2013–2016)', '(2002)',\n",
       "       '(I) (2020)', '(III) (2021)', '(2018)', '(II) (2016)', '(1976)',\n",
       "       '(1978)', '(2016–2019)', '(2009–2014)', '(2022)', '(2011–2014)',\n",
       "       '(2007–2013)', '(2006–2007)', '(2002–2007)', '(2014–2017)',\n",
       "       '(2010–2019)', '(2008– )', '(2012–2019)', '(2014–2016)',\n",
       "       '(2009–2012)', '(2018–2020)', '(2001–2005)', '(2011–2015)',\n",
       "       '(2014–2018)', '(2015–2019)', '(1982–1993)', '(1998– )', '(1968)',\n",
       "       '(2010–2018)', '(2014–2021)', '(2007–2010)', '(2011)',\n",
       "       '(2013–2021)', '(1990–1996)', '(2004)', '(2007–2014)',\n",
       "       '(1996–2001)', '(2013)', '(2008)', '(1999–2000)', '(2012–2014)',\n",
       "       '(I) (2013)', '(2012–2018)', '(2018–2019)', '(2009–2013)',\n",
       "       '(1971)', '(2004– )', '(1989)', '(1998)', '(2001–2018)',\n",
       "       '(1987–1995)', '(I) (2014)', '(1998–2020)', '(I) (2015)', '(1997)',\n",
       "       '(2004–2013)', '(2002– )', '(2010)', '(I) (2016)', '(II) (2017– )',\n",
       "       '(I) (2018)', '(I) (2021)', '(2004–2012)', '(2019–2021)',\n",
       "       '(IV) (2020)', '(2006–2010)', '(2006–2012)', '(1996)',\n",
       "       '(1994–2000)', '(II) (2020)', '(1980)', '(I) (2011)',\n",
       "       '(1995–1996)', '(2016–2017)', '(1993–1996)', '(II) (2019– )',\n",
       "       '(2009)', '(1962)', '(1991)', '(2022– )', '(II) (2017)',\n",
       "       '(I) (2012)', '(1984)', '(2011–2016)', '(2009–2019)',\n",
       "       '(II) (2020– )', '(2006–2021)', '(I) (2010)', '(2012–2015)',\n",
       "       '(I) (2013–2014)', '(1960)', '(1988)', '(2007)', '(1987)',\n",
       "       '(2010–2011)', '(1969)', '(2006–2011)', '(II) (2019)', '(1961)',\n",
       "       '(1979)', '(II) (2022)', '(2014–2015)', '(1956)', '(2013–2016)',\n",
       "       '(III) (2018)', '(2005)', '(II) (2012– )', '(II) (2013)', '(1983)',\n",
       "       '(2002–2019)', '(2013 TV Movie)', '(II) (2015)', '(I) (2012–2015)',\n",
       "       '(1975–1979)', '(1990)', 'nan', '(II) (2018)', '(IV) (2021)',\n",
       "       '(2015–2016)', '(1995–1998)', '(1986)', '(2012–2013)', '(1966)',\n",
       "       '(2011–2012)', '(2011–2021)', '(2016 Video)', '(2017 TV Movie)',\n",
       "       '(2009–2011)', '(2004–2018)', '(1967)', '(1984– )', '(1994)',\n",
       "       '(2003–2006)', '(III) (2015)', '(1974)', '(2000–2004)',\n",
       "       '(1984–2021)', '(I)', '(II) (2021)', '(1994–1999)', '(III)',\n",
       "       '(1992)', '(1969–1974)', '(2012–2016)', '(2013–2014)',\n",
       "       '(I) (2008)', '(1958)', '(2008–2009)', '(II) (2004)',\n",
       "       '(III) (2019)', '(2006–2009)', '(2011–2013)', '(2007–2008)',\n",
       "       '(1988–1999)', '(2010–2012)', '(2010–2014)', '(II) (2012)',\n",
       "       '(1932)', '(2014 TV Movie)', '(1941)', '(2006– )', '(1992–1995)',\n",
       "       '(2016 TV Special)', '(2020 TV Movie)', '(2008–2010)', '(II)',\n",
       "       '(2020 Video)', '(1999– )', '(1950)', '(2020 TV Special)',\n",
       "       '(1992–2014)', '(2002–2005)', '(2013 TV Special)', '(I) (2021– )',\n",
       "       '(1999)', '(2016 TV Movie)', '(XII)', '(VII)', '(2021 TV Movie)',\n",
       "       '(1983– )', '(1996 Video)', '(1993 TV Movie)', '(2018 TV Movie)',\n",
       "       '(2005–2009)', '(2001–2002)', '(2015 TV Movie)', '(I) (2020– )',\n",
       "       '(2011 Video)', '(2008 Video)', '(2012 Video)', '(1946)',\n",
       "       '(II) (2014)', '(2019 Video)', '(1981–1989)', '(IV) (2016)',\n",
       "       '(III) (2016)', '(2019 TV Movie)', '(1952)', '(2007 Video)',\n",
       "       '(2000–2014)', '(1992– )', '(1957)', '(2003–2007)', '(IV)',\n",
       "       '(2008–2017)', '(2008–2019)', '(1998–2000)', '(I) (2004)',\n",
       "       '(2007–2016)', '(2017 TV Special)', '(2009 TV Movie)',\n",
       "       '(2013 Video)', '(2017 Video)', '(1994–1996)', '(IV) (2017)',\n",
       "       '(IV) (2018)', '(2007– )', '(1954)', '(2012 TV Movie)', '(1995– )',\n",
       "       '(1982)', '(1955)', '(2014 TV Short)', '(I) (2022– )',\n",
       "       '(I) (2019–2020)', '(1975 TV Movie)', '(2019 TV Special)',\n",
       "       '(2015 TV Special)', '(2015 TV Short)', '(2018 TV Special)',\n",
       "       '(1948)', '(2014 Video)', '(VI) (2014)', '(2003–2013)',\n",
       "       '(2021 Video)', '(1947)', '(2001– )', '(II) (2021– )',\n",
       "       '(1997–2000)', '(III) (2020)', '(I) (2019– )', '(1993– )',\n",
       "       '(1977)', '(I) (2009)', '(V)', '(2023)', '(I) (2000)',\n",
       "       '(TV Special)', '(II) (2011)', '(TV Movie)', '(1945)',\n",
       "       '(2015 Video)', '(III) (2010)', '(2009 Video)', '(1998–2002)',\n",
       "       '(2008 TV Movie)', '(2019 TV Short)', '(2004 Video)',\n",
       "       '(II) (1998)', '(2014 TV Special)', '(1953)', '(1985)', '(VIII)',\n",
       "       '(1973)', '(2012 TV Special)', '(V) (2016)', '(1972)',\n",
       "       '(V) (2018)', '(II) (2010)', '(2021 TV Short)', '(VI) (2019)',\n",
       "       '(I) (2005)', '(1965)', '(2010–2016)', '(V) (2010)', '(2005–2013)',\n",
       "       '(2006 TV Special)', '(2006 Video)', '(2011 TV Movie)',\n",
       "       '(1988 TV Movie)', '(XXIII)', '(2011 TV Special)',\n",
       "       '(2020 TV Short)', '(VI) (2018)', '(2008 TV Special)',\n",
       "       '(1998–1999)', '(I) (2015– )', '(III) (2012)', '(VI)',\n",
       "       '(2010 TV Special)', '(III) (2017)', '(1993 TV Special)',\n",
       "       '(2004–2005)', '(1992 Video)', '(1989 TV Special)', '(XI)',\n",
       "       '(III) (2014)', '(1966 TV Special)', '(1999 TV Movie)',\n",
       "       '(1987 TV Special)', '(1944)', '(1998 TV Special)',\n",
       "       '(2006 TV Movie)', '(2022 TV Special)', '(1989 Video)',\n",
       "       '(1991 TV Special)', '(XLI)', '(IV) (2014)', '(2005 Video)',\n",
       "       '(2007 TV Special)', '(1965 TV Special)', '(1990 TV Special)',\n",
       "       '(2001 TV Special)', '(IX)', '(II) (2016– )', '(XIV) (2017)',\n",
       "       '(2009–2010)', '(XIII)', '(II) (2012–2019)', '(1933)',\n",
       "       '(II) (2009)', '(2010 Video)', '(2009 TV Special)', '(1938)',\n",
       "       '(2003 TV Special)', '(Video)', '(2001 TV Movie)', '(VI) (2016)',\n",
       "       '(III) (2011)', '(2007 TV Movie)', '(2017 TV Short)',\n",
       "       '(2018 Video)', '(2000 Video)', '(1995 Video)', '(2003 Video)',\n",
       "       '(II) (2016 TV Movie)', '(1998 Video)', '(2005 TV Special)',\n",
       "       '(2004–2009)', '(2018 Video Game)', '(1988– )', '(1985– )'],\n",
       "      dtype=object)"
      ]
     },
     "execution_count": 173,
     "metadata": {},
     "output_type": "execute_result"
    }
   ],
   "source": [
    "df['year'].unique()"
   ]
  },
  {
   "cell_type": "code",
   "execution_count": 174,
   "id": "be68e776",
   "metadata": {},
   "outputs": [],
   "source": [
    "#changing the column year to str type\n",
    "df['year']= df['year'].astype(str)"
   ]
  },
  {
   "cell_type": "code",
   "execution_count": 175,
   "id": "97ef9f1e",
   "metadata": {},
   "outputs": [],
   "source": [
    "df['years'] = df['year'].apply(lambda x : x.lstrip(\"(\").rstrip(\")\"))"
   ]
  },
  {
   "cell_type": "code",
   "execution_count": 177,
   "id": "460e87e2",
   "metadata": {},
   "outputs": [
    {
     "data": {
      "text/plain": [
       "array(['2021', '2021– ', '2010–2022', '2013– ', '2020– ', '2006–2013',\n",
       "       '2019– ', '2016–2021', '2011– ', '2005– ', '2008–2013', '2017– ',\n",
       "       '2017–2021', '2016– ', '1994–2004', '2014– ', '2013–2020',\n",
       "       '2015– ', '2005–2020', '2013–2022', '2003– ', '2009–2020',\n",
       "       'I) (2018– ', '2010–2015', '2011–2019', '2015–2020', '2005–2014',\n",
       "       '2009–2015', '2008–2014', '2016–2018', '2009–2017', '2020',\n",
       "       '2018–2021', '2017–2020', '1987–1994', '2018– ', '2012– ',\n",
       "       '2014–2020', '2011–2018', '2005–2017', '2017', '2007–2015',\n",
       "       '2000–2007', 'II) (2007– ', '1993', '1999–2022', '2015–2018',\n",
       "       '2014–2019', '2016', '2012–2020', '2013–2019', '2007–2012',\n",
       "       '2011–2020', '2010–2017', '2000–2015', '2015–2021', '2001',\n",
       "       '1997– ', '2011–2017', '1993–1999', '1989–1998', '2010–2013',\n",
       "       '2010–2020', '2003–2019', 'I) (2019', '2017–2019', '1975',\n",
       "       '2005–2008', '1995–2001', '2006', '2015–2017', '2008–2020',\n",
       "       '1984–1996', '2010– ', '2014', '2000', '2013–2018', '2009–2016',\n",
       "       '2016–2020', '2021 TV Special', '2003', '1998–2003', 'I) (2017',\n",
       "       '1966–1969', '2009– ', '2019', '1990–1991', '2012', '1995',\n",
       "       '2020–2021', '2013–2017', '2015', '2019–2020', '2017–2018',\n",
       "       '2013–2015', '2012–2017', 'I) (2013–2016', '2002', 'I) (2020',\n",
       "       'III) (2021', '2018', 'II) (2016', '1976', '1978', '2016–2019',\n",
       "       '2009–2014', '2022', '2011–2014', '2007–2013', '2006–2007',\n",
       "       '2002–2007', '2014–2017', '2010–2019', '2008– ', '2012–2019',\n",
       "       '2014–2016', '2009–2012', '2018–2020', '2001–2005', '2011–2015',\n",
       "       '2014–2018', '2015–2019', '1982–1993', '1998– ', '1968',\n",
       "       '2010–2018', '2014–2021', '2007–2010', '2011', '2013–2021',\n",
       "       '1990–1996', '2004', '2007–2014', '1996–2001', '2013', '2008',\n",
       "       '1999–2000', '2012–2014', 'I) (2013', '2012–2018', '2018–2019',\n",
       "       '2009–2013', '1971', '2004– ', '1989', '1998', '2001–2018',\n",
       "       '1987–1995', 'I) (2014', '1998–2020', 'I) (2015', '1997',\n",
       "       '2004–2013', '2002– ', '2010', 'I) (2016', 'II) (2017– ',\n",
       "       'I) (2018', 'I) (2021', '2004–2012', '2019–2021', 'IV) (2020',\n",
       "       '2006–2010', '2006–2012', '1996', '1994–2000', 'II) (2020', '1980',\n",
       "       'I) (2011', '1995–1996', '2016–2017', '1993–1996', 'II) (2019– ',\n",
       "       '2009', '1962', '1991', '2022– ', 'II) (2017', 'I) (2012', '1984',\n",
       "       '2011–2016', '2009–2019', 'II) (2020– ', '2006–2021', 'I) (2010',\n",
       "       '2012–2015', 'I) (2013–2014', '1960', '1988', '2007', '1987',\n",
       "       '2010–2011', '1969', '2006–2011', 'II) (2019', '1961', '1979',\n",
       "       'II) (2022', '2014–2015', '1956', '2013–2016', 'III) (2018',\n",
       "       '2005', 'II) (2012– ', 'II) (2013', '1983', '2002–2019',\n",
       "       '2013 TV Movie', 'II) (2015', 'I) (2012–2015', '1975–1979', '1990',\n",
       "       'nan', 'II) (2018', 'IV) (2021', '2015–2016', '1995–1998', '1986',\n",
       "       '2012–2013', '1966', '2011–2012', '2011–2021', '2016 Video',\n",
       "       '2017 TV Movie', '2009–2011', '2004–2018', '1967', '1984– ',\n",
       "       '1994', '2003–2006', 'III) (2015', '1974', '2000–2004',\n",
       "       '1984–2021', 'I', 'II) (2021', '1994–1999', 'III', '1992',\n",
       "       '1969–1974', '2012–2016', '2013–2014', 'I) (2008', '1958',\n",
       "       '2008–2009', 'II) (2004', 'III) (2019', '2006–2009', '2011–2013',\n",
       "       '2007–2008', '1988–1999', '2010–2012', '2010–2014', 'II) (2012',\n",
       "       '1932', '2014 TV Movie', '1941', '2006– ', '1992–1995',\n",
       "       '2016 TV Special', '2020 TV Movie', '2008–2010', 'II',\n",
       "       '2020 Video', '1999– ', '1950', '2020 TV Special', '1992–2014',\n",
       "       '2002–2005', '2013 TV Special', 'I) (2021– ', '1999',\n",
       "       '2016 TV Movie', 'XII', 'VII', '2021 TV Movie', '1983– ',\n",
       "       '1996 Video', '1993 TV Movie', '2018 TV Movie', '2005–2009',\n",
       "       '2001–2002', '2015 TV Movie', 'I) (2020– ', '2011 Video',\n",
       "       '2008 Video', '2012 Video', '1946', 'II) (2014', '2019 Video',\n",
       "       '1981–1989', 'IV) (2016', 'III) (2016', '2019 TV Movie', '1952',\n",
       "       '2007 Video', '2000–2014', '1992– ', '1957', '2003–2007', 'IV',\n",
       "       '2008–2017', '2008–2019', '1998–2000', 'I) (2004', '2007–2016',\n",
       "       '2017 TV Special', '2009 TV Movie', '2013 Video', '2017 Video',\n",
       "       '1994–1996', 'IV) (2017', 'IV) (2018', '2007– ', '1954',\n",
       "       '2012 TV Movie', '1995– ', '1982', '1955', '2014 TV Short',\n",
       "       'I) (2022– ', 'I) (2019–2020', '1975 TV Movie', '2019 TV Special',\n",
       "       '2015 TV Special', '2015 TV Short', '2018 TV Special', '1948',\n",
       "       '2014 Video', 'VI) (2014', '2003–2013', '2021 Video', '1947',\n",
       "       '2001– ', 'II) (2021– ', '1997–2000', 'III) (2020', 'I) (2019– ',\n",
       "       '1993– ', '1977', 'I) (2009', 'V', '2023', 'I) (2000',\n",
       "       'TV Special', 'II) (2011', 'TV Movie', '1945', '2015 Video',\n",
       "       'III) (2010', '2009 Video', '1998–2002', '2008 TV Movie',\n",
       "       '2019 TV Short', '2004 Video', 'II) (1998', '2014 TV Special',\n",
       "       '1953', '1985', 'VIII', '1973', '2012 TV Special', 'V) (2016',\n",
       "       '1972', 'V) (2018', 'II) (2010', '2021 TV Short', 'VI) (2019',\n",
       "       'I) (2005', '1965', '2010–2016', 'V) (2010', '2005–2013',\n",
       "       '2006 TV Special', '2006 Video', '2011 TV Movie', '1988 TV Movie',\n",
       "       'XXIII', '2011 TV Special', '2020 TV Short', 'VI) (2018',\n",
       "       '2008 TV Special', '1998–1999', 'I) (2015– ', 'III) (2012', 'VI',\n",
       "       '2010 TV Special', 'III) (2017', '1993 TV Special', '2004–2005',\n",
       "       '1992 Video', '1989 TV Special', 'XI', 'III) (2014',\n",
       "       '1966 TV Special', '1999 TV Movie', '1987 TV Special', '1944',\n",
       "       '1998 TV Special', '2006 TV Movie', '2022 TV Special',\n",
       "       '1989 Video', '1991 TV Special', 'XLI', 'IV) (2014', '2005 Video',\n",
       "       '2007 TV Special', '1965 TV Special', '1990 TV Special',\n",
       "       '2001 TV Special', 'IX', 'II) (2016– ', 'XIV) (2017', '2009–2010',\n",
       "       'XIII', 'II) (2012–2019', '1933', 'II) (2009', '2010 Video',\n",
       "       '2009 TV Special', '1938', '2003 TV Special', 'Video',\n",
       "       '2001 TV Movie', 'VI) (2016', 'III) (2011', '2007 TV Movie',\n",
       "       '2017 TV Short', '2018 Video', '2000 Video', '1995 Video',\n",
       "       '2003 Video', 'II) (2016 TV Movie', '1998 Video',\n",
       "       '2005 TV Special', '2004–2009', '2018 Video Game', '1988– ',\n",
       "       '1985– '], dtype=object)"
      ]
     },
     "execution_count": 177,
     "metadata": {},
     "output_type": "execute_result"
    }
   ],
   "source": [
    "df['years'].unique()"
   ]
  },
  {
   "cell_type": "code",
   "execution_count": 178,
   "id": "db5db273",
   "metadata": {},
   "outputs": [
    {
     "name": "stdout",
     "output_type": "stream",
     "text": [
      "['2012']\n"
     ]
    }
   ],
   "source": [
    "import re\n",
    "\n",
    "# Function to convert the years column to a list and specify the movie category\n",
    "def dates_extract(item):\n",
    "    year_pattern = r'\\d{4}'\n",
    "    extracted_years = [re.search(year_pattern, value).group() if re.search(year_pattern, value) else 'N/A' for value in item]\n",
    "    return extracted_years\n",
    "\n",
    "a = dates_extract([\"2012–2019', '1933', 'II) (2009', '2010 Video','2009 TV Special', '1938', '2003 TV Special', 'Video','2001 TV Movie', 'VI\"])\n",
    "print(a)\n"
   ]
  },
  {
   "cell_type": "code",
   "execution_count": null,
   "id": "e9cb8649",
   "metadata": {},
   "outputs": [],
   "source": []
  },
  {
   "cell_type": "code",
   "execution_count": 179,
   "id": "7ef573a7",
   "metadata": {},
   "outputs": [],
   "source": [
    "df['year_'] = df['years'].apply(dates_extract)"
   ]
  },
  {
   "cell_type": "code",
   "execution_count": 180,
   "id": "67ef01b2",
   "metadata": {},
   "outputs": [
    {
     "data": {
      "text/plain": [
       "0                                [N/A, N/A, N/A, N/A]\n",
       "1                      [N/A, N/A, N/A, N/A, N/A, N/A]\n",
       "2       [N/A, N/A, N/A, N/A, N/A, N/A, N/A, N/A, N/A]\n",
       "3                      [N/A, N/A, N/A, N/A, N/A, N/A]\n",
       "4                                [N/A, N/A, N/A, N/A]\n",
       "                            ...                      \n",
       "9994                   [N/A, N/A, N/A, N/A, N/A, N/A]\n",
       "9995                   [N/A, N/A, N/A, N/A, N/A, N/A]\n",
       "9996                   [N/A, N/A, N/A, N/A, N/A, N/A]\n",
       "9997                   [N/A, N/A, N/A, N/A, N/A, N/A]\n",
       "9998                   [N/A, N/A, N/A, N/A, N/A, N/A]\n",
       "Name: year_, Length: 9999, dtype: object"
      ]
     },
     "execution_count": 180,
     "metadata": {},
     "output_type": "execute_result"
    }
   ],
   "source": [
    "df['year_']"
   ]
  },
  {
   "cell_type": "code",
   "execution_count": null,
   "id": "5114aada",
   "metadata": {},
   "outputs": [],
   "source": []
  }
 ],
 "metadata": {
  "kernelspec": {
   "display_name": "Python 3 (ipykernel)",
   "language": "python",
   "name": "python3"
  },
  "language_info": {
   "codemirror_mode": {
    "name": "ipython",
    "version": 3
   },
   "file_extension": ".py",
   "mimetype": "text/x-python",
   "name": "python",
   "nbconvert_exporter": "python",
   "pygments_lexer": "ipython3",
   "version": "3.9.12"
  }
 },
 "nbformat": 4,
 "nbformat_minor": 5
}
