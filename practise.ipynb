{
 "cells": [
  {
   "cell_type": "code",
   "execution_count": 232,
   "id": "e35beb3e",
   "metadata": {},
   "outputs": [],
   "source": [
    "import pandas as pd\n",
    "import re\n",
    "\n",
    "import matplotlib.pyplot as plt\n",
    "\n",
    "\n",
    "# pd.set_option('display.max_columns', None)  "
   ]
  },
  {
   "cell_type": "code",
   "execution_count": 233,
   "id": "0788680b",
   "metadata": {
    "scrolled": true
   },
   "outputs": [
    {
     "data": {
      "text/html": [
       "<div>\n",
       "<style scoped>\n",
       "    .dataframe tbody tr th:only-of-type {\n",
       "        vertical-align: middle;\n",
       "    }\n",
       "\n",
       "    .dataframe tbody tr th {\n",
       "        vertical-align: top;\n",
       "    }\n",
       "\n",
       "    .dataframe thead th {\n",
       "        text-align: right;\n",
       "    }\n",
       "</style>\n",
       "<table border=\"1\" class=\"dataframe\">\n",
       "  <thead>\n",
       "    <tr style=\"text-align: right;\">\n",
       "      <th></th>\n",
       "      <th>MOVIES</th>\n",
       "      <th>YEAR</th>\n",
       "      <th>GENRE</th>\n",
       "      <th>RATING</th>\n",
       "      <th>ONE-LINE</th>\n",
       "      <th>STARS</th>\n",
       "      <th>VOTES</th>\n",
       "      <th>RunTime</th>\n",
       "      <th>Gross</th>\n",
       "    </tr>\n",
       "  </thead>\n",
       "  <tbody>\n",
       "    <tr>\n",
       "      <th>0</th>\n",
       "      <td>Blood Red Sky</td>\n",
       "      <td>(2021)</td>\n",
       "      <td>\\nAction, Horror, Thriller</td>\n",
       "      <td>6.1</td>\n",
       "      <td>\\nA woman with a mysterious illness is forced ...</td>\n",
       "      <td>\\n    Director:\\nPeter Thorwarth\\n| \\n    Star...</td>\n",
       "      <td>21,062</td>\n",
       "      <td>121.0</td>\n",
       "      <td>NaN</td>\n",
       "    </tr>\n",
       "    <tr>\n",
       "      <th>1</th>\n",
       "      <td>Masters of the Universe: Revelation</td>\n",
       "      <td>(2021– )</td>\n",
       "      <td>\\nAnimation, Action, Adventure</td>\n",
       "      <td>5.0</td>\n",
       "      <td>\\nThe war for Eternia begins again in what may...</td>\n",
       "      <td>\\n            \\n    Stars:\\nChris Wood, \\nSara...</td>\n",
       "      <td>17,870</td>\n",
       "      <td>25.0</td>\n",
       "      <td>NaN</td>\n",
       "    </tr>\n",
       "    <tr>\n",
       "      <th>2</th>\n",
       "      <td>The Walking Dead</td>\n",
       "      <td>(2010–2022)</td>\n",
       "      <td>\\nDrama, Horror, Thriller</td>\n",
       "      <td>8.2</td>\n",
       "      <td>\\nSheriff Deputy Rick Grimes wakes up from a c...</td>\n",
       "      <td>\\n            \\n    Stars:\\nAndrew Lincoln, \\n...</td>\n",
       "      <td>885,805</td>\n",
       "      <td>44.0</td>\n",
       "      <td>NaN</td>\n",
       "    </tr>\n",
       "    <tr>\n",
       "      <th>3</th>\n",
       "      <td>Rick and Morty</td>\n",
       "      <td>(2013– )</td>\n",
       "      <td>\\nAnimation, Adventure, Comedy</td>\n",
       "      <td>9.2</td>\n",
       "      <td>\\nAn animated series that follows the exploits...</td>\n",
       "      <td>\\n            \\n    Stars:\\nJustin Roiland, \\n...</td>\n",
       "      <td>414,849</td>\n",
       "      <td>23.0</td>\n",
       "      <td>NaN</td>\n",
       "    </tr>\n",
       "    <tr>\n",
       "      <th>4</th>\n",
       "      <td>Army of Thieves</td>\n",
       "      <td>(2021)</td>\n",
       "      <td>\\nAction, Crime, Horror</td>\n",
       "      <td>NaN</td>\n",
       "      <td>\\nA prequel, set before the events of Army of ...</td>\n",
       "      <td>\\n    Director:\\nMatthias Schweighöfer\\n| \\n  ...</td>\n",
       "      <td>NaN</td>\n",
       "      <td>NaN</td>\n",
       "      <td>NaN</td>\n",
       "    </tr>\n",
       "  </tbody>\n",
       "</table>\n",
       "</div>"
      ],
      "text/plain": [
       "                                MOVIES         YEAR  \\\n",
       "0                        Blood Red Sky       (2021)   \n",
       "1  Masters of the Universe: Revelation     (2021– )   \n",
       "2                     The Walking Dead  (2010–2022)   \n",
       "3                       Rick and Morty     (2013– )   \n",
       "4                      Army of Thieves       (2021)   \n",
       "\n",
       "                                        GENRE  RATING  \\\n",
       "0      \\nAction, Horror, Thriller                 6.1   \n",
       "1  \\nAnimation, Action, Adventure                 5.0   \n",
       "2       \\nDrama, Horror, Thriller                 8.2   \n",
       "3  \\nAnimation, Adventure, Comedy                 9.2   \n",
       "4         \\nAction, Crime, Horror                 NaN   \n",
       "\n",
       "                                            ONE-LINE  \\\n",
       "0  \\nA woman with a mysterious illness is forced ...   \n",
       "1  \\nThe war for Eternia begins again in what may...   \n",
       "2  \\nSheriff Deputy Rick Grimes wakes up from a c...   \n",
       "3  \\nAn animated series that follows the exploits...   \n",
       "4  \\nA prequel, set before the events of Army of ...   \n",
       "\n",
       "                                               STARS    VOTES  RunTime Gross  \n",
       "0  \\n    Director:\\nPeter Thorwarth\\n| \\n    Star...   21,062    121.0   NaN  \n",
       "1  \\n            \\n    Stars:\\nChris Wood, \\nSara...   17,870     25.0   NaN  \n",
       "2  \\n            \\n    Stars:\\nAndrew Lincoln, \\n...  885,805     44.0   NaN  \n",
       "3  \\n            \\n    Stars:\\nJustin Roiland, \\n...  414,849     23.0   NaN  \n",
       "4  \\n    Director:\\nMatthias Schweighöfer\\n| \\n  ...      NaN      NaN   NaN  "
      ]
     },
     "execution_count": 233,
     "metadata": {},
     "output_type": "execute_result"
    }
   ],
   "source": [
    "df = pd.read_csv('movies_data.csv')\n",
    "df.head()"
   ]
  },
  {
   "cell_type": "code",
   "execution_count": 234,
   "id": "9025ffec",
   "metadata": {
    "scrolled": true
   },
   "outputs": [
    {
     "name": "stdout",
     "output_type": "stream",
     "text": [
      "<class 'pandas.core.frame.DataFrame'>\n",
      "RangeIndex: 9999 entries, 0 to 9998\n",
      "Data columns (total 9 columns):\n",
      " #   Column    Non-Null Count  Dtype  \n",
      "---  ------    --------------  -----  \n",
      " 0   MOVIES    9999 non-null   object \n",
      " 1   YEAR      9355 non-null   object \n",
      " 2   GENRE     9919 non-null   object \n",
      " 3   RATING    8179 non-null   float64\n",
      " 4   ONE-LINE  9999 non-null   object \n",
      " 5   STARS     9999 non-null   object \n",
      " 6   VOTES     8179 non-null   object \n",
      " 7   RunTime   7041 non-null   float64\n",
      " 8   Gross     460 non-null    object \n",
      "dtypes: float64(2), object(7)\n",
      "memory usage: 703.2+ KB\n"
     ]
    }
   ],
   "source": [
    "df.info()"
   ]
  },
  {
   "cell_type": "code",
   "execution_count": 235,
   "id": "066801fc",
   "metadata": {
    "scrolled": true
   },
   "outputs": [],
   "source": [
    "# df.describe()"
   ]
  },
  {
   "cell_type": "code",
   "execution_count": 236,
   "id": "8726f179",
   "metadata": {},
   "outputs": [],
   "source": [
    "# df.nunique()"
   ]
  },
  {
   "cell_type": "code",
   "execution_count": 237,
   "id": "d0401a8d",
   "metadata": {
    "scrolled": true
   },
   "outputs": [],
   "source": [
    "# df.isna().sum()"
   ]
  },
  {
   "cell_type": "code",
   "execution_count": 238,
   "id": "8fe4c830",
   "metadata": {},
   "outputs": [],
   "source": [
    "# df.shape"
   ]
  },
  {
   "cell_type": "code",
   "execution_count": 239,
   "id": "9e0b4d47",
   "metadata": {},
   "outputs": [],
   "source": [
    "# df.columns"
   ]
  },
  {
   "cell_type": "code",
   "execution_count": 240,
   "id": "d087ace3",
   "metadata": {
    "scrolled": false
   },
   "outputs": [
    {
     "data": {
      "text/plain": [
       "Index(['movies', 'year', 'genre', 'rating', 'one-line', 'stars', 'votes',\n",
       "       'runtime', 'gross'],\n",
       "      dtype='object')"
      ]
     },
     "execution_count": 240,
     "metadata": {},
     "output_type": "execute_result"
    }
   ],
   "source": [
    "# Converting all the header name into lower case\n",
    "df.columns = [x.lower() for x in df.columns]\n",
    "df.columns\n"
   ]
  },
  {
   "cell_type": "code",
   "execution_count": null,
   "id": "e6a17a71",
   "metadata": {
    "scrolled": true
   },
   "outputs": [],
   "source": []
  },
  {
   "cell_type": "markdown",
   "id": "9d2aeeb1",
   "metadata": {},
   "source": [
    "## Data Cleaning"
   ]
  },
  {
   "cell_type": "code",
   "execution_count": 241,
   "id": "869494b3",
   "metadata": {},
   "outputs": [
    {
     "data": {
      "text/html": [
       "<div>\n",
       "<style scoped>\n",
       "    .dataframe tbody tr th:only-of-type {\n",
       "        vertical-align: middle;\n",
       "    }\n",
       "\n",
       "    .dataframe tbody tr th {\n",
       "        vertical-align: top;\n",
       "    }\n",
       "\n",
       "    .dataframe thead th {\n",
       "        text-align: right;\n",
       "    }\n",
       "</style>\n",
       "<table border=\"1\" class=\"dataframe\">\n",
       "  <thead>\n",
       "    <tr style=\"text-align: right;\">\n",
       "      <th></th>\n",
       "      <th>movies</th>\n",
       "      <th>year</th>\n",
       "      <th>genre</th>\n",
       "      <th>rating</th>\n",
       "      <th>one-line</th>\n",
       "      <th>stars</th>\n",
       "      <th>votes</th>\n",
       "      <th>runtime</th>\n",
       "      <th>gross</th>\n",
       "    </tr>\n",
       "  </thead>\n",
       "  <tbody>\n",
       "    <tr>\n",
       "      <th>0</th>\n",
       "      <td>Blood Red Sky</td>\n",
       "      <td>(2021)</td>\n",
       "      <td>\\nAction, Horror, Thriller</td>\n",
       "      <td>6.1</td>\n",
       "      <td>\\nA woman with a mysterious illness is forced ...</td>\n",
       "      <td>\\n    Director:\\nPeter Thorwarth\\n| \\n    Star...</td>\n",
       "      <td>21,062</td>\n",
       "      <td>121.0</td>\n",
       "      <td>NaN</td>\n",
       "    </tr>\n",
       "    <tr>\n",
       "      <th>1</th>\n",
       "      <td>Masters of the Universe: Revelation</td>\n",
       "      <td>(2021– )</td>\n",
       "      <td>\\nAnimation, Action, Adventure</td>\n",
       "      <td>5.0</td>\n",
       "      <td>\\nThe war for Eternia begins again in what may...</td>\n",
       "      <td>\\n            \\n    Stars:\\nChris Wood, \\nSara...</td>\n",
       "      <td>17,870</td>\n",
       "      <td>25.0</td>\n",
       "      <td>NaN</td>\n",
       "    </tr>\n",
       "    <tr>\n",
       "      <th>2</th>\n",
       "      <td>The Walking Dead</td>\n",
       "      <td>(2010–2022)</td>\n",
       "      <td>\\nDrama, Horror, Thriller</td>\n",
       "      <td>8.2</td>\n",
       "      <td>\\nSheriff Deputy Rick Grimes wakes up from a c...</td>\n",
       "      <td>\\n            \\n    Stars:\\nAndrew Lincoln, \\n...</td>\n",
       "      <td>885,805</td>\n",
       "      <td>44.0</td>\n",
       "      <td>NaN</td>\n",
       "    </tr>\n",
       "    <tr>\n",
       "      <th>3</th>\n",
       "      <td>Rick and Morty</td>\n",
       "      <td>(2013– )</td>\n",
       "      <td>\\nAnimation, Adventure, Comedy</td>\n",
       "      <td>9.2</td>\n",
       "      <td>\\nAn animated series that follows the exploits...</td>\n",
       "      <td>\\n            \\n    Stars:\\nJustin Roiland, \\n...</td>\n",
       "      <td>414,849</td>\n",
       "      <td>23.0</td>\n",
       "      <td>NaN</td>\n",
       "    </tr>\n",
       "    <tr>\n",
       "      <th>4</th>\n",
       "      <td>Army of Thieves</td>\n",
       "      <td>(2021)</td>\n",
       "      <td>\\nAction, Crime, Horror</td>\n",
       "      <td>NaN</td>\n",
       "      <td>\\nA prequel, set before the events of Army of ...</td>\n",
       "      <td>\\n    Director:\\nMatthias Schweighöfer\\n| \\n  ...</td>\n",
       "      <td>NaN</td>\n",
       "      <td>NaN</td>\n",
       "      <td>NaN</td>\n",
       "    </tr>\n",
       "  </tbody>\n",
       "</table>\n",
       "</div>"
      ],
      "text/plain": [
       "                                movies         year  \\\n",
       "0                        Blood Red Sky       (2021)   \n",
       "1  Masters of the Universe: Revelation     (2021– )   \n",
       "2                     The Walking Dead  (2010–2022)   \n",
       "3                       Rick and Morty     (2013– )   \n",
       "4                      Army of Thieves       (2021)   \n",
       "\n",
       "                                        genre  rating  \\\n",
       "0      \\nAction, Horror, Thriller                 6.1   \n",
       "1  \\nAnimation, Action, Adventure                 5.0   \n",
       "2       \\nDrama, Horror, Thriller                 8.2   \n",
       "3  \\nAnimation, Adventure, Comedy                 9.2   \n",
       "4         \\nAction, Crime, Horror                 NaN   \n",
       "\n",
       "                                            one-line  \\\n",
       "0  \\nA woman with a mysterious illness is forced ...   \n",
       "1  \\nThe war for Eternia begins again in what may...   \n",
       "2  \\nSheriff Deputy Rick Grimes wakes up from a c...   \n",
       "3  \\nAn animated series that follows the exploits...   \n",
       "4  \\nA prequel, set before the events of Army of ...   \n",
       "\n",
       "                                               stars    votes  runtime gross  \n",
       "0  \\n    Director:\\nPeter Thorwarth\\n| \\n    Star...   21,062    121.0   NaN  \n",
       "1  \\n            \\n    Stars:\\nChris Wood, \\nSara...   17,870     25.0   NaN  \n",
       "2  \\n            \\n    Stars:\\nAndrew Lincoln, \\n...  885,805     44.0   NaN  \n",
       "3  \\n            \\n    Stars:\\nJustin Roiland, \\n...  414,849     23.0   NaN  \n",
       "4  \\n    Director:\\nMatthias Schweighöfer\\n| \\n  ...      NaN      NaN   NaN  "
      ]
     },
     "execution_count": 241,
     "metadata": {},
     "output_type": "execute_result"
    }
   ],
   "source": [
    "df.head()"
   ]
  },
  {
   "cell_type": "markdown",
   "id": "c529a0c0",
   "metadata": {},
   "source": [
    "## Year"
   ]
  },
  {
   "cell_type": "code",
   "execution_count": 242,
   "id": "e688cf13",
   "metadata": {},
   "outputs": [],
   "source": [
    "df['genre'] = df['genre'].astype(str)\n",
    "\n",
    "df['movies_g'] = df['genre'].apply(lambda x: \"\".join(x.strip().replace(\" \",\"\").split('\\n')))"
   ]
  },
  {
   "cell_type": "code",
   "execution_count": 243,
   "id": "3ccb5d7a",
   "metadata": {},
   "outputs": [
    {
     "data": {
      "text/plain": [
       "0           Action,Horror,Thriller\n",
       "1       Animation,Action,Adventure\n",
       "2            Drama,Horror,Thriller\n",
       "3       Animation,Adventure,Comedy\n",
       "4              Action,Crime,Horror\n",
       "                   ...            \n",
       "9994       Adventure,Drama,Fantasy\n",
       "9995    Animation,Action,Adventure\n",
       "9996             Documentary,Sport\n",
       "9997       Adventure,Drama,Fantasy\n",
       "9998       Adventure,Drama,Fantasy\n",
       "Name: movies_g, Length: 9999, dtype: object"
      ]
     },
     "execution_count": 243,
     "metadata": {},
     "output_type": "execute_result"
    }
   ],
   "source": [
    "df['movies_g']"
   ]
  },
  {
   "cell_type": "markdown",
   "id": "f7d0d50c",
   "metadata": {},
   "source": [
    "## one line"
   ]
  },
  {
   "cell_type": "code",
   "execution_count": 244,
   "id": "baab796f",
   "metadata": {},
   "outputs": [],
   "source": [
    "df['one-line'] = df['one-line'].astype(str)"
   ]
  },
  {
   "cell_type": "code",
   "execution_count": 245,
   "id": "0ec4bed1",
   "metadata": {},
   "outputs": [],
   "source": [
    "df['oneline'] = df['one-line'].apply(lambda x: x.strip())"
   ]
  },
  {
   "cell_type": "markdown",
   "id": "8785ba27",
   "metadata": {},
   "source": [
    "## director"
   ]
  },
  {
   "cell_type": "code",
   "execution_count": 246,
   "id": "132958d6",
   "metadata": {},
   "outputs": [],
   "source": [
    "df['stars'] = df['stars'].astype(str)"
   ]
  },
  {
   "cell_type": "code",
   "execution_count": 247,
   "id": "1e6e0022",
   "metadata": {},
   "outputs": [
    {
     "data": {
      "text/plain": [
       "array(['\\n    Director:\\nPeter Thorwarth\\n| \\n    Stars:\\nPeri Baumeister, \\nCarl Anton Koch, \\nAlexander Scheer, \\nKais Setti\\n',\n",
       "       '\\n            \\n    Stars:\\nChris Wood, \\nSarah Michelle Gellar, \\nLena Headey, \\nMark Hamill\\n',\n",
       "       '\\n            \\n    Stars:\\nAndrew Lincoln, \\nNorman Reedus, \\nMelissa McBride, \\nLauren Cohan\\n',\n",
       "       '\\n            \\n    Stars:\\nJustin Roiland, \\nChris Parnell, \\nSpencer Grammer, \\nSarah Chalke\\n',\n",
       "       '\\n    Director:\\nMatthias Schweighöfer\\n| \\n    Stars:\\nMatthias Schweighöfer, \\nNathalie Emmanuel, \\nRuby O. Fee, \\nStuart Martin\\n',\n",
       "       '\\n            \\n    Stars:\\nChase Stokes, \\nMadelyn Cline, \\nMadison Bailey, \\nJonathan Daviss\\n'],\n",
       "      dtype=object)"
      ]
     },
     "execution_count": 247,
     "metadata": {},
     "output_type": "execute_result"
    }
   ],
   "source": [
    "####key information\n",
    "\n",
    "df.head(6)['stars'].values\n"
   ]
  },
  {
   "cell_type": "code",
   "execution_count": 248,
   "id": "7523d283",
   "metadata": {},
   "outputs": [],
   "source": [
    "df['all_stars_director'] =  df['stars'].apply(lambda x: x.split('|')[0].strip())"
   ]
  },
  {
   "cell_type": "code",
   "execution_count": 249,
   "id": "ac96a594",
   "metadata": {},
   "outputs": [
    {
     "data": {
      "text/plain": [
       "0                              Director:\\nPeter Thorwarth\n",
       "1       Stars:\\nChris Wood, \\nSarah Michelle Gellar, \\...\n",
       "2       Stars:\\nAndrew Lincoln, \\nNorman Reedus, \\nMel...\n",
       "3       Stars:\\nJustin Roiland, \\nChris Parnell, \\nSpe...\n",
       "4                        Director:\\nMatthias Schweighöfer\n",
       "                              ...                        \n",
       "9994    Stars:\\nMorgan Taylor Campbell, \\nChris Cope, ...\n",
       "9995                                                     \n",
       "9996                     Director:\\nOrlando von Einsiedel\n",
       "9997                          Director:\\nJovanka Vuckovic\n",
       "9998                          Director:\\nJovanka Vuckovic\n",
       "Name: all_stars_director, Length: 9999, dtype: object"
      ]
     },
     "execution_count": 249,
     "metadata": {},
     "output_type": "execute_result"
    }
   ],
   "source": [
    "df['all_stars_director']"
   ]
  },
  {
   "cell_type": "code",
   "execution_count": 250,
   "id": "c43def4e",
   "metadata": {},
   "outputs": [
    {
     "name": "stdout",
     "output_type": "stream",
     "text": [
      "None\n"
     ]
    }
   ],
   "source": [
    "def to_get_director(items):\n",
    "        if items is not None and'Director' in items:\n",
    "            directors = items.split('\\n')[1]\n",
    "            return directors\n",
    "        else:\n",
    "            pass\n",
    "    \n",
    "a = to_get_director(\"Stars:\\nPeri Baumeister, \\nCarl Anton Koch, \\nAlexander Scheer, \\nKais Setti\") \n",
    "print(a)"
   ]
  },
  {
   "cell_type": "code",
   "execution_count": 251,
   "id": "eb95682a",
   "metadata": {},
   "outputs": [],
   "source": [
    "df['all_stars_director_'] = df['all_stars_director'].apply(to_get_director)\n"
   ]
  },
  {
   "cell_type": "code",
   "execution_count": null,
   "id": "ea3d2267",
   "metadata": {},
   "outputs": [],
   "source": [
    "# Using pd.isna() or pd.isnull() to check for missing values\n",
    "df_m = df.loc[pd.isna(df['all_stars_director_'])]\n",
    "df_m.head(2)"
   ]
  },
  {
   "cell_type": "code",
   "execution_count": null,
   "id": "27e4ab2a",
   "metadata": {},
   "outputs": [],
   "source": [
    "df['all_stars_director_'] = df['all_stars_director_'].fillna('None')"
   ]
  },
  {
   "cell_type": "markdown",
   "id": "763fdb95",
   "metadata": {},
   "source": [
    "## stars"
   ]
  },
  {
   "cell_type": "code",
   "execution_count": 253,
   "id": "6d3e0d64",
   "metadata": {
    "scrolled": true
   },
   "outputs": [
    {
     "data": {
      "text/plain": [
       "array(['\\n    Director:\\nPeter Thorwarth\\n| \\n    Stars:\\nPeri Baumeister, \\nCarl Anton Koch, \\nAlexander Scheer, \\nKais Setti\\n',\n",
       "       '\\n            \\n    Stars:\\nChris Wood, \\nSarah Michelle Gellar, \\nLena Headey, \\nMark Hamill\\n',\n",
       "       '\\n            \\n    Stars:\\nAndrew Lincoln, \\nNorman Reedus, \\nMelissa McBride, \\nLauren Cohan\\n'],\n",
       "      dtype=object)"
      ]
     },
     "execution_count": 253,
     "metadata": {},
     "output_type": "execute_result"
    }
   ],
   "source": [
    "df.head(3)['stars'].values"
   ]
  },
  {
   "cell_type": "code",
   "execution_count": 254,
   "id": "edfe8f53",
   "metadata": {},
   "outputs": [
    {
     "name": "stdout",
     "output_type": "stream",
     "text": [
      "Peri Baumeister,Carl Anton Koch,Alexander Scheer,Kais Setti\n"
     ]
    }
   ],
   "source": [
    "## to get the stars\n",
    "def to_get_stars(item):\n",
    "    #confirm if the pattern match, stars is the item being looked for\n",
    "    #r is the raw string\n",
    "    stars_result = re.search(r'Stars:\\s*([\\s\\S]*?)(?:\\n\\n|$)', item)\n",
    "    \n",
    "    if stars_result:\n",
    "    # the group calls the extracts the content of the first capturing group\n",
    "        stars_info = stars_result.group(1)\n",
    "        stars_list = [star.strip() for star in stars_info.split(', \\n')]\n",
    "        \n",
    "        #seperate the list to a string\n",
    "        stars = \",\".join(stars_list)\n",
    "        return stars\n",
    "    else:\n",
    "        pass\n",
    "\n",
    "a = to_get_stars(\"\\n    Director:\\nPeter Thorwarth\\n| \\n    Stars:\\nPeri Baumeister, \\nCarl Anton Koch, \\nAlexander Scheer, \\nKais Setti\\n\")\n",
    "print(a)"
   ]
  },
  {
   "cell_type": "code",
   "execution_count": 255,
   "id": "2dc714b9",
   "metadata": {},
   "outputs": [],
   "source": [
    "df['all_stars'] = df['stars'].apply(to_get_stars)"
   ]
  },
  {
   "cell_type": "code",
   "execution_count": 256,
   "id": "08701b7f",
   "metadata": {},
   "outputs": [],
   "source": [
    "#calculating the average mean of the ratings and fill the null values with the mean\n",
    "df['all_stars'] = df['all_stars'].fillna('None')"
   ]
  },
  {
   "cell_type": "markdown",
   "id": "c5912045",
   "metadata": {},
   "source": [
    "## votes"
   ]
  },
  {
   "cell_type": "code",
   "execution_count": 257,
   "id": "6228a596",
   "metadata": {},
   "outputs": [],
   "source": [
    "df['votes'] = df['votes'].str.replace(\",\",\"\")"
   ]
  },
  {
   "cell_type": "code",
   "execution_count": 258,
   "id": "ac8cfce4",
   "metadata": {},
   "outputs": [],
   "source": [
    "df['votes'] = df['votes'].fillna(0).astype(int)\n"
   ]
  },
  {
   "cell_type": "markdown",
   "id": "40bfcf8f",
   "metadata": {},
   "source": [
    "## gross"
   ]
  },
  {
   "cell_type": "code",
   "execution_count": 259,
   "id": "5b403dc4",
   "metadata": {},
   "outputs": [
    {
     "data": {
      "text/plain": [
       "460"
      ]
     },
     "execution_count": 259,
     "metadata": {},
     "output_type": "execute_result"
    }
   ],
   "source": [
    "#delete column cuz its not relevamt and data points are few\n",
    "df['gross'].notna().sum()"
   ]
  },
  {
   "cell_type": "markdown",
   "id": "b75b630f",
   "metadata": {},
   "source": [
    "## one line"
   ]
  },
  {
   "cell_type": "code",
   "execution_count": 260,
   "id": "9e01348a",
   "metadata": {},
   "outputs": [
    {
     "data": {
      "text/plain": [
       "array(['\\nA woman with a mysterious illness is forced into action when a group of terrorists attempt to hijack a transatlantic overnight flight.',\n",
       "       '\\nThe war for Eternia begins again in what may be the final battle between He-Man and Skeletor. A new animated series from writer-director Kevin Smith.',\n",
       "       '\\nSheriff Deputy Rick Grimes wakes up from a coma to learn the world is in ruins and must lead a group of survivors to stay alive.'],\n",
       "      dtype=object)"
      ]
     },
     "execution_count": 260,
     "metadata": {},
     "output_type": "execute_result"
    }
   ],
   "source": [
    "df.head(3)['one-line'].values"
   ]
  },
  {
   "cell_type": "code",
   "execution_count": 261,
   "id": "a93d8413",
   "metadata": {},
   "outputs": [],
   "source": [
    "df['one-line'] = df['one-line'].apply(lambda x: x.strip())"
   ]
  },
  {
   "cell_type": "code",
   "execution_count": 262,
   "id": "818cad0f",
   "metadata": {},
   "outputs": [
    {
     "data": {
      "text/plain": [
       "7041"
      ]
     },
     "execution_count": 262,
     "metadata": {},
     "output_type": "execute_result"
    }
   ],
   "source": [
    "#delete column cuz its not relevamt and data points are few\n",
    "df['runtime'].notna().sum()"
   ]
  },
  {
   "cell_type": "markdown",
   "id": "896e7be1",
   "metadata": {},
   "source": [
    "## runtime"
   ]
  },
  {
   "cell_type": "code",
   "execution_count": 263,
   "id": "88c95988",
   "metadata": {},
   "outputs": [],
   "source": [
    "df['runtime'] = df['runtime'].fillna(0).astype(int)\n"
   ]
  },
  {
   "cell_type": "markdown",
   "id": "7bf5856a",
   "metadata": {},
   "source": [
    "## rating"
   ]
  },
  {
   "cell_type": "code",
   "execution_count": 264,
   "id": "b4d7a9f2",
   "metadata": {},
   "outputs": [],
   "source": [
    "df['rating'] = df['rating'].fillna(0).astype(float)"
   ]
  },
  {
   "cell_type": "markdown",
   "id": "f8dcd791",
   "metadata": {},
   "source": [
    "## year"
   ]
  },
  {
   "cell_type": "markdown",
   "id": "332848a1",
   "metadata": {},
   "source": [
    "## drop"
   ]
  },
  {
   "cell_type": "code",
   "execution_count": 265,
   "id": "a8a98a0e",
   "metadata": {},
   "outputs": [],
   "source": [
    "#dropping the columns\n",
    "df.drop(['year','genre', 'stars','gross', 'all_stars_director', 'year'], axis = 1, inplace = True)\n"
   ]
  },
  {
   "cell_type": "code",
   "execution_count": 267,
   "id": "b4f1b572",
   "metadata": {},
   "outputs": [
    {
     "data": {
      "text/html": [
       "<div>\n",
       "<style scoped>\n",
       "    .dataframe tbody tr th:only-of-type {\n",
       "        vertical-align: middle;\n",
       "    }\n",
       "\n",
       "    .dataframe tbody tr th {\n",
       "        vertical-align: top;\n",
       "    }\n",
       "\n",
       "    .dataframe thead th {\n",
       "        text-align: right;\n",
       "    }\n",
       "</style>\n",
       "<table border=\"1\" class=\"dataframe\">\n",
       "  <thead>\n",
       "    <tr style=\"text-align: right;\">\n",
       "      <th></th>\n",
       "      <th>movies</th>\n",
       "      <th>rating</th>\n",
       "      <th>one-line</th>\n",
       "      <th>votes</th>\n",
       "      <th>runtime</th>\n",
       "      <th>movies_g</th>\n",
       "      <th>oneline</th>\n",
       "      <th>all_stars_director_</th>\n",
       "      <th>all_stars</th>\n",
       "    </tr>\n",
       "  </thead>\n",
       "  <tbody>\n",
       "    <tr>\n",
       "      <th>0</th>\n",
       "      <td>Blood Red Sky</td>\n",
       "      <td>6.1</td>\n",
       "      <td>A woman with a mysterious illness is forced in...</td>\n",
       "      <td>21062</td>\n",
       "      <td>121</td>\n",
       "      <td>Action,Horror,Thriller</td>\n",
       "      <td>A woman with a mysterious illness is forced in...</td>\n",
       "      <td>Peter Thorwarth</td>\n",
       "      <td>Peri Baumeister,Carl Anton Koch,Alexander Sche...</td>\n",
       "    </tr>\n",
       "    <tr>\n",
       "      <th>1</th>\n",
       "      <td>Masters of the Universe: Revelation</td>\n",
       "      <td>5.0</td>\n",
       "      <td>The war for Eternia begins again in what may b...</td>\n",
       "      <td>17870</td>\n",
       "      <td>25</td>\n",
       "      <td>Animation,Action,Adventure</td>\n",
       "      <td>The war for Eternia begins again in what may b...</td>\n",
       "      <td>None</td>\n",
       "      <td>Chris Wood,Sarah Michelle Gellar,Lena Headey,M...</td>\n",
       "    </tr>\n",
       "  </tbody>\n",
       "</table>\n",
       "</div>"
      ],
      "text/plain": [
       "                                movies  rating  \\\n",
       "0                        Blood Red Sky     6.1   \n",
       "1  Masters of the Universe: Revelation     5.0   \n",
       "\n",
       "                                            one-line  votes  runtime  \\\n",
       "0  A woman with a mysterious illness is forced in...  21062      121   \n",
       "1  The war for Eternia begins again in what may b...  17870       25   \n",
       "\n",
       "                     movies_g  \\\n",
       "0      Action,Horror,Thriller   \n",
       "1  Animation,Action,Adventure   \n",
       "\n",
       "                                             oneline all_stars_director_  \\\n",
       "0  A woman with a mysterious illness is forced in...     Peter Thorwarth   \n",
       "1  The war for Eternia begins again in what may b...                None   \n",
       "\n",
       "                                           all_stars  \n",
       "0  Peri Baumeister,Carl Anton Koch,Alexander Sche...  \n",
       "1  Chris Wood,Sarah Michelle Gellar,Lena Headey,M...  "
      ]
     },
     "execution_count": 267,
     "metadata": {},
     "output_type": "execute_result"
    }
   ],
   "source": [
    "df.head(2)"
   ]
  },
  {
   "cell_type": "markdown",
   "id": "4b6eca8e",
   "metadata": {},
   "source": [
    "## duplicates "
   ]
  },
  {
   "cell_type": "code",
   "execution_count": 270,
   "id": "c164e358",
   "metadata": {
    "scrolled": true
   },
   "outputs": [
    {
     "data": {
      "text/plain": [
       "array(['Peter Thorwarth', None, 'Matthias Schweighöfer', ...,\n",
       "       'Anthony Philipson', 'Nicolai Rohde', 'Jovanka Vuckovic'],\n",
       "      dtype=object)"
      ]
     },
     "execution_count": 270,
     "metadata": {},
     "output_type": "execute_result"
    }
   ],
   "source": [
    "df.all_stars_director_.unique()"
   ]
  },
  {
   "cell_type": "code",
   "execution_count": 278,
   "id": "09cb8177",
   "metadata": {},
   "outputs": [
    {
     "data": {
      "text/html": [
       "<div>\n",
       "<style scoped>\n",
       "    .dataframe tbody tr th:only-of-type {\n",
       "        vertical-align: middle;\n",
       "    }\n",
       "\n",
       "    .dataframe tbody tr th {\n",
       "        vertical-align: top;\n",
       "    }\n",
       "\n",
       "    .dataframe thead th {\n",
       "        text-align: right;\n",
       "    }\n",
       "</style>\n",
       "<table border=\"1\" class=\"dataframe\">\n",
       "  <thead>\n",
       "    <tr style=\"text-align: right;\">\n",
       "      <th></th>\n",
       "      <th>movies</th>\n",
       "      <th>rating</th>\n",
       "      <th>one-line</th>\n",
       "      <th>votes</th>\n",
       "      <th>runtime</th>\n",
       "      <th>movies_g</th>\n",
       "      <th>oneline</th>\n",
       "      <th>all_stars_director_</th>\n",
       "      <th>all_stars</th>\n",
       "    </tr>\n",
       "  </thead>\n",
       "  <tbody>\n",
       "  </tbody>\n",
       "</table>\n",
       "</div>"
      ],
      "text/plain": [
       "Empty DataFrame\n",
       "Columns: [movies, rating, one-line, votes, runtime, movies_g, oneline, all_stars_director_, all_stars]\n",
       "Index: []"
      ]
     },
     "execution_count": 278,
     "metadata": {},
     "output_type": "execute_result"
    }
   ],
   "source": [
    "#asserting and confirming this has been cleaned \n",
    "df_m = df.loc[df['all_stars_director_']== \"\"]\n",
    "df_m.head(2)"
   ]
  },
  {
   "cell_type": "code",
   "execution_count": 289,
   "id": "e396448f",
   "metadata": {
    "scrolled": true
   },
   "outputs": [
    {
     "data": {
      "text/plain": [
       "202"
      ]
     },
     "execution_count": 289,
     "metadata": {},
     "output_type": "execute_result"
    }
   ],
   "source": [
    "#finding out no of duplicates\n",
    "df_.duplicated().sum()"
   ]
  },
  {
   "cell_type": "code",
   "execution_count": 298,
   "id": "68d75661",
   "metadata": {},
   "outputs": [
    {
     "name": "stdout",
     "output_type": "stream",
     "text": [
      "<class 'pandas.core.frame.DataFrame'>\n",
      "RangeIndex: 9999 entries, 0 to 9998\n",
      "Data columns (total 9 columns):\n",
      " #   Column               Non-Null Count  Dtype  \n",
      "---  ------               --------------  -----  \n",
      " 0   movies               9999 non-null   object \n",
      " 1   rating               9999 non-null   float64\n",
      " 2   one-line             9999 non-null   object \n",
      " 3   votes                9999 non-null   int64  \n",
      " 4   runtime              9999 non-null   int64  \n",
      " 5   movies_g             9999 non-null   object \n",
      " 6   oneline              9999 non-null   object \n",
      " 7   all_stars_director_  9999 non-null   object \n",
      " 8   all_stars            9999 non-null   object \n",
      "dtypes: float64(1), int64(2), object(6)\n",
      "memory usage: 703.2+ KB\n"
     ]
    }
   ],
   "source": [
    "df.info()"
   ]
  },
  {
   "cell_type": "markdown",
   "id": "1caf99fa",
   "metadata": {},
   "source": [
    "## null values of directors already filled"
   ]
  },
  {
   "cell_type": "code",
   "execution_count": 291,
   "id": "f667c94a",
   "metadata": {},
   "outputs": [
    {
     "data": {
      "text/html": [
       "<div>\n",
       "<style scoped>\n",
       "    .dataframe tbody tr th:only-of-type {\n",
       "        vertical-align: middle;\n",
       "    }\n",
       "\n",
       "    .dataframe tbody tr th {\n",
       "        vertical-align: top;\n",
       "    }\n",
       "\n",
       "    .dataframe thead th {\n",
       "        text-align: right;\n",
       "    }\n",
       "</style>\n",
       "<table border=\"1\" class=\"dataframe\">\n",
       "  <thead>\n",
       "    <tr style=\"text-align: right;\">\n",
       "      <th></th>\n",
       "      <th>movies</th>\n",
       "      <th>rating</th>\n",
       "      <th>one-line</th>\n",
       "      <th>votes</th>\n",
       "      <th>runtime</th>\n",
       "      <th>movies_g</th>\n",
       "      <th>oneline</th>\n",
       "      <th>all_stars_director_</th>\n",
       "      <th>all_stars</th>\n",
       "    </tr>\n",
       "  </thead>\n",
       "  <tbody>\n",
       "    <tr>\n",
       "      <th>6833</th>\n",
       "      <td>Mighty Little Bheem</td>\n",
       "      <td>0.0</td>\n",
       "      <td>Add a Plot</td>\n",
       "      <td>0</td>\n",
       "      <td>0</td>\n",
       "      <td>Animation,Short,Adventure</td>\n",
       "      <td>Add a Plot</td>\n",
       "      <td>Rajiv Chilaka,</td>\n",
       "      <td>None</td>\n",
       "    </tr>\n",
       "    <tr>\n",
       "      <th>6835</th>\n",
       "      <td>Mighty Little Bheem</td>\n",
       "      <td>9.0</td>\n",
       "      <td>Add a Plot</td>\n",
       "      <td>6</td>\n",
       "      <td>0</td>\n",
       "      <td>Animation,Short,Adventure</td>\n",
       "      <td>Add a Plot</td>\n",
       "      <td>Rajiv Chilaka,</td>\n",
       "      <td>None</td>\n",
       "    </tr>\n",
       "    <tr>\n",
       "      <th>6836</th>\n",
       "      <td>Mighty Little Bheem</td>\n",
       "      <td>9.0</td>\n",
       "      <td>Add a Plot</td>\n",
       "      <td>6</td>\n",
       "      <td>0</td>\n",
       "      <td>Animation,Short,Adventure</td>\n",
       "      <td>Add a Plot</td>\n",
       "      <td>Rajiv Chilaka,</td>\n",
       "      <td>None</td>\n",
       "    </tr>\n",
       "    <tr>\n",
       "      <th>6837</th>\n",
       "      <td>Mighty Little Bheem</td>\n",
       "      <td>0.0</td>\n",
       "      <td>Add a Plot</td>\n",
       "      <td>0</td>\n",
       "      <td>0</td>\n",
       "      <td>Animation,Short,Adventure</td>\n",
       "      <td>Add a Plot</td>\n",
       "      <td>Rajiv Chilaka,</td>\n",
       "      <td>None</td>\n",
       "    </tr>\n",
       "    <tr>\n",
       "      <th>6838</th>\n",
       "      <td>Mighty Little Bheem</td>\n",
       "      <td>0.0</td>\n",
       "      <td>Add a Plot</td>\n",
       "      <td>0</td>\n",
       "      <td>0</td>\n",
       "      <td>Animation,Short,Adventure</td>\n",
       "      <td>Add a Plot</td>\n",
       "      <td>Rajiv Chilaka,</td>\n",
       "      <td>None</td>\n",
       "    </tr>\n",
       "    <tr>\n",
       "      <th>...</th>\n",
       "      <td>...</td>\n",
       "      <td>...</td>\n",
       "      <td>...</td>\n",
       "      <td>...</td>\n",
       "      <td>...</td>\n",
       "      <td>...</td>\n",
       "      <td>...</td>\n",
       "      <td>...</td>\n",
       "      <td>...</td>\n",
       "    </tr>\n",
       "    <tr>\n",
       "      <th>9989</th>\n",
       "      <td>1899</td>\n",
       "      <td>0.0</td>\n",
       "      <td>Add a Plot</td>\n",
       "      <td>0</td>\n",
       "      <td>0</td>\n",
       "      <td>Drama,History,Horror</td>\n",
       "      <td>Add a Plot</td>\n",
       "      <td>Baran bo Odar</td>\n",
       "      <td>None</td>\n",
       "    </tr>\n",
       "    <tr>\n",
       "      <th>9990</th>\n",
       "      <td>1899</td>\n",
       "      <td>0.0</td>\n",
       "      <td>Add a Plot</td>\n",
       "      <td>0</td>\n",
       "      <td>0</td>\n",
       "      <td>Drama,History,Horror</td>\n",
       "      <td>Add a Plot</td>\n",
       "      <td>Baran bo Odar</td>\n",
       "      <td>None</td>\n",
       "    </tr>\n",
       "    <tr>\n",
       "      <th>9991</th>\n",
       "      <td>1899</td>\n",
       "      <td>0.0</td>\n",
       "      <td>Add a Plot</td>\n",
       "      <td>0</td>\n",
       "      <td>0</td>\n",
       "      <td>Drama,History,Horror</td>\n",
       "      <td>Add a Plot</td>\n",
       "      <td>Baran bo Odar</td>\n",
       "      <td>None</td>\n",
       "    </tr>\n",
       "    <tr>\n",
       "      <th>9992</th>\n",
       "      <td>1899</td>\n",
       "      <td>0.0</td>\n",
       "      <td>Add a Plot</td>\n",
       "      <td>0</td>\n",
       "      <td>0</td>\n",
       "      <td>Drama,History,Horror</td>\n",
       "      <td>Add a Plot</td>\n",
       "      <td>Baran bo Odar</td>\n",
       "      <td>None</td>\n",
       "    </tr>\n",
       "    <tr>\n",
       "      <th>9994</th>\n",
       "      <td>The Imperfects</td>\n",
       "      <td>0.0</td>\n",
       "      <td>Add a Plot</td>\n",
       "      <td>0</td>\n",
       "      <td>0</td>\n",
       "      <td>Adventure,Drama,Fantasy</td>\n",
       "      <td>Add a Plot</td>\n",
       "      <td>None</td>\n",
       "      <td>Morgan Taylor Campbell,Chris Cope,Iñaki Godoy,...</td>\n",
       "    </tr>\n",
       "  </tbody>\n",
       "</table>\n",
       "<p>441 rows × 9 columns</p>\n",
       "</div>"
      ],
      "text/plain": [
       "                    movies  rating    one-line  votes  runtime  \\\n",
       "6833   Mighty Little Bheem     0.0  Add a Plot      0        0   \n",
       "6835   Mighty Little Bheem     9.0  Add a Plot      6        0   \n",
       "6836   Mighty Little Bheem     9.0  Add a Plot      6        0   \n",
       "6837   Mighty Little Bheem     0.0  Add a Plot      0        0   \n",
       "6838   Mighty Little Bheem     0.0  Add a Plot      0        0   \n",
       "...                    ...     ...         ...    ...      ...   \n",
       "9989                  1899     0.0  Add a Plot      0        0   \n",
       "9990                  1899     0.0  Add a Plot      0        0   \n",
       "9991                  1899     0.0  Add a Plot      0        0   \n",
       "9992                  1899     0.0  Add a Plot      0        0   \n",
       "9994        The Imperfects     0.0  Add a Plot      0        0   \n",
       "\n",
       "                       movies_g     oneline all_stars_director_  \\\n",
       "6833  Animation,Short,Adventure  Add a Plot     Rajiv Chilaka,    \n",
       "6835  Animation,Short,Adventure  Add a Plot     Rajiv Chilaka,    \n",
       "6836  Animation,Short,Adventure  Add a Plot     Rajiv Chilaka,    \n",
       "6837  Animation,Short,Adventure  Add a Plot     Rajiv Chilaka,    \n",
       "6838  Animation,Short,Adventure  Add a Plot     Rajiv Chilaka,    \n",
       "...                         ...         ...                 ...   \n",
       "9989       Drama,History,Horror  Add a Plot       Baran bo Odar   \n",
       "9990       Drama,History,Horror  Add a Plot       Baran bo Odar   \n",
       "9991       Drama,History,Horror  Add a Plot       Baran bo Odar   \n",
       "9992       Drama,History,Horror  Add a Plot       Baran bo Odar   \n",
       "9994    Adventure,Drama,Fantasy  Add a Plot                None   \n",
       "\n",
       "                                              all_stars  \n",
       "6833                                               None  \n",
       "6835                                               None  \n",
       "6836                                               None  \n",
       "6837                                               None  \n",
       "6838                                               None  \n",
       "...                                                 ...  \n",
       "9989                                               None  \n",
       "9990                                               None  \n",
       "9991                                               None  \n",
       "9992                                               None  \n",
       "9994  Morgan Taylor Campbell,Chris Cope,Iñaki Godoy,...  \n",
       "\n",
       "[441 rows x 9 columns]"
      ]
     },
     "execution_count": 291,
     "metadata": {},
     "output_type": "execute_result"
    }
   ],
   "source": [
    "duplicate_rows = df[df.duplicated()]\n",
    "\n",
    "# Print the duplicate rows\n",
    "duplicate_rows\n"
   ]
  },
  {
   "cell_type": "code",
   "execution_count": 301,
   "id": "2989ca43",
   "metadata": {},
   "outputs": [
    {
     "ename": "SyntaxError",
     "evalue": "closing parenthesis ')' does not match opening parenthesis '[' (3073690411.py, line 1)",
     "output_type": "error",
     "traceback": [
      "\u001b[0;36m  Input \u001b[0;32mIn [301]\u001b[0;36m\u001b[0m\n\u001b[0;31m    df_loc = df.loc[(df[['all_stars_director_']== 'Baran bo Odar') & (df['movies_g']== 'Animation,Short,Adventure')]\u001b[0m\n\u001b[0m                                                                 ^\u001b[0m\n\u001b[0;31mSyntaxError\u001b[0m\u001b[0;31m:\u001b[0m closing parenthesis ')' does not match opening parenthesis '['\n"
     ]
    }
   ],
   "source": [
    "df_loc = df.loc[(df[['all_stars_director_']== 'Baran bo Odar') & (df['movies_g']== 'Animation,Short,Adventure')]\n",
    "# df_loc = df.loc[(df['all_stars_director_'] == 'Baran bo Odar') & (df['movies_g'] == 'Animation,Short,Adventure')]\n"
   ]
  },
  {
   "cell_type": "code",
   "execution_count": 295,
   "id": "550d3fc9",
   "metadata": {},
   "outputs": [
    {
     "data": {
      "text/html": [
       "<div>\n",
       "<style scoped>\n",
       "    .dataframe tbody tr th:only-of-type {\n",
       "        vertical-align: middle;\n",
       "    }\n",
       "\n",
       "    .dataframe tbody tr th {\n",
       "        vertical-align: top;\n",
       "    }\n",
       "\n",
       "    .dataframe thead th {\n",
       "        text-align: right;\n",
       "    }\n",
       "</style>\n",
       "<table border=\"1\" class=\"dataframe\">\n",
       "  <thead>\n",
       "    <tr style=\"text-align: right;\">\n",
       "      <th></th>\n",
       "      <th>movies</th>\n",
       "      <th>rating</th>\n",
       "      <th>one-line</th>\n",
       "      <th>votes</th>\n",
       "      <th>runtime</th>\n",
       "      <th>movies_g</th>\n",
       "      <th>oneline</th>\n",
       "      <th>all_stars_director_</th>\n",
       "      <th>all_stars</th>\n",
       "    </tr>\n",
       "  </thead>\n",
       "  <tbody>\n",
       "    <tr>\n",
       "      <th>7070</th>\n",
       "      <td>Dark</td>\n",
       "      <td>9.0</td>\n",
       "      <td>In 2019, Jonas emerges from the cave into a di...</td>\n",
       "      <td>12092</td>\n",
       "      <td>62</td>\n",
       "      <td>Crime,Drama,Mystery</td>\n",
       "      <td>In 2019, Jonas emerges from the cave into a di...</td>\n",
       "      <td>Baran bo Odar</td>\n",
       "      <td>Hans Diehl,Jakob Diehl,Claude Heinrich,Louis H...</td>\n",
       "    </tr>\n",
       "    <tr>\n",
       "      <th>7082</th>\n",
       "      <td>Dark</td>\n",
       "      <td>9.0</td>\n",
       "      <td>Clausen and Charlotte interview Regina. The St...</td>\n",
       "      <td>10355</td>\n",
       "      <td>54</td>\n",
       "      <td>Crime,Drama,Mystery</td>\n",
       "      <td>Clausen and Charlotte interview Regina. The St...</td>\n",
       "      <td>Baran bo Odar</td>\n",
       "      <td>Louis Hofmann,Daan Lennard Liebrenz,Anne Ratte...</td>\n",
       "    </tr>\n",
       "    <tr>\n",
       "      <th>7083</th>\n",
       "      <td>Dark</td>\n",
       "      <td>9.2</td>\n",
       "      <td>In 1954, a missing Helge returns, but he'll on...</td>\n",
       "      <td>10279</td>\n",
       "      <td>56</td>\n",
       "      <td>Crime,Drama,Mystery</td>\n",
       "      <td>In 1954, a missing Helge returns, but he'll on...</td>\n",
       "      <td>Baran bo Odar</td>\n",
       "      <td>Tom Philipp,Mark Waschke,Luise Heyer,Antje Traue</td>\n",
       "    </tr>\n",
       "    <tr>\n",
       "      <th>7084</th>\n",
       "      <td>Dark</td>\n",
       "      <td>9.5</td>\n",
       "      <td>Jonas meets an ominous figure. While the kids ...</td>\n",
       "      <td>11202</td>\n",
       "      <td>60</td>\n",
       "      <td>Crime,Drama,Mystery</td>\n",
       "      <td>Jonas meets an ominous figure. While the kids ...</td>\n",
       "      <td>Baran bo Odar</td>\n",
       "      <td>Louis Hofmann,Helena Pieske,Lisa Vicari,Sylves...</td>\n",
       "    </tr>\n",
       "    <tr>\n",
       "      <th>7085</th>\n",
       "      <td>Dark</td>\n",
       "      <td>9.3</td>\n",
       "      <td>In 1987, Ulrich seizes an opportunity. The kid...</td>\n",
       "      <td>10274</td>\n",
       "      <td>56</td>\n",
       "      <td>Crime,Drama,Mystery</td>\n",
       "      <td>In 1987, Ulrich seizes an opportunity. The kid...</td>\n",
       "      <td>Baran bo Odar</td>\n",
       "      <td>Lisa Vicari,Andreas Pietschmann,Louis Hofmann,...</td>\n",
       "    </tr>\n",
       "    <tr>\n",
       "      <th>7086</th>\n",
       "      <td>Dark</td>\n",
       "      <td>9.6</td>\n",
       "      <td>Armed with a plan to prevent the apocalypse, J...</td>\n",
       "      <td>12621</td>\n",
       "      <td>54</td>\n",
       "      <td>Crime,Drama,Mystery</td>\n",
       "      <td>Armed with a plan to prevent the apocalypse, J...</td>\n",
       "      <td>Baran bo Odar</td>\n",
       "      <td>Louis Hofmann,Sebastian Rudolph,Maja Schöne,Li...</td>\n",
       "    </tr>\n",
       "    <tr>\n",
       "      <th>7087</th>\n",
       "      <td>Dark</td>\n",
       "      <td>9.3</td>\n",
       "      <td>Martha meets the Stranger and learns his true ...</td>\n",
       "      <td>10209</td>\n",
       "      <td>58</td>\n",
       "      <td>Crime,Drama,Mystery</td>\n",
       "      <td>Martha meets the Stranger and learns his true ...</td>\n",
       "      <td>Baran bo Odar</td>\n",
       "      <td>Dietrich Hollinderbäumer,Lisa Vicari,Andreas P...</td>\n",
       "    </tr>\n",
       "    <tr>\n",
       "      <th>7088</th>\n",
       "      <td>Dark</td>\n",
       "      <td>9.5</td>\n",
       "      <td>On the day of the apocalypse, Clausen executes...</td>\n",
       "      <td>12762</td>\n",
       "      <td>57</td>\n",
       "      <td>Crime,Drama,Mystery</td>\n",
       "      <td>On the day of the apocalypse, Clausen executes...</td>\n",
       "      <td>Baran bo Odar</td>\n",
       "      <td>Sandra Borgmann,Karoline Eichhorn,Carlotta von...</td>\n",
       "    </tr>\n",
       "    <tr>\n",
       "      <th>8761</th>\n",
       "      <td>Dark</td>\n",
       "      <td>8.9</td>\n",
       "      <td>Martha travels to 1888 to warn her friends abo...</td>\n",
       "      <td>10984</td>\n",
       "      <td>60</td>\n",
       "      <td>Crime,Drama,Mystery</td>\n",
       "      <td>Martha travels to 1888 to warn her friends abo...</td>\n",
       "      <td>Baran bo Odar</td>\n",
       "      <td>Louis Hofmann,Lisa Vicari,Andreas Pietschmann,...</td>\n",
       "    </tr>\n",
       "    <tr>\n",
       "      <th>8762</th>\n",
       "      <td>Dark</td>\n",
       "      <td>8.9</td>\n",
       "      <td>Charlotte and Ulrich try to piece together wha...</td>\n",
       "      <td>10755</td>\n",
       "      <td>57</td>\n",
       "      <td>Crime,Drama,Mystery</td>\n",
       "      <td>Charlotte and Ulrich try to piece together wha...</td>\n",
       "      <td>Baran bo Odar</td>\n",
       "      <td>Axel Werner,Jakob Diehl,Louis Hofmann,Barbara ...</td>\n",
       "    </tr>\n",
       "    <tr>\n",
       "      <th>8763</th>\n",
       "      <td>Dark</td>\n",
       "      <td>9.1</td>\n",
       "      <td>Jonas and Martha travel to the year 2052 and g...</td>\n",
       "      <td>10922</td>\n",
       "      <td>64</td>\n",
       "      <td>Crime,Drama,Mystery</td>\n",
       "      <td>Jonas and Martha travel to the year 2052 and g...</td>\n",
       "      <td>Baran bo Odar</td>\n",
       "      <td>Joshio Marlon,Hans Diehl,Jakob Diehl,Claude He...</td>\n",
       "    </tr>\n",
       "    <tr>\n",
       "      <th>8764</th>\n",
       "      <td>Dark</td>\n",
       "      <td>9.4</td>\n",
       "      <td>In 2020, a visitor delivers a warning to Claud...</td>\n",
       "      <td>11905</td>\n",
       "      <td>64</td>\n",
       "      <td>Crime,Drama,Mystery</td>\n",
       "      <td>In 2020, a visitor delivers a warning to Claud...</td>\n",
       "      <td>Baran bo Odar</td>\n",
       "      <td>Julika Jenkins,Carlotta von Falkenhayn,Stephan...</td>\n",
       "    </tr>\n",
       "    <tr>\n",
       "      <th>8765</th>\n",
       "      <td>Dark</td>\n",
       "      <td>9.3</td>\n",
       "      <td>Adam holds Martha captive in 2020. On the day ...</td>\n",
       "      <td>11525</td>\n",
       "      <td>59</td>\n",
       "      <td>Crime,Drama,Mystery</td>\n",
       "      <td>Adam holds Martha captive in 2020. On the day ...</td>\n",
       "      <td>Baran bo Odar</td>\n",
       "      <td>Lisa Vicari,Louis Hofmann,Andreas Pietschmann,...</td>\n",
       "    </tr>\n",
       "    <tr>\n",
       "      <th>8766</th>\n",
       "      <td>Dark</td>\n",
       "      <td>9.6</td>\n",
       "      <td>Across three centuries, residents of Winden co...</td>\n",
       "      <td>15128</td>\n",
       "      <td>69</td>\n",
       "      <td>Crime,Drama,Mystery</td>\n",
       "      <td>Across three centuries, residents of Winden co...</td>\n",
       "      <td>Baran bo Odar</td>\n",
       "      <td>Arnd Klawitter,Lisa Vicari,Louis Hofmann,Paul Lux</td>\n",
       "    </tr>\n",
       "    <tr>\n",
       "      <th>8767</th>\n",
       "      <td>Dark</td>\n",
       "      <td>9.7</td>\n",
       "      <td>Claudia reveals to Adam how everything is conn...</td>\n",
       "      <td>20230</td>\n",
       "      <td>73</td>\n",
       "      <td>Crime,Drama,Mystery</td>\n",
       "      <td>Claudia reveals to Adam how everything is conn...</td>\n",
       "      <td>Baran bo Odar</td>\n",
       "      <td>Sebastian Rudolph,Louis Hofmann,Dietrich Holli...</td>\n",
       "    </tr>\n",
       "    <tr>\n",
       "      <th>9443</th>\n",
       "      <td>1899</td>\n",
       "      <td>0.0</td>\n",
       "      <td>Add a Plot</td>\n",
       "      <td>0</td>\n",
       "      <td>0</td>\n",
       "      <td>Drama,History,Horror</td>\n",
       "      <td>Add a Plot</td>\n",
       "      <td>Baran bo Odar</td>\n",
       "      <td>Aneurin Barnard,Anton Lesser,Mathilde Ollivier...</td>\n",
       "    </tr>\n",
       "    <tr>\n",
       "      <th>9980</th>\n",
       "      <td>1899</td>\n",
       "      <td>0.0</td>\n",
       "      <td>Add a Plot</td>\n",
       "      <td>0</td>\n",
       "      <td>0</td>\n",
       "      <td>Drama,History,Horror</td>\n",
       "      <td>Add a Plot</td>\n",
       "      <td>Baran bo Odar</td>\n",
       "      <td>None</td>\n",
       "    </tr>\n",
       "    <tr>\n",
       "      <th>9981</th>\n",
       "      <td>1899</td>\n",
       "      <td>0.0</td>\n",
       "      <td>Add a Plot</td>\n",
       "      <td>0</td>\n",
       "      <td>0</td>\n",
       "      <td>Drama,History,Horror</td>\n",
       "      <td>Add a Plot</td>\n",
       "      <td>Baran bo Odar</td>\n",
       "      <td>None</td>\n",
       "    </tr>\n",
       "    <tr>\n",
       "      <th>9982</th>\n",
       "      <td>1899</td>\n",
       "      <td>0.0</td>\n",
       "      <td>Add a Plot</td>\n",
       "      <td>0</td>\n",
       "      <td>0</td>\n",
       "      <td>Drama,History,Horror</td>\n",
       "      <td>Add a Plot</td>\n",
       "      <td>Baran bo Odar</td>\n",
       "      <td>None</td>\n",
       "    </tr>\n",
       "    <tr>\n",
       "      <th>9989</th>\n",
       "      <td>1899</td>\n",
       "      <td>0.0</td>\n",
       "      <td>Add a Plot</td>\n",
       "      <td>0</td>\n",
       "      <td>0</td>\n",
       "      <td>Drama,History,Horror</td>\n",
       "      <td>Add a Plot</td>\n",
       "      <td>Baran bo Odar</td>\n",
       "      <td>None</td>\n",
       "    </tr>\n",
       "    <tr>\n",
       "      <th>9990</th>\n",
       "      <td>1899</td>\n",
       "      <td>0.0</td>\n",
       "      <td>Add a Plot</td>\n",
       "      <td>0</td>\n",
       "      <td>0</td>\n",
       "      <td>Drama,History,Horror</td>\n",
       "      <td>Add a Plot</td>\n",
       "      <td>Baran bo Odar</td>\n",
       "      <td>None</td>\n",
       "    </tr>\n",
       "    <tr>\n",
       "      <th>9991</th>\n",
       "      <td>1899</td>\n",
       "      <td>0.0</td>\n",
       "      <td>Add a Plot</td>\n",
       "      <td>0</td>\n",
       "      <td>0</td>\n",
       "      <td>Drama,History,Horror</td>\n",
       "      <td>Add a Plot</td>\n",
       "      <td>Baran bo Odar</td>\n",
       "      <td>None</td>\n",
       "    </tr>\n",
       "    <tr>\n",
       "      <th>9992</th>\n",
       "      <td>1899</td>\n",
       "      <td>0.0</td>\n",
       "      <td>Add a Plot</td>\n",
       "      <td>0</td>\n",
       "      <td>0</td>\n",
       "      <td>Drama,History,Horror</td>\n",
       "      <td>Add a Plot</td>\n",
       "      <td>Baran bo Odar</td>\n",
       "      <td>None</td>\n",
       "    </tr>\n",
       "  </tbody>\n",
       "</table>\n",
       "</div>"
      ],
      "text/plain": [
       "     movies  rating                                           one-line  votes  \\\n",
       "7070   Dark     9.0  In 2019, Jonas emerges from the cave into a di...  12092   \n",
       "7082   Dark     9.0  Clausen and Charlotte interview Regina. The St...  10355   \n",
       "7083   Dark     9.2  In 1954, a missing Helge returns, but he'll on...  10279   \n",
       "7084   Dark     9.5  Jonas meets an ominous figure. While the kids ...  11202   \n",
       "7085   Dark     9.3  In 1987, Ulrich seizes an opportunity. The kid...  10274   \n",
       "7086   Dark     9.6  Armed with a plan to prevent the apocalypse, J...  12621   \n",
       "7087   Dark     9.3  Martha meets the Stranger and learns his true ...  10209   \n",
       "7088   Dark     9.5  On the day of the apocalypse, Clausen executes...  12762   \n",
       "8761   Dark     8.9  Martha travels to 1888 to warn her friends abo...  10984   \n",
       "8762   Dark     8.9  Charlotte and Ulrich try to piece together wha...  10755   \n",
       "8763   Dark     9.1  Jonas and Martha travel to the year 2052 and g...  10922   \n",
       "8764   Dark     9.4  In 2020, a visitor delivers a warning to Claud...  11905   \n",
       "8765   Dark     9.3  Adam holds Martha captive in 2020. On the day ...  11525   \n",
       "8766   Dark     9.6  Across three centuries, residents of Winden co...  15128   \n",
       "8767   Dark     9.7  Claudia reveals to Adam how everything is conn...  20230   \n",
       "9443   1899     0.0                                         Add a Plot      0   \n",
       "9980   1899     0.0                                         Add a Plot      0   \n",
       "9981   1899     0.0                                         Add a Plot      0   \n",
       "9982   1899     0.0                                         Add a Plot      0   \n",
       "9989   1899     0.0                                         Add a Plot      0   \n",
       "9990   1899     0.0                                         Add a Plot      0   \n",
       "9991   1899     0.0                                         Add a Plot      0   \n",
       "9992   1899     0.0                                         Add a Plot      0   \n",
       "\n",
       "      runtime              movies_g  \\\n",
       "7070       62   Crime,Drama,Mystery   \n",
       "7082       54   Crime,Drama,Mystery   \n",
       "7083       56   Crime,Drama,Mystery   \n",
       "7084       60   Crime,Drama,Mystery   \n",
       "7085       56   Crime,Drama,Mystery   \n",
       "7086       54   Crime,Drama,Mystery   \n",
       "7087       58   Crime,Drama,Mystery   \n",
       "7088       57   Crime,Drama,Mystery   \n",
       "8761       60   Crime,Drama,Mystery   \n",
       "8762       57   Crime,Drama,Mystery   \n",
       "8763       64   Crime,Drama,Mystery   \n",
       "8764       64   Crime,Drama,Mystery   \n",
       "8765       59   Crime,Drama,Mystery   \n",
       "8766       69   Crime,Drama,Mystery   \n",
       "8767       73   Crime,Drama,Mystery   \n",
       "9443        0  Drama,History,Horror   \n",
       "9980        0  Drama,History,Horror   \n",
       "9981        0  Drama,History,Horror   \n",
       "9982        0  Drama,History,Horror   \n",
       "9989        0  Drama,History,Horror   \n",
       "9990        0  Drama,History,Horror   \n",
       "9991        0  Drama,History,Horror   \n",
       "9992        0  Drama,History,Horror   \n",
       "\n",
       "                                                oneline all_stars_director_  \\\n",
       "7070  In 2019, Jonas emerges from the cave into a di...       Baran bo Odar   \n",
       "7082  Clausen and Charlotte interview Regina. The St...       Baran bo Odar   \n",
       "7083  In 1954, a missing Helge returns, but he'll on...       Baran bo Odar   \n",
       "7084  Jonas meets an ominous figure. While the kids ...       Baran bo Odar   \n",
       "7085  In 1987, Ulrich seizes an opportunity. The kid...       Baran bo Odar   \n",
       "7086  Armed with a plan to prevent the apocalypse, J...       Baran bo Odar   \n",
       "7087  Martha meets the Stranger and learns his true ...       Baran bo Odar   \n",
       "7088  On the day of the apocalypse, Clausen executes...       Baran bo Odar   \n",
       "8761  Martha travels to 1888 to warn her friends abo...       Baran bo Odar   \n",
       "8762  Charlotte and Ulrich try to piece together wha...       Baran bo Odar   \n",
       "8763  Jonas and Martha travel to the year 2052 and g...       Baran bo Odar   \n",
       "8764  In 2020, a visitor delivers a warning to Claud...       Baran bo Odar   \n",
       "8765  Adam holds Martha captive in 2020. On the day ...       Baran bo Odar   \n",
       "8766  Across three centuries, residents of Winden co...       Baran bo Odar   \n",
       "8767  Claudia reveals to Adam how everything is conn...       Baran bo Odar   \n",
       "9443                                         Add a Plot       Baran bo Odar   \n",
       "9980                                         Add a Plot       Baran bo Odar   \n",
       "9981                                         Add a Plot       Baran bo Odar   \n",
       "9982                                         Add a Plot       Baran bo Odar   \n",
       "9989                                         Add a Plot       Baran bo Odar   \n",
       "9990                                         Add a Plot       Baran bo Odar   \n",
       "9991                                         Add a Plot       Baran bo Odar   \n",
       "9992                                         Add a Plot       Baran bo Odar   \n",
       "\n",
       "                                              all_stars  \n",
       "7070  Hans Diehl,Jakob Diehl,Claude Heinrich,Louis H...  \n",
       "7082  Louis Hofmann,Daan Lennard Liebrenz,Anne Ratte...  \n",
       "7083   Tom Philipp,Mark Waschke,Luise Heyer,Antje Traue  \n",
       "7084  Louis Hofmann,Helena Pieske,Lisa Vicari,Sylves...  \n",
       "7085  Lisa Vicari,Andreas Pietschmann,Louis Hofmann,...  \n",
       "7086  Louis Hofmann,Sebastian Rudolph,Maja Schöne,Li...  \n",
       "7087  Dietrich Hollinderbäumer,Lisa Vicari,Andreas P...  \n",
       "7088  Sandra Borgmann,Karoline Eichhorn,Carlotta von...  \n",
       "8761  Louis Hofmann,Lisa Vicari,Andreas Pietschmann,...  \n",
       "8762  Axel Werner,Jakob Diehl,Louis Hofmann,Barbara ...  \n",
       "8763  Joshio Marlon,Hans Diehl,Jakob Diehl,Claude He...  \n",
       "8764  Julika Jenkins,Carlotta von Falkenhayn,Stephan...  \n",
       "8765  Lisa Vicari,Louis Hofmann,Andreas Pietschmann,...  \n",
       "8766  Arnd Klawitter,Lisa Vicari,Louis Hofmann,Paul Lux  \n",
       "8767  Sebastian Rudolph,Louis Hofmann,Dietrich Holli...  \n",
       "9443  Aneurin Barnard,Anton Lesser,Mathilde Ollivier...  \n",
       "9980                                               None  \n",
       "9981                                               None  \n",
       "9982                                               None  \n",
       "9989                                               None  \n",
       "9990                                               None  \n",
       "9991                                               None  \n",
       "9992                                               None  "
      ]
     },
     "execution_count": 295,
     "metadata": {},
     "output_type": "execute_result"
    }
   ],
   "source": [
    "df_loc"
   ]
  },
  {
   "cell_type": "code",
   "execution_count": null,
   "id": "98fc5a1e",
   "metadata": {},
   "outputs": [],
   "source": []
  }
 ],
 "metadata": {
  "kernelspec": {
   "display_name": "Python 3 (ipykernel)",
   "language": "python",
   "name": "python3"
  },
  "language_info": {
   "codemirror_mode": {
    "name": "ipython",
    "version": 3
   },
   "file_extension": ".py",
   "mimetype": "text/x-python",
   "name": "python",
   "nbconvert_exporter": "python",
   "pygments_lexer": "ipython3",
   "version": "3.9.12"
  }
 },
 "nbformat": 4,
 "nbformat_minor": 5
}
